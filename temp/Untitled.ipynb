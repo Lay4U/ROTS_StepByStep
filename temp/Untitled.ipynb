{
 "cells": [
  {
   "cell_type": "code",
   "execution_count": null,
   "metadata": {},
   "outputs": [
    {
     "name": "stderr",
     "output_type": "stream",
     "text": [
      "Using TensorFlow backend.\n"
     ]
    },
    {
     "name": "stdout",
     "output_type": "stream",
     "text": [
      "Epoch 1/10\n"
     ]
    }
   ],
   "source": [
    "import numpy as np\n",
    "import pandas as pd\n",
    "from keras.models import Sequential\n",
    "from keras.layers import Dense, LSTM, Dropout\n",
    "from keras.layers.core import Dense, Activation, Dropout\n",
    "from sklearn.preprocessing import MinMaxScaler\n",
    "from sklearn.metrics import mean_squared_error\n",
    "import matplotlib.pyplot as plt\n",
    "\n",
    "def create_dataset(signal_data, look_back=1):\n",
    "    dataX, dataY = [], []\n",
    "    for i in range(len(signal_data) - look_back):\n",
    "        dataX.append(signal_data[i:(i + look_back), 0])\n",
    "        dataY.append(signal_data[i + look_back, 0])\n",
    "    return np.array(dataX), np.array(dataY)\n",
    "\n",
    "\n",
    "\n",
    "look_back = 10\n",
    "\n",
    "# 1. 데이터셋 생성하기\n",
    "#signal_data = np.cos(np.arange(1600) * (20 * np.pi / 1000))[:, None]\n",
    "df = pd.read_csv('test.csv')\n",
    "signal_data = df.Close.values.astype('float32')\n",
    "signal_data = signal_data.reshape(len(df), 1)\n",
    "\n",
    "scaler = MinMaxScaler(feature_range=(0, 1))\n",
    "signal_data = scaler.fit_transform(signal_data)\n",
    "\n",
    "\n",
    "train_size = int(len(signal_data) * 0.80)\n",
    "test_size = len(signal_data) - train_size\n",
    "train, test = signal_data[0:train_size,:], signal_data[train_size:len(signal_data),:]\n",
    "\n",
    "trainX, trainY = create_dataset(train, look_back)\n",
    "testX, testY = create_dataset(test, look_back)\n",
    "\n",
    "trainX = np.reshape(trainX, (trainX.shape[0], trainX.shape[1], 1))\n",
    "testX = np.reshape(testX, (testX.shape[0], testX.shape[1], 1 ))\n",
    "\n",
    "model = Sequential()\n",
    "model.add(LSTM(32, input_shape=(look_back, 1)))\n",
    "model.add(Dropout(0.3))\n",
    "model.add(Dense(1))\n",
    "\n",
    "# 3. 모델 학습과정 설정하기\n",
    "model.compile(loss='mean_squared_error', optimizer='adam')\n",
    "\n",
    "# 4. 모델 학습시키기\n",
    "hist = model.fit(trainX, trainY, epochs=10, batch_size=16)\n",
    "\n",
    "# # 6. 모델 평가하기\n",
    "# trainScore = model.evaluate(trainX, trainY, verbose=0)\n",
    "# model.reset_states()\n",
    "# print('Train Score: ', trainScore)\n",
    "# # valScore = model.evaluate(x_val, y_val, verbose=0)\n",
    "# model.reset_states()\n",
    "# # print('Validataion Score: ', valScore)\n",
    "# testScore = model.evaluate(testX, testY, verbose=0)\n",
    "# model.reset_states()\n",
    "# print('Test Score: ', testScore)"
   ]
  },
  {
   "cell_type": "code",
   "execution_count": 84,
   "metadata": {},
   "outputs": [
    {
     "name": "stdout",
     "output_type": "stream",
     "text": [
      "(137, 10, 1)\n",
      "(137,)\n"
     ]
    }
   ],
   "source": [
    "print(testX.shape)\n",
    "print(testY.shape)"
   ]
  },
  {
   "cell_type": "code",
   "execution_count": 91,
   "metadata": {},
   "outputs": [
    {
     "name": "stdout",
     "output_type": "stream",
     "text": [
      "         Date  Close\n",
      "0  2016-01-01    145\n",
      "1  2016-01-01    116\n",
      "2  2016-01-02    288\n",
      "3  2016-01-02    181\n",
      "4  2016-01-03    198\n",
      "732\n"
     ]
    }
   ],
   "source": [
    "print(df.head(5))\n",
    "print(len(df))"
   ]
  },
  {
   "cell_type": "code",
   "execution_count": 86,
   "metadata": {},
   "outputs": [
    {
     "data": {
      "image/png": "[encoded data removed]",
      "text/plain": [
       "<Figure size 432x288 with 1 Axes>"
      ]
     },
     "metadata": {
      "needs_background": "light"
     },
     "output_type": "display_data"
    }
   ],
   "source": [
    "p = model.predict(testX)\n",
    "plt.plot(testY)\n",
    "plt.plot(p)\n",
    "plt.legend(['testY', 'p'], loc='upper right')\n",
    "plt.show()"
   ]
  },
  {
   "cell_type": "code",
   "execution_count": 87,
   "metadata": {},
   "outputs": [
    {
     "data": {
      "text/plain": [
       "array([[2.5551279],\n",
       "       [2.5551279],\n",
       "       [2.5551279],\n",
       "       [2.5551279],\n",
       "       [2.5551279],\n",
       "       [2.5551279],\n",
       "       [2.5551279],\n",
       "       [2.5551279],\n",
       "       [2.5551279],\n",
       "       [2.5551279],\n",
       "       [2.5551279],\n",
       "       [2.555113 ],\n",
       "       [2.5549586],\n",
       "       [2.5508378],\n",
       "       [2.5551279],\n",
       "       [2.5551279],\n",
       "       [2.5551279],\n",
       "       [2.5551279],\n",
       "       [2.5551279],\n",
       "       [2.5551279],\n",
       "       [2.5551279],\n",
       "       [2.5551279],\n",
       "       [2.5551279],\n",
       "       [2.5551279],\n",
       "       [2.5551279],\n",
       "       [2.555074 ],\n",
       "       [2.555122 ],\n",
       "       [2.5529087],\n",
       "       [2.5551279],\n",
       "       [2.5551279],\n",
       "       [2.5551279],\n",
       "       [2.5551279],\n",
       "       [2.5551279],\n",
       "       [2.5551279],\n",
       "       [2.5551279],\n",
       "       [2.5551279],\n",
       "       [2.5551279],\n",
       "       [2.5551279],\n",
       "       [2.5551279],\n",
       "       [2.5551198],\n",
       "       [2.554921 ],\n",
       "       [2.5500312],\n",
       "       [2.5551279],\n",
       "       [2.5551279],\n",
       "       [2.5551279],\n",
       "       [2.5551279],\n",
       "       [2.5551279],\n",
       "       [2.5551279],\n",
       "       [2.5551279],\n",
       "       [2.5551279],\n",
       "       [2.5551279],\n",
       "       [2.5551279],\n",
       "       [2.5551276],\n",
       "       [2.555114 ],\n",
       "       [2.5550144],\n",
       "       [2.553259 ],\n",
       "       [2.5551279],\n",
       "       [2.5551279],\n",
       "       [2.5551279],\n",
       "       [2.5551279],\n",
       "       [2.5551279],\n",
       "       [2.5551279],\n",
       "       [2.5551279],\n",
       "       [2.5551279],\n",
       "       [2.5551279],\n",
       "       [2.5551279],\n",
       "       [2.5551276],\n",
       "       [2.5551112],\n",
       "       [2.555069 ],\n",
       "       [2.5510767],\n",
       "       [2.5551279],\n",
       "       [2.5551279],\n",
       "       [2.5551279],\n",
       "       [2.5551279],\n",
       "       [2.5551279],\n",
       "       [2.5551279],\n",
       "       [2.5551279],\n",
       "       [2.5551279],\n",
       "       [2.5551279],\n",
       "       [2.5551279],\n",
       "       [2.5551279],\n",
       "       [2.5551207],\n",
       "       [2.554989 ],\n",
       "       [2.5507126],\n",
       "       [2.5551279],\n",
       "       [2.5551279],\n",
       "       [2.5551279],\n",
       "       [2.5551279],\n",
       "       [2.5551279],\n",
       "       [2.5551279],\n",
       "       [2.5551279],\n",
       "       [2.5551279],\n",
       "       [2.5551279],\n",
       "       [2.5551279],\n",
       "       [2.5551274],\n",
       "       [2.5551007],\n",
       "       [2.555032 ],\n",
       "       [2.550031 ],\n",
       "       [2.5551279],\n",
       "       [2.5551279],\n",
       "       [2.5551279],\n",
       "       [2.5551279],\n",
       "       [2.5551279],\n",
       "       [2.5551279],\n",
       "       [2.5551279],\n",
       "       [2.5551279],\n",
       "       [2.5551279],\n",
       "       [2.5551279],\n",
       "       [2.555127 ],\n",
       "       [2.5551062],\n",
       "       [2.5550077],\n",
       "       [2.5519073],\n",
       "       [2.5551279],\n",
       "       [2.5551279],\n",
       "       [2.5551279],\n",
       "       [2.5551279],\n",
       "       [2.5551279],\n",
       "       [2.5551279],\n",
       "       [2.5551279],\n",
       "       [2.5551279],\n",
       "       [2.5551279],\n",
       "       [2.5551279],\n",
       "       [2.555126 ],\n",
       "       [2.5550883],\n",
       "       [2.5548193],\n",
       "       [2.5477216],\n",
       "       [2.5551279],\n",
       "       [2.5551279],\n",
       "       [2.5551279],\n",
       "       [2.5551279],\n",
       "       [2.5551279],\n",
       "       [2.5551279],\n",
       "       [2.5551279],\n",
       "       [2.5551279],\n",
       "       [2.5551279],\n",
       "       [2.5551279],\n",
       "       [2.5551245]], dtype=float32)"
      ]
     },
     "execution_count": 87,
     "metadata": {},
     "output_type": "execute_result"
    }
   ],
   "source": [
    "p"
   ]
  },
  {
   "cell_type": "code",
   "execution_count": 52,
   "metadata": {},
   "outputs": [],
   "source": [
    "trainX = trainX.reshape(39, 1)"
   ]
  },
  {
   "cell_type": "code",
   "execution_count": 1,
   "metadata": {},
   "outputs": [
    {
     "ename": "ModuleNotFoundError",
     "evalue": "No module named 'tools'",
     "output_type": "error",
     "traceback": [
      "\u001b[1;31m---------------------------------------------------------------------------\u001b[0m",
      "\u001b[1;31mModuleNotFoundError\u001b[0m                       Traceback (most recent call last)",
      "\u001b[1;32m<ipython-input-1-ffc9b9d6ea59>\u001b[0m in \u001b[0;36m<module>\u001b[1;34m\u001b[0m\n\u001b[0;32m      4\u001b[0m \u001b[1;32mimport\u001b[0m \u001b[0mnumpy\u001b[0m \u001b[1;32mas\u001b[0m \u001b[0mnp\u001b[0m\u001b[1;33m\u001b[0m\u001b[0m\n\u001b[0;32m      5\u001b[0m \u001b[1;32mimport\u001b[0m \u001b[0mtensorflow\u001b[0m \u001b[1;32mas\u001b[0m \u001b[0mtf\u001b[0m\u001b[1;33m\u001b[0m\u001b[0m\n\u001b[1;32m----> 6\u001b[1;33m \u001b[1;32mfrom\u001b[0m \u001b[0mevaluate_ts\u001b[0m \u001b[1;32mimport\u001b[0m \u001b[0mevaluate_ts\u001b[0m\u001b[1;33m\u001b[0m\u001b[0m\n\u001b[0m\u001b[0;32m      7\u001b[0m \u001b[1;32mfrom\u001b[0m \u001b[0mtensorflow\u001b[0m\u001b[1;33m.\u001b[0m\u001b[0mcontrib\u001b[0m \u001b[1;32mimport\u001b[0m \u001b[0mrnn\u001b[0m\u001b[1;33m\u001b[0m\u001b[0m\n\u001b[0;32m      8\u001b[0m \u001b[1;32mfrom\u001b[0m \u001b[0mtools\u001b[0m \u001b[1;32mimport\u001b[0m \u001b[0mfetch_stock_price\u001b[0m\u001b[1;33m,\u001b[0m \u001b[0mformat_dataset\u001b[0m\u001b[1;33m\u001b[0m\u001b[0m\n",
      "\u001b[1;32m~\\Python\\RTOS\\temp\\evaluate_ts.py\u001b[0m in \u001b[0;36m<module>\u001b[1;34m\u001b[0m\n\u001b[0;32m      1\u001b[0m \u001b[1;32mimport\u001b[0m \u001b[0mnumpy\u001b[0m \u001b[1;32mas\u001b[0m \u001b[0mnp\u001b[0m\u001b[1;33m\u001b[0m\u001b[0m\n\u001b[0;32m      2\u001b[0m \u001b[1;32mfrom\u001b[0m \u001b[0mmatplotlib\u001b[0m \u001b[1;32mimport\u001b[0m \u001b[0mpylab\u001b[0m \u001b[1;32mas\u001b[0m \u001b[0mplt\u001b[0m\u001b[1;33m\u001b[0m\u001b[0m\n\u001b[1;32m----> 3\u001b[1;33m \u001b[1;32mfrom\u001b[0m \u001b[0mtools\u001b[0m \u001b[1;32mimport\u001b[0m \u001b[0mmatrix_to_array\u001b[0m\u001b[1;33m\u001b[0m\u001b[0m\n\u001b[0m\u001b[0;32m      4\u001b[0m \u001b[1;33m\u001b[0m\u001b[0m\n\u001b[0;32m      5\u001b[0m \u001b[1;32mdef\u001b[0m \u001b[0mevaluate_ts\u001b[0m\u001b[1;33m(\u001b[0m\u001b[0mfeatures\u001b[0m\u001b[1;33m,\u001b[0m \u001b[0my_true\u001b[0m\u001b[1;33m,\u001b[0m \u001b[0my_pred\u001b[0m\u001b[1;33m)\u001b[0m\u001b[1;33m:\u001b[0m\u001b[1;33m\u001b[0m\u001b[0m\n",
      "\u001b[1;31mModuleNotFoundError\u001b[0m: No module named 'tools'"
     ]
    }
   ],
   "source": [
    "import datetime\n",
    "\n",
    "import matplotlib.pyplot as plt\n",
    "import numpy as np\n",
    "import tensorflow as tf\n",
    "from evaluate_ts import evaluate_ts\n",
    "from tensorflow.contrib import rnn\n",
    "from tools import fetch_stock_price, format_dataset\n",
    "\n",
    "tf.reset_default_graph()\n",
    "tf.set_random_seed(101)\n",
    "np.random.seed(101)\n",
    "\n",
    "# Settings for the dataset creation\n",
    "symbol = \"MSFT\"\n",
    "time_dimension = 20\n",
    "train_size = 252\n",
    "test_size = 252 - time_dimension\n",
    "\n",
    "# Settings for tensorflow\n",
    "learning_rate = 0.001\n",
    "optimizer = tf.train.AdagradOptimizer\n",
    "n_epochs = 100\n",
    "n_embeddings = 128\n",
    "\n",
    "if True:  # prod values\n",
    "    learning_rate = 0.1\n",
    "    n_epochs = 5000\n",
    "    n_embeddings = 256\n",
    "\n",
    "# Fetch the values, and prepare the train/test split\n",
    "stock_values = fetch_stock_price(symbol, datetime.date(2015, 1, 1), datetime.date(2016, 12, 31))\n",
    "minibatch_cos_X, minibatch_cos_y = format_dataset(stock_values, time_dimension)\n",
    "\n",
    "train_X = minibatch_cos_X[:train_size, :].astype(np.float32)\n",
    "train_y = minibatch_cos_y[:train_size].reshape((-1, 1)).astype(np.float32)\n",
    "test_X = minibatch_cos_X[train_size:, :].astype(np.float32)\n",
    "test_y = minibatch_cos_y[train_size:].reshape((-1, 1)).astype(np.float32)\n",
    "\n",
    "train_X_ts = train_X[:, :, np.newaxis]\n",
    "test_X_ts = test_X[:, :, np.newaxis]\n",
    "\n",
    "# Here, the tensorflow code\n",
    "X_tf = tf.placeholder(\"float\", shape=(None, time_dimension, 1), name=\"X\")\n",
    "y_tf = tf.placeholder(\"float\", shape=(None, 1), name=\"y\")\n",
    "\n",
    "\n",
    "# Here the model: a LSTM\n",
    "def RNN(x, weights, biases):\n",
    "    x_ = tf.unstack(x, time_dimension, 1)\n",
    "    lstm_cell = rnn.BasicLSTMCell(n_embeddings)\n",
    "    outputs, _ = rnn.static_rnn(lstm_cell, x_, dtype=tf.float32)\n",
    "    return tf.add(biases, tf.matmul(outputs[-1], weights))\n",
    "\n",
    "\n",
    "# Store layers weight & bias\n",
    "weights = tf.Variable(tf.truncated_normal([n_embeddings, 1], mean=0.0, stddev=10.0), name=\"weights\")\n",
    "biases = tf.Variable(tf.zeros([1]), name=\"bias\")\n",
    "\n",
    "\n",
    "# Model, cost and optimizer\n",
    "y_pred = RNN(X_tf, weights, biases)\n",
    "cost = tf.reduce_mean(tf.square(y_tf - y_pred))\n",
    "train_op = optimizer(learning_rate).minimize(cost)\n",
    "\n",
    "\n",
    "with tf.Session() as sess:\n",
    "    sess.run(tf.global_variables_initializer())\n",
    "\n",
    "    # For each epoch, the whole training set is feeded into the tensorflow graph\n",
    "    for i in range(n_epochs):\n",
    "        train_cost, _ = sess.run([cost, train_op], feed_dict={X_tf: train_X_ts, y_tf: train_y})\n",
    "        if i%100 == 0:\n",
    "            print(\"Training iteration\", i, \"MSE\", train_cost)\n",
    "\n",
    "    # After the training, let's check the performance on the test set\n",
    "    test_cost, y_pr = sess.run([cost, y_pred], feed_dict={X_tf: test_X_ts, y_tf: test_y})\n",
    "    print(\"Test dataset:\", test_cost)\n",
    "\n",
    "    # Evaluate the results\n",
    "    evaluate_ts(test_X, test_y, y_pr)\n",
    "\n",
    "    # How does the predicted look like?\n",
    "    plt.plot(range(len(stock_values)), stock_values, 'b')\n",
    "    plt.plot(range(len(stock_values)-test_size, len(stock_values)), y_pr, 'r--')\n",
    "    plt.xlabel(\"Days\")\n",
    "    plt.ylabel(\"Predicted and true values\")\n",
    "    plt.title(\"Predicted (Red) VS Real (Blue)\")\n",
    "    plt.show()\n"
   ]
  },
  {
   "cell_type": "code",
   "execution_count": 7,
   "metadata": {},
   "outputs": [],
   "source": [
    "# 0. 사용할 패키지 불러오기\n",
    "import numpy as np\n",
    "import pandas as pd\n",
    "from keras.models import Sequential\n",
    "from keras.layers import Dense, LSTM, Dropout\n",
    "from keras.layers.core import Dense, Activation, Dropout\n",
    "from sklearn.preprocessing import MinMaxScaler\n",
    "from sklearn.metrics import mean_squared_error\n",
    "import tensorflow as tf\n",
    "import matplotlib.pyplot as plt\n",
    "import pandas as pd\n",
    "from sklearn.ensemble import RandomForestClassifier\n",
    "from sklearn import preprocessing\n",
    "from sklearn.ensemble.forest import RandomForestRegressor\n",
    "from sklearn.metrics import f1_score, precision_score, confusion_matrix, recall_score, accuracy_score\n",
    "from sklearn.model_selection import train_test_split\n",
    "\n",
    "config = tf.ConfigProto()\n",
    "config.gpu_options.allow_growth=True\n",
    "sess = tf.Session(config=config)\n",
    "def create_dataset(signal_data, look_back=1):\n",
    "    dataX, dataY = [], []\n",
    "    for i in range(len(signal_data) - look_back):\n",
    "        dataX.append(signal_data[i:(i + look_back), 0])\n",
    "        dataY.append(signal_data[i + look_back, 0])\n",
    "    return np.array(dataX), np.array(dataY)\n",
    "\n",
    "\n",
    "look_back = 1\n",
    "\n",
    "# 1. 데이터셋 생성하기\n",
    "\n",
    "df = pd.read_csv('kospi.csv')\n",
    "signal_data = df.Close.values.astype('float32')\n",
    "signal_data = signal_data.reshape(len(df), 1)\n",
    "\n",
    "# 데이터 전처리\n",
    "# scaler = MinMaxScaler(feature_range=(0, 1))\n",
    "# signal_data = scaler.fit_transform(signal_data)\n",
    "\n",
    "# 데이터 분리\n",
    "# train = signal_data[0:800]\n",
    "# val = signal_data[800:1200]\n",
    "# test = signal_data[1200:]\n",
    "train_size = int(len(signal_data) * 0.80)\n",
    "test_size = len(signal_data) - train_size - int(len(signal_data) * 0.05)\n",
    "val_size = len(signal_data) - train_size - test_size\n",
    "train = signal_data[0:train_size]\n",
    "val = signal_data[train_size:train_size+val_size]\n",
    "test = signal_data[train_size+val_size:len(signal_data)]\n",
    "# train, test = stock_price[0:train_size,:], stock_price[train_size:len(stock_price),:]\n",
    "\n",
    "# 데이터셋 생성\n",
    "x_train, y_train = create_dataset(train, look_back)\n",
    "x_val, y_val = create_dataset(val, look_back)\n",
    "x_test, y_test = create_dataset(test, look_back)\n",
    "\n",
    "# 데이터셋 전처리\n",
    "# x_train = np.reshape(x_train, (x_train.shape[0], x_train.shape[1]))\n",
    "# x_val = np.reshape(x_val, (x_val.shape[0], x_val.shape[1]))\n",
    "# x_test = np.reshape(x_test, (x_test.shape[0], x_test.shape[1]))\n",
    "\n",
    "# 2. 모델 구성하기\n",
    "# LSTM"
   ]
  },
  {
   "cell_type": "code",
   "execution_count": 9,
   "metadata": {},
   "outputs": [
    {
     "data": {
      "text/plain": [
       "40"
      ]
     },
     "execution_count": 9,
     "metadata": {},
     "output_type": "execute_result"
    }
   ],
   "source": [
    "train_size"
   ]
  },
  {
   "cell_type": "code",
   "execution_count": 5,
   "metadata": {},
   "outputs": [
    {
     "data": {
      "text/plain": [
       "(8, 1)"
      ]
     },
     "execution_count": 5,
     "metadata": {},
     "output_type": "execute_result"
    }
   ],
   "source": [
    "test.shape"
   ]
  },
  {
   "cell_type": "code",
   "execution_count": null,
   "metadata": {},
   "outputs": [],
   "source": [
    "x_train, x_test, y_train, y_test = train_test_split(train, test, train_size = 0.8)\n",
    "\n",
    "RF_Model = RandomForestRegressor(n_estimators=100,\n",
    "                                 max_features=1, oob_score=True)\n",
    "rgr=RF_Model.fit(x_train, y_train)\n",
    "X_test_predict = pd.DataFrame(\n",
    "    rgr.predict(x_test[:, None])).rename(\n",
    "    columns={0: 'predicted_price'}).set_index('predicted_price')\n",
    "X_train_predict = pd.DataFrame(\n",
    "    rgr.predict(x_test[:, None])).rename(\n",
    "    columns={0: 'predicted_price'}).set_index('predicted_price')\n",
    "\n",
    "df[['price', 'predicted_price']].plot()"
   ]
  }
 ],
 "metadata": {
  "kernelspec": {
   "display_name": "me",
   "language": "python",
   "name": "me"
  },
  "language_info": {
   "codemirror_mode": {
    "name": "ipython",
    "version": 3
   },
   "file_extension": ".py",
   "mimetype": "text/x-python",
   "name": "python",
   "nbconvert_exporter": "python",
   "pygments_lexer": "ipython3",
   "version": "3.6.6"
  }
 },
 "nbformat": 4,
 "nbformat_minor": 2
}
