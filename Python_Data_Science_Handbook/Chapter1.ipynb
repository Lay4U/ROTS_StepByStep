{
 "cells": [
  {
   "cell_type": "markdown",
   "metadata": {},
   "source": [
    "# IPython:파이썬에 날개를 달자\n",
    "\n",
    "파이썬 개발 환경을 구축하는 방식은 여러 가지가 있다. 사람들이 내게 작업할 때 어떤 환경을 사용하는지 종종 묻는데 그 대답을 듣고 놀라곤 한다. 개인적으로 IPython과 텍스트 편집기(기분에 따라 Emacs나 Atom)를 함께 사용하는 것을 선호한다. IPython(대화형 파이썬(Interactive Python)의 약자)은 2001년 페르난도 페레즈(Fernando Perez)에 의해 파이썬 인터프리터의 향상된 버전으로 시작했고, 이후 페레즈의 표현으로 '리서치 컴퓨팅(Research Computing)의 전체 생애주기를 위한 도구' 제공을 목적으로 하는 프로젝트로 발전했다. 데이터 과학 작업에서 파이썬이 엔진이라면 IPython은 대화형 제어 패널로 생각할 수 있다.\n",
    "<br><br>\n",
    "IPython은 훌륭한 파이썬 대화형 인터페이스일 뿐만 아니라 추가로 다수의 유용한 구문을 제공한다. 여기서 대부분의 유용한 추가 구문을 살펴볼 것이다. 게다가 IPython은 개발, 협업, 공유는 물론이고 데이터 과학 결과를 게시하는 데 유용한 브라우저 기반의 노트북을 제공하는 Jupyter 프로젝트와 밀접하게 연결돼 있다. IPython 노트북은 실제로 Julia, R, 그리고 다른 프로그래밍 언어를 위한 노트북을 포함하는 광범위한 Jupyter 노트북 구조에서 특별 케이스에 해당한다. 노트북 형식의 유용성을 보여주는 예로 지금 읽고 있는 페이지보다 더 자세히 볼 필요는 없다. 이 책의  전체 원고가 IPython 노트북의 모음집으로 구성돼 있기 때문이다. IPython은 대화형 과학 컴퓨팅과 데이터 집약적인 컴퓨팅을 위해 파이썬을 효과적으로 사용하는 방법이다. 이번 장에서는 데이터 과학 실무에 유용한 IPython 기능을 배우고, 그중 특히 파이썬의 표준 기능 이상을 제공하는 구문에 초점을 맞춰 살펴볼 것이다. 다음으로 데이터 과학용 코드를 생성하고 사용하는 일반적인 작업 속도를 높이는 몇 가지 유용한 '매직 명령어'에 대해 더 깊이 있게 알아볼 것이다. 마지막으로 데이터를 이해하고 결과를 공유하는데 유용한 일부 노트북 기능을 간단히 살펴본다."
   ]
  },
  {
   "cell_type": "markdown",
   "metadata": {},
   "source": [
    "### 셀과 노트북, 어느 것을 사용할까?\n",
    "\n",
    "이번 장에서 논의할 IPython을 사용하는 주된 방식으로 IPython 셸과 IPython 노트북이라는 두 가지 방식이 있다. 이번 장의 내용은 두 방식 모두와 관련이 있으며 예제는 편의에 따라 두 방식 간 교환이 가능하다. 시작하기 전에 IPython 셸과 IPython 노트북을 실행하는 방법을 간단하게 살펴보자.\n",
    "<br><br>\n",
    "#### Ipython 셸 실행하기\n",
    "\n",
    "이 책의 대부분과 마찬가지로 이번 장 역시 수동적으로 학습하도록 설계되지 않았다. 이번 장을 읽어나가면서 여기서 다루는 도구와 구문을 따라 연습해 볼 것을 권한다. 이러한 연습을 통해 형성된느 근육 기억은 단순히 읽는 행위보다 훨씬 더 유용하다. 우선 명령줄(command line)에 ipython을 입력해서 IPython 인터프리터를 실행해 보자. 그렇지 않고 아나콘다나 EPD 같은 배포판을 설치했다면 그 시스템에 특화된 실행기가 있을 것이다(이에 대해서는 3쪽'IPython의 도움말과 문서'에서 더 자세히 다룬다).\n",
    "\n",
    "IPython을 실행했다면 프롬프트가 나타날 것이고\n",
    "\n",
    "이제 이 책의 내용을 따라갈 준비가 끝났다.\n",
    "<br><br>\n",
    "#### Jupyter 노트북 실행하기\n",
    "\n",
    "Jupyter 노트북은 IPython 셸의 브라우저 기반 그래픽 인터페이스이며, 풍부한 동적 디스플레이 기술을 기반으로 만들어졌다. 노트북은 파이썬/IPython 문장을 실행할 뿐만 아니라 사용자가 서식 있는 텍스트와 정적/동적 시각화, 수학 공식, 자바스크립트 위젯 등을 퐇마할 수 있게 해준다. 게다가 이 문서들은 젖아해서 사용자가 자신의 시스템에서 코드를 실행할 수 있다.\n",
    "\n",
    "<br><br>\n",
    "IPython 노트북은 웹 브라우저 창을 통해 조회하고 편집할 수 있지만, 코드를 실행하려면 실행 중인 파이썬 프로세스와 연결해야 한다. '커널(kernel)'이라고도 하는 이 프로세스를  시작하려면 시스템 셸에서 다음 명령어를 실행하면 된다.\n",
    "$ jupyter notebook\n",
    "이 명령어는 브라우저에서 볼 수 있는 로컬 웹 서버를 실행한다. 그럼 그 명령어가 무엇을 실행하는지 모여주는 로그를 즉시 쏟아낸다.\n",
    "\n",
    "명령어를 실행하면 기본 브라우저가 자동으로 열리고 로컬 URL을 찾아 들어간다. 정확한 주소는 시스템에 따라 다르다. 브라우저가 자동으로 열리지 않으면 브라우저를 실행하고 직접 해당 주소를 입력하면 된다.\n",
    "<br><br>\n",
    "#### IPython의 도움말과 문서\n",
    "\n",
    "이번 장의 다른 절을 읽지 않았다면 이번 절을 읽어보라. 개인적으로 여기서 설명하는 도구들이 일상적인 작업에서 IPython이 가장 혁신적으로 기여한 부분이라고 생각한다.\n",
    "\n",
    "기술적인 사고를 하는 사람에게는 컴퓨터 관련 문제로 친구나 가족,동료에게서 질문을 받앋을 때 대부분의 경우 질문에 대한 답을 아는 것보다 답은 모르지만 그 답을 빨리 찾는 방법을 아는 것이 더 중요하다. 데이터 과학에서도 똑같다. 심지어(특히?)이전에 검색한 적이 있는 주제더라도 온라인 문서와 메일링 리스트 스레드, 풍부한 정보를 가지고 있는 스택 오버플로우(Stack Overflow)답변과 같은 검색 가능한 웹 자료들이 있다. 데이터 과학 분야에서 효과적인 전문가가 된다는 것은 어떤 상황에서도 대처할 수 있도록 도구나 명령어를 외우고 있는 것보다는 웹 검색 엔진이나 다른 도구를 통해 모르는 정보를 효과적으로 찾아내는 법을 배우는 것에 더 가깝다.\n",
    "\n",
    "IPython/Jupyter의 가장 유용한 기능 중 하나는 사용자와 문서 유형 및 검색 유형 간의 간극을 줄여 효과적으로 업무를 수행하도록 도움을 주는 것이다. 여전히 복작한 질문에 대한 답을 얻는 데는 웹 검색이 효과적이지만, IPython만으로도 놀라울 정도로 많은 양의 정보를 찾을 수 있다. IPython에서 약간의 키 입력으로 다음과 같은 질문의 답을 얻을 수 있다.\n",
    "* 이 함수를 어떻게 호출할 수 있지? 이 함수는 어떤 인수와 옵션을 가지고 있을까?\n",
    "* 이 파이썬 객체의 소스코드는 어떻게 생겼을까?\n",
    "* 임포트나 이 패키지에는 무엇이 들어 있을까? 이 객체는 어떤 속성이나 메서드를 가고 있을까?\n",
    "\n",
    "이제 이 정보를 빨리 얻을 수 있는 IPython 도구에 대해 알아볼 것이다. 문서를 탐색하기 위한 ? 문자와 소스코드를 탐색하기위한 ??문자, 자동 완성을 위한 탭 키가 여기에 해당한다.\n",
    "<br><br>\n",
    "#### ?로 문서 확인하기\n",
    "\n",
    "파이썬 언어와 파이썬 데이터 과학 생태계는 사용자를 염두해두고 만들어졌으며, 그중 중요한 부분은 문서에 접근하는 기능이다 .모든 파이썬 객체는 객체에 대한 간결한 요약 정보와 사용법이 담겨 있는 독스트링(docstring)이라는 문자열에 대한 참조를 포함하고 있다. 파이썬에는 이 정보에 접근해서 결과를 출력하는 help()함수가 내장돼 있다. 예를 들어, 내장 함수 len에 대한 문서를 보려면 다음과 같이 하면 된다."
   ]
  },
  {
   "cell_type": "code",
   "execution_count": 1,
   "metadata": {},
   "outputs": [
    {
     "name": "stdout",
     "output_type": "stream",
     "text": [
      "Help on built-in function len in module builtins:\n",
      "\n",
      "len(obj, /)\n",
      "    Return the number of items in a container.\n",
      "\n"
     ]
    }
   ],
   "source": [
    "help(len)"
   ]
  },
  {
   "cell_type": "markdown",
   "metadata": {},
   "source": [
    "사용하는 인터프리터에 따라 이 정보는 인라인 텍스트로 표시되기도 하고 별도의 팝업 창으로 표시되기도 한다. 객체에 대한 도움말을 찾는 것은 매우 일반적이고 유용하기 때문에 IPython은 이문서와 다른 관련 정보에 접근하는 단축키로 ? 문자를 도입했다."
   ]
  },
  {
   "cell_type": "code",
   "execution_count": 3,
   "metadata": {},
   "outputs": [],
   "source": [
    "len?"
   ]
  },
  {
   "cell_type": "code",
   "execution_count": 4,
   "metadata": {},
   "outputs": [],
   "source": [
    "L=[1, 2, 3]\n",
    "L.insert?"
   ]
  },
  {
   "cell_type": "code",
   "execution_count": 5,
   "metadata": {},
   "outputs": [],
   "source": [
    "L?"
   ]
  },
  {
   "cell_type": "code",
   "execution_count": 6,
   "metadata": {},
   "outputs": [],
   "source": [
    "def square(a):\n",
    "    \"\"\"a의 제곱을 반환\"\"\"\n",
    "    return a**2"
   ]
  },
  {
   "cell_type": "code",
   "execution_count": 7,
   "metadata": {},
   "outputs": [],
   "source": [
    "square?"
   ]
  },
  {
   "cell_type": "markdown",
   "metadata": {},
   "source": [
    "#### ??로 소스코드에 접근하기\n",
    "\n",
    "파이썬 언어는 매우 쉽게 읽히기 때문에 일반적으로 궁금한 객체의 소스코드를 읽어보면 또 다른 수준의 통찰력을 얻을 수 있다. IPython은 물음표 두개 (??)를 소스코드의 단축키로 제공한다."
   ]
  },
  {
   "cell_type": "code",
   "execution_count": 8,
   "metadata": {},
   "outputs": [],
   "source": [
    "square??"
   ]
  },
  {
   "cell_type": "markdown",
   "metadata": {},
   "source": [
    "이처럼 간단한 함수의 경우에는 물음표 두개로 구현 세부사항에 대한 통찰력을 빨리 얻을 수 있다.\n",
    "<br><br>\n",
    "?? 접미사를 많이 사용하다 보면 ?? 접미사가 때때로 소스코드를 보여주지 않는다는 것을 알게 될 것이다. 이것은 보통 질문한 객체가 파이썬에서 구현된 것이 아니라 C나 다른 컴파일된 확장 언어로 구현됐기 때문이다. 그렇나 경우에는 ?? 접미사가 ? 접미사와 같은 결과를 보여준다. 특히 파이썬 내장 객채와 타입에서 이런 경우가 많이 나타난다. 일례로 위에서 본 len을 들 수 있다."
   ]
  },
  {
   "cell_type": "code",
   "execution_count": 9,
   "metadata": {},
   "outputs": [],
   "source": [
    "len??"
   ]
  },
  {
   "cell_type": "markdown",
   "metadata": {},
   "source": [
    "?나 ??는 파이썬 함수나 모듈이 무슨 일을 하는지에 대한 정보를 알아낼 수 있는 빠르고 강력한 인터페이스를 제공한다."
   ]
  },
  {
   "cell_type": "markdown",
   "metadata": {},
   "source": [
    "#### 탭 자동 완성을 모듈 탐색하기\n",
    "IPython의 다른 유용한 인터페이스로 객체와 모듈, 네임스페이스의 내용을 자동 완성하고 탐색하기 위한 탭(Tab)키를 들 수 있다. 앞으로 나올 예제에서는 탭 키를 눌러야 할 때 <TAB>으로 표기하겠다.\n",
    "<br><br>\n",
    "#### 객체 내용의 탭 자동 완성\n",
    "모든 파이썬 객체는 그것과 연결된 다양한 속성과 메서들르 갖는다. 이전에 논의했던 help 함수와 같이 파이썬에는 객체의 속성과 메서드 목록을 반환하는 내장 함수 dir이 있지만 실제로는 탭 완성이 훨씬 더 사용하기 쉽다. 객체에서 사용할 수 있는 모든 속성의 목록을 보려면 객체명 다음에 마침표(.)를 찍고 탭키를 누르면 된다."
   ]
  },
  {
   "cell_type": "code",
   "execution_count": 10,
   "metadata": {},
   "outputs": [
    {
     "data": {
      "text/plain": [
       "<function list.count(value, /)>"
      ]
     },
     "execution_count": 10,
     "metadata": {},
     "output_type": "execute_result"
    }
   ],
   "source": [
    "L.count"
   ]
  },
  {
   "cell_type": "markdown",
   "metadata": {},
   "source": [
    "파이썬은 공개(public)/외부 속성과 비공개(private)/내부 속성을 엄격하게 구분하지는 않지만, 관례상 비공개 속성을 표기할 때 속성 앞에 밑줄을 사용한다. 명확하게 말하자면 비공개 메서드와 특별한 메서드는 기본적으로 이 목록에서 생략되어야 하지만 밑줄을 입력함으로써 명확하게 그 메서드들을 목록에 보이게 할 수 있다."
   ]
  },
  {
   "cell_type": "code",
   "execution_count": 11,
   "metadata": {},
   "outputs": [
    {
     "data": {
      "text/plain": [
       "<method-wrapper '__add__' of list object at 0x000001F6148035C8>"
      ]
     },
     "execution_count": 11,
     "metadata": {},
     "output_type": "execute_result"
    }
   ],
   "source": [
    "L.__add__"
   ]
  },
  {
   "cell_type": "markdown",
   "metadata": {},
   "source": [
    "이들 대부분은 파이썬의 특별한 이중 밑줄 표시 메서드(double-underscore methods, 별명으로 'dender'메서드)다.\n",
    "\n",
    "#### 임포트 할 때 탭 자동 완성 하기\n",
    "탭 자동 완성은 패키지에서 객체를 임포트 할 때도 유용하다. itertools 패키지에서 co로 시작하는 모든 가능ㅎ나 임포트를 찾기 위해 탭 키를 사용할 것이다."
   ]
  },
  {
   "cell_type": "code",
   "execution_count": 13,
   "metadata": {},
   "outputs": [],
   "source": [
    "from itertools import combinations\n",
    "import Crypto"
   ]
  },
  {
   "cell_type": "markdown",
   "metadata": {},
   "source": [
    "#### 탭 완성을 넘어: 와일드 카드 매칭\n",
    "탭 완성은 찾고자 한느 객체나 속성의 청므 몇 글자를 안다면 유용하지만 단어의 중간이나 마지막 글자로 매칭하고 싶다면 거의 도움이 되지 않는다. 이러한 경우, IPython은 '*'문자를 이용해 와일드 카드 매칭하는 방법을 제공한다.\n",
    "<br><br>\n",
    "예를 들어 네임스페이스에서 Warning으로 끝나는 모든 객체를 나열하기 위해 이를 사용할 수 있다.\n",
    "\n"
   ]
  },
  {
   "cell_type": "code",
   "execution_count": 14,
   "metadata": {},
   "outputs": [],
   "source": [
    "*Warning?"
   ]
  },
  {
   "cell_type": "markdown",
   "metadata": {},
   "source": []
  },
  {
   "cell_type": "code",
   "execution_count": 1,
   "metadata": {},
   "outputs": [],
   "source": [
    "str.*find*?"
   ]
  },
  {
   "cell_type": "markdown",
   "metadata": {},
   "source": [
    "새 패키지를 알게 되거나 익숙했던 패키지를 다시 알게 될 때 특정 명령어를 발견한는데 있어 이렇나 유형의 유연한 와일드 카드 검색이 매우 유용할 수 있다.\n",
    "\n",
    "## IPython 셸에서 사용할 수 있는 키보드 단축키\n",
    "컴퓨터 앞에서 상당한 시간을 보내는 독자라면 아마도 작업할 때 키보드 단축키를 많이 사용할 것이다. 가장 익숙한 것은 다양한 프로그램과 시스템에서 복사하고 붙여넣기에 사용하는 ctrl-C와 ctrl-V (또는 Ctrl-C와 Ctrl-V)일 것이다. 파워 유저인 경우 그보다 더 많은 단축키를 사용할 것이다. Emacs, Vim 등 인기 있는 텍스트 편집기는 복잡한 키 조합을 통해 놀랄 만큼 광범위한 조작을 사용자에게 제공한다.\n",
    "<br><br>\n",
    "Ipython셸은 그렇게까지는 아니더라도 명령어를 입력하는 동안 빠르게 탐색할 수 있는 여러 단축키를 제공한다. 이 단축키들은 실제로 IPython 자체에서 제공되는 것이 아니라 GNU Readline 라이브러리의 종속성을 통해 제공된다. 따라서 다음 단축키 중 일부는 시스템 설정에 따라 달라질 수 있다. 또한, 이 단축키 중 일부는 브라우저 기반의 노트북에서 동작하지만 이번 절에서는 주로 IPython 셸의 단축키를 다룬다.\n",
    "<br><br>\n",
    "이 단축키에 익숙해지고 나면 원래 키보드 위치에서 손을 움직이지 않고도 특정 명령어를 빠르게 실행할 수 있다. Emacs 사용자거나 리눅스 형식의 셸을 사용한 경험이 있다면 다음 내용이 매우 익숙할 것이다. 이 단축키를 탐색, 텍스트 입력, 명령어 이력, 기타 카테고리로 분류해서 살펴 보겠다.\n",
    "<br><br>\n",
    "\n",
    "#### 탐색 단축키\n",
    "한 줄에서 좌우 화살표 키를 사용해 앞뒤로 움직일수 있다는건 누구나 알겠지만 그것 말고도 원래 키보드 위치에서 손을 움직이지 않고도 할 수 있는 방법이 있다.\n",
    "* Ctrl -a 커서를 줄의 맨 앞으로 옮김\n",
    "* Ctrl -e 커서를 줄의 맨 뒤로 옮김\n",
    "* Ctrl-b(또는 왼쪽 화살표) 커서를 한 글자 뒤로 옮김\n",
    "* Ctrl-f(또는 오른쪽 화살표) 커서를 한 글자 앞으로 옮김\n",
    "<br><br>\n",
    "\n",
    "#### 텍스트 입력 단축키\n",
    "이전 문자를 지우는데 백스페이스(Backspace)키를 사용하는 것은 누구에게나 익숙하지만 그 키를 입력하려면 조금이라도 손가락을 까딱해야 하는 데다 그래 봐야 한 글자만 삭제할 뿐이다. IPython에서는 입력한 텍스트의 일부분을 삭제하는 몇 가지 단축키가 있다. 가장 유용한 것은 텍스트 전체 줄을 삭제하는 명령어다. 이전 문자를 지우기 위해 백스페이스 키 대신 Ctrl-b와 Ctrl-d 조합을 사용하게 된다면 이 명령어 들을 사용하는 것이 습관으로 자리잡을 것이다!\n",
    "* Ctrl - d 그 줄의 다음 문자 삭제\n",
    "* Ctrl - k 현재 커서 위치에서 그 줄 마지막까지 텍스트를 잘라냄\n",
    "* Ctrl - u 그 줄의 처음부터 현재 커서 위치까지 텍스트를 잘라냄\n",
    "* Ctrl - y  이전에 잘라낸 텍스트를 끌어당김(붙여넣기)\n",
    "* Ctrl - t 앞의 두 글자의 위치를 바꿈\n",
    "<br><br>\n",
    "\n",
    "#### 명령어 이력 단축키\n",
    "여기서 논의한 단축키중 아마 가장 영향력이 큰 것은 IPython이 명령어 이력을 탐색할 수 있도록 제공하는 단축키일 것이다. 이 명령어 단축키는 현재  IPython 세션을 넘어 IPython 프로파일 디렉터리 SQLite 데이터베이스에 저장된 전체 명령어 이력을 탐색할 수 있다. 여기에 접근할 수 있는 가장 간단한 방법은 위/아래 화살표 키를 사용하는 것이지만 다른 방식도 있다.\n",
    "* Ctrl-p(또는 위쪽 화살표) 이력에서 이전 명령어에 접근\n",
    "* Ctrl-n(또는 아래 화살표) 이력에서 다음 명령어에 접근\n",
    "* Ctrl-r 명령어 이력을 역탐색\n",
    "역탐색은 특히 유용하다.  앞 절에서 square 함수를 정의했던 것을 떠올려 보자. 새로 IPython 셸을 열어서 파이썬 이력을 역탐색 해서 이 함수의 정의를 다시 찾아보자. IPython 커널에서 Ctrl-r을 누르면 IPython이 입력 문자에 일치한느 가장 최근 명령어를 자동으로 채운다.\n",
    "<br><br>\n",
    "\n",
    "#### 기타 단축키\n",
    "마지막으로 앞에서 설명한 카테고리에 속하지는 않지만 알아두면 유용한 단축키가 몇 가지 있다.\n",
    "* Ctrl-l 터미널 화면을 지움\n",
    "* Ctrl-c 현재 파이썬 명령을 지움\n",
    "* Ctrl-d IPython 세션을 종료\n",
    "Ctrl-c 단축키는 실수로 실행시간이 상당히 긴 작업을 실행했을 때 특히 유용하다.\n",
    "<br><br>\n",
    "여기서 논의한 단축키 중 일부는 처음에는 조금 지루하게 느껴지겠지만 연습하다 보면 곧 자동으로 사용하게 된다. 손가락이 기억하게 되면 다른 상황에서도 그 단축키들을 사용하고 싶을 것이다.\n",
    "\n"
   ]
  },
  {
   "cell_type": "markdown",
   "metadata": {},
   "source": [
    "## IPython 매직 명령어\n",
    "이전 두 절에서는 IPython에서 파이썬을 대화형으로 효과적으로 사용하고 탐색한느 법을 살펴봤다. 여기서는 IPython이 일반 파이썬 구문에 추가한 몇 가지 향상된 기능에 대해 살펴본다. IPython에서는 이것들을 매직 명령어(magic commands)라고 하며, 맨 앞에 % 기호를 붙인다. 이 매직 명령어는 일반적인 데이터 분석에서 흔히 발생하는 다양한 문제점을 간결하게 해결하도록 고안됐다. 매직 명령어에는 두 가지가 있다. % 기호를 접두사로 붙이고 입력값 한 줄에 대해 동작하는 라인 매직(line magics)과 %% 기호를 접두사로 붙이고 입력값 여러 줄에 대해 동작하는 셀 매직(cell magics)이 그것이다. 간단한 예제 몇 개를 소개하고 나서 여러 유용한 매직 명령어에 대해 다시 집중적으로 살펴보겠다.\n",
    "<br><br>\n",
    "#### 코드 블럭 붙여넣기: %paste와 %cpaste\n",
    "IPython 인터프리터를 이요할때 특히 들여쓰기와 인터프리터 표시자(interptreter marker)가 포함될 경우에는 여러 줄로 된 코드 블록을 붙여넣으면 예기치 않은 오류가 쉽게 발생할 수 있다. 웹사이트에서 몇 가지 예제 코드를 찾아서 그것을 인터프리터에 붙여넣고자 하는 것이 보편적으로 이 경우에 해당한다. 다음의 간단한 함수를 생각해 보자."
   ]
  },
  {
   "cell_type": "code",
   "execution_count": 4,
   "metadata": {},
   "outputs": [],
   "source": [
    "def donothing(x):\n",
    "    return x"
   ]
  },
  {
   "cell_type": "code",
   "execution_count": 6,
   "metadata": {},
   "outputs": [
    {
     "name": "stderr",
     "output_type": "stream",
     "text": [
      "UsageError: Line magic function `%paste` not found.\n"
     ]
    }
   ],
   "source": [
    "%paste\n",
    "def donothing(x):\n",
    "    return x"
   ]
  },
  {
   "cell_type": "code",
   "execution_count": 7,
   "metadata": {},
   "outputs": [
    {
     "name": "stdout",
     "output_type": "stream",
     "text": [
      "Help on built-in function len in module builtins:\n",
      "\n",
      "len(obj, /)\n",
      "    Return the number of items in a container.\n",
      "\n"
     ]
    },
    {
     "name": "stderr",
     "output_type": "stream",
     "text": [
      "UsageError: Line magic function `%paste` not found.\n"
     ]
    }
   ],
   "source": [
    "%run Untitled.ipynb"
   ]
  },
  {
   "cell_type": "code",
   "execution_count": 8,
   "metadata": {},
   "outputs": [
    {
     "name": "stdout",
     "output_type": "stream",
     "text": [
      "353 µs ± 7.62 µs per loop (mean ± std. dev. of 7 runs, 1000 loops each)\n"
     ]
    }
   ],
   "source": [
    "%timeit L = [n ** 2 for n in range(1000)]"
   ]
  },
  {
   "cell_type": "code",
   "execution_count": 9,
   "metadata": {},
   "outputs": [
    {
     "name": "stdout",
     "output_type": "stream",
     "text": [
      "392 µs ± 14.1 µs per loop (mean ± std. dev. of 7 runs, 1000 loops each)\n"
     ]
    }
   ],
   "source": [
    "%%timeit\n",
    "L=[]\n",
    "for n in range(1000):\n",
    "    L.append(n**2)"
   ]
  },
  {
   "cell_type": "code",
   "execution_count": 10,
   "metadata": {},
   "outputs": [],
   "source": [
    "%timeit?"
   ]
  },
  {
   "cell_type": "code",
   "execution_count": 11,
   "metadata": {},
   "outputs": [],
   "source": [
    "%magic"
   ]
  },
  {
   "cell_type": "code",
   "execution_count": 12,
   "metadata": {},
   "outputs": [
    {
     "data": {
      "application/json": {
       "cell": {
        "!": "OSMagics",
        "HTML": "Other",
        "SVG": "Other",
        "bash": "Other",
        "capture": "ExecutionMagics",
        "cmd": "Other",
        "debug": "ExecutionMagics",
        "file": "Other",
        "html": "DisplayMagics",
        "javascript": "DisplayMagics",
        "js": "DisplayMagics",
        "latex": "DisplayMagics",
        "markdown": "DisplayMagics",
        "perl": "Other",
        "prun": "ExecutionMagics",
        "pypy": "Other",
        "python": "Other",
        "python2": "Other",
        "python3": "Other",
        "ruby": "Other",
        "script": "ScriptMagics",
        "sh": "Other",
        "svg": "DisplayMagics",
        "sx": "OSMagics",
        "system": "OSMagics",
        "time": "ExecutionMagics",
        "timeit": "ExecutionMagics",
        "writefile": "OSMagics"
       },
       "line": {
        "alias": "OSMagics",
        "alias_magic": "BasicMagics",
        "autocall": "AutoMagics",
        "automagic": "AutoMagics",
        "autosave": "KernelMagics",
        "bookmark": "OSMagics",
        "cd": "OSMagics",
        "clear": "KernelMagics",
        "cls": "KernelMagics",
        "colors": "BasicMagics",
        "config": "ConfigMagics",
        "connect_info": "KernelMagics",
        "copy": "Other",
        "ddir": "Other",
        "debug": "ExecutionMagics",
        "dhist": "OSMagics",
        "dirs": "OSMagics",
        "doctest_mode": "BasicMagics",
        "echo": "Other",
        "ed": "Other",
        "edit": "KernelMagics",
        "env": "OSMagics",
        "gui": "BasicMagics",
        "hist": "Other",
        "history": "HistoryMagics",
        "killbgscripts": "ScriptMagics",
        "ldir": "Other",
        "less": "KernelMagics",
        "load": "CodeMagics",
        "load_ext": "ExtensionMagics",
        "loadpy": "CodeMagics",
        "logoff": "LoggingMagics",
        "logon": "LoggingMagics",
        "logstart": "LoggingMagics",
        "logstate": "LoggingMagics",
        "logstop": "LoggingMagics",
        "ls": "Other",
        "lsmagic": "BasicMagics",
        "macro": "ExecutionMagics",
        "magic": "BasicMagics",
        "matplotlib": "PylabMagics",
        "mkdir": "Other",
        "more": "KernelMagics",
        "notebook": "BasicMagics",
        "page": "BasicMagics",
        "pastebin": "CodeMagics",
        "pdb": "ExecutionMagics",
        "pdef": "NamespaceMagics",
        "pdoc": "NamespaceMagics",
        "pfile": "NamespaceMagics",
        "pinfo": "NamespaceMagics",
        "pinfo2": "NamespaceMagics",
        "pip": "BasicMagics",
        "popd": "OSMagics",
        "pprint": "BasicMagics",
        "precision": "BasicMagics",
        "profile": "BasicMagics",
        "prun": "ExecutionMagics",
        "psearch": "NamespaceMagics",
        "psource": "NamespaceMagics",
        "pushd": "OSMagics",
        "pwd": "OSMagics",
        "pycat": "OSMagics",
        "pylab": "PylabMagics",
        "qtconsole": "KernelMagics",
        "quickref": "BasicMagics",
        "recall": "HistoryMagics",
        "rehashx": "OSMagics",
        "reload_ext": "ExtensionMagics",
        "ren": "Other",
        "rep": "Other",
        "rerun": "HistoryMagics",
        "reset": "NamespaceMagics",
        "reset_selective": "NamespaceMagics",
        "rmdir": "Other",
        "run": "ExecutionMagics",
        "save": "CodeMagics",
        "sc": "OSMagics",
        "set_env": "OSMagics",
        "store": "StoreMagics",
        "sx": "OSMagics",
        "system": "OSMagics",
        "tb": "ExecutionMagics",
        "time": "ExecutionMagics",
        "timeit": "ExecutionMagics",
        "unalias": "OSMagics",
        "unload_ext": "ExtensionMagics",
        "who": "NamespaceMagics",
        "who_ls": "NamespaceMagics",
        "whos": "NamespaceMagics",
        "xdel": "NamespaceMagics",
        "xmode": "BasicMagics"
       }
      },
      "text/plain": [
       "Available line magics:\n",
       "%alias  %alias_magic  %autocall  %automagic  %autosave  %bookmark  %cd  %clear  %cls  %colors  %config  %connect_info  %copy  %ddir  %debug  %dhist  %dirs  %doctest_mode  %echo  %ed  %edit  %env  %gui  %hist  %history  %killbgscripts  %ldir  %less  %load  %load_ext  %loadpy  %logoff  %logon  %logstart  %logstate  %logstop  %ls  %lsmagic  %macro  %magic  %matplotlib  %mkdir  %more  %notebook  %page  %pastebin  %pdb  %pdef  %pdoc  %pfile  %pinfo  %pinfo2  %popd  %pprint  %precision  %profile  %prun  %psearch  %psource  %pushd  %pwd  %pycat  %pylab  %qtconsole  %quickref  %recall  %rehashx  %reload_ext  %ren  %rep  %rerun  %reset  %reset_selective  %rmdir  %run  %save  %sc  %set_env  %store  %sx  %system  %tb  %time  %timeit  %unalias  %unload_ext  %who  %who_ls  %whos  %xdel  %xmode\n",
       "\n",
       "Available cell magics:\n",
       "%%!  %%HTML  %%SVG  %%bash  %%capture  %%cmd  %%debug  %%file  %%html  %%javascript  %%js  %%latex  %%markdown  %%perl  %%prun  %%pypy  %%python  %%python2  %%python3  %%ruby  %%script  %%sh  %%svg  %%sx  %%system  %%time  %%timeit  %%writefile\n",
       "\n",
       "Automagic is ON, % prefix IS NOT needed for line magics."
      ]
     },
     "execution_count": 12,
     "metadata": {},
     "output_type": "execute_result"
    }
   ],
   "source": [
    "%lsmagic"
   ]
  },
  {
   "cell_type": "markdown",
   "metadata": {},
   "source": [
    "## 입력/ 출력 이력"
   ]
  },
  {
   "cell_type": "code",
   "execution_count": 13,
   "metadata": {},
   "outputs": [],
   "source": [
    "import math"
   ]
  },
  {
   "cell_type": "code",
   "execution_count": 14,
   "metadata": {},
   "outputs": [
    {
     "data": {
      "text/plain": [
       "0.9092974268256817"
      ]
     },
     "execution_count": 14,
     "metadata": {},
     "output_type": "execute_result"
    }
   ],
   "source": [
    "math.sin(2)"
   ]
  },
  {
   "cell_type": "code",
   "execution_count": 15,
   "metadata": {},
   "outputs": [
    {
     "data": {
      "text/plain": [
       "-0.4161468365471424"
      ]
     },
     "execution_count": 15,
     "metadata": {},
     "output_type": "execute_result"
    }
   ],
   "source": [
    "math.cos(2)"
   ]
  },
  {
   "cell_type": "code",
   "execution_count": 16,
   "metadata": {},
   "outputs": [
    {
     "name": "stdout",
     "output_type": "stream",
     "text": [
      "['', \"get_ipython().run_line_magic('psearch', 'str.*find*')\", 'def donothing(x):\\n    return %x', 'def donothing(x):\\n    return %x', 'def donothing(x):\\n    return x', \"get_ipython().run_line_magic('paste', '')\", \"get_ipython().run_line_magic('paste', '')\\ndef donothing(x):\\n    return x\", \"get_ipython().run_line_magic('run', 'Untitled.ipynb')\", \"get_ipython().run_line_magic('timeit', 'L = [n ** 2 for n in range(1000)]')\", \"get_ipython().run_cell_magic('timeit', '', 'L=[]\\\\nfor n in range(1000):\\\\n    L.append(n**2)')\", \"get_ipython().run_line_magic('pinfo', '%timeit')\", \"get_ipython().run_line_magic('magic', '')\", \"get_ipython().run_line_magic('lsmagic', '')\", 'import math', 'math.sin(2)', 'math.cos(2)', 'print(In)']\n"
     ]
    }
   ],
   "source": [
    "print(In)"
   ]
  },
  {
   "cell_type": "code",
   "execution_count": 17,
   "metadata": {},
   "outputs": [
    {
     "data": {
      "text/plain": [
       "{12: Available line magics:\n",
       "%alias  %alias_magic  %autocall  %automagic  %autosave  %bookmark  %cd  %clear  %cls  %colors  %config  %connect_info  %copy  %ddir  %debug  %dhist  %dirs  %doctest_mode  %echo  %ed  %edit  %env  %gui  %hist  %history  %killbgscripts  %ldir  %less  %load  %load_ext  %loadpy  %logoff  %logon  %logstart  %logstate  %logstop  %ls  %lsmagic  %macro  %magic  %matplotlib  %mkdir  %more  %notebook  %page  %pastebin  %pdb  %pdef  %pdoc  %pfile  %pinfo  %pinfo2  %popd  %pprint  %precision  %profile  %prun  %psearch  %psource  %pushd  %pwd  %pycat  %pylab  %qtconsole  %quickref  %recall  %rehashx  %reload_ext  %ren  %rep  %rerun  %reset  %reset_selective  %rmdir  %run  %save  %sc  %set_env  %store  %sx  %system  %tb  %time  %timeit  %unalias  %unload_ext  %who  %who_ls  %whos  %xdel  %xmode\n",
       "\n",
       "Available cell magics:\n",
       "%%!  %%HTML  %%SVG  %%bash  %%capture  %%cmd  %%debug  %%file  %%html  %%javascript  %%js  %%latex  %%markdown  %%perl  %%prun  %%pypy  %%python  %%python2  %%python3  %%ruby  %%script  %%sh  %%svg  %%sx  %%system  %%time  %%timeit  %%writefile\n",
       "\n",
       "Automagic is ON, % prefix IS NOT needed for line magics.,\n",
       " 14: 0.9092974268256817,\n",
       " 15: -0.4161468365471424}"
      ]
     },
     "execution_count": 17,
     "metadata": {},
     "output_type": "execute_result"
    }
   ],
   "source": [
    "Out"
   ]
  },
  {
   "cell_type": "code",
   "execution_count": 18,
   "metadata": {},
   "outputs": [
    {
     "name": "stdout",
     "output_type": "stream",
     "text": [
      "get_ipython().run_line_magic('psearch', 'str.*find*')\n"
     ]
    }
   ],
   "source": [
    "print(In[1])"
   ]
  },
  {
   "cell_type": "code",
   "execution_count": 22,
   "metadata": {},
   "outputs": [
    {
     "name": "stdout",
     "output_type": "stream",
     "text": [
      "-0.4161468365471424\n"
     ]
    }
   ],
   "source": [
    "print(_)"
   ]
  },
  {
   "cell_type": "code",
   "execution_count": 23,
   "metadata": {},
   "outputs": [
    {
     "name": "stdout",
     "output_type": "stream",
     "text": [
      "0.9092974268256817\n"
     ]
    }
   ],
   "source": [
    "print(__)"
   ]
  },
  {
   "cell_type": "code",
   "execution_count": 25,
   "metadata": {},
   "outputs": [],
   "source": [
    "math.sin(2) + math.cos(2);"
   ]
  },
  {
   "cell_type": "markdown",
   "metadata": {},
   "source": [
    "#### 관련 매직 명령어\n",
    "이전 입력값 여러 개에 한 번에 접근하려면 %history 매직 명령어가 도움될 것이다. 늘 그렇듯이 이 명령어에 대한 더 자세한 정보와 사용 가능한 옵션에 대한 설명을 보려면 %history?를 입력하면 된다. 다른 유사한 명령어로 %rerun(명령어 이력 중 일부를 재실행)과 %save(명령어 이력 중 일부 집합을 파일에 저장)가 있다."
   ]
  },
  {
   "cell_type": "code",
   "execution_count": 26,
   "metadata": {},
   "outputs": [
    {
     "name": "stdout",
     "output_type": "stream",
     "text": [
      "str.*find*?\n",
      "def donothing(x):\n",
      "    return %x\n",
      "def donothing(x):\n",
      "    return %x\n",
      "def donothing(x):\n",
      "    return x\n",
      "%paste\n",
      "%paste\n",
      "def donothing(x):\n",
      "    return x\n",
      "%run Untitled.ipynb\n",
      "%timeit L = [n ** 2 for n in range(1000)]\n",
      "%%timeit\n",
      "L=[]\n",
      "for n in range(1000):\n",
      "    L.append(n**2)\n",
      "%timeit?\n",
      "%magic\n",
      "%lsmagic\n",
      "import math\n",
      "math.sin(2)\n",
      "math.cos(2)\n",
      "print(In)\n",
      "\n",
      "Out\n",
      "print(In[1])\n",
      "print(Out[2])\n",
      "print(Out[4])\n",
      "print(Out[0])\n",
      "print(_)\n",
      "print(__)\n",
      "Out[2]\n",
      "math.sin(2) + math.cos(2);\n",
      "%history\n"
     ]
    }
   ],
   "source": [
    "%history"
   ]
  },
  {
   "cell_type": "markdown",
   "metadata": {},
   "source": [
    "## IPython과 셸 명령어\n",
    "표준 파이썬 인터프리터에서 대화형으로 작업할 때 마주치는 어려움 중 하나는 파이썬 도구와 시스템 명령줄 도구에 접근하기 위해 여러 창을 교대로 사용해야 한다는 점이다. IPython은 이 문제를 해결하기 위해 IPython 터미널에서 바로 셸 명령어를 실행할 수 있는 구문을 제공한다. 마법은 느낌표에서 일어난다. 어떤 줄에서 ! 뒤에 나타나는 것은 파이썬 커널이  아닌 시스템 명령줄에 의해 실행된다.\n",
    "\n",
    "이어지는 내용은 리눅스나 맥 OS X 같은 유닉스 계열의 시스템을 사용한다고 가정한다. 앞으로 나올 예제 중 일부는 다른 유형의 셸을 기본으로 사용하는 윈도우에서는 실패할 것이다.(2016년 윈도우의 기본 배시 셸[Bash shell]의 발표에 따르면 곧 이것이 문제가 되지 않을지도 모른다!). 셸 명령어가 익숙하지 않은 독자라면 언제나 훌륭한 소프트웨어 카펜트리 재단(Software Carpentry Foundation)이 공동으로 작성한 셸 튜토리얼을 확인해볼 것을 권한다\n",
    "<br><br>\n",
    "#### 셸이란?\n",
    "셸/터미널/명령줄 사용법을 모두 설명하는 것은 이번 장의 범위를 넘어서는 일이지만, 초보자를 위해 여기서 간략히 소개하고자 한다. 셸은 컴퓨터와 텍스트로 상호작용하는 한가지 방식이다. 마이크로소프트와 애플이 지금은 보편화된 그래픽 기반 운영체제의 최초 버전을 도입한 1980년대 중반부터 대부분의 컴퓨터 사용자는 메뉴를 클릭하거나 드래그앤드드롭 방식으로 운영체제와 상호작용하고 잇다. 그러나 운영체제는 이러한 그래픽 사용자 인터스 이전부터 존재해왔으며, 주료 일련의 텍스트 입력으로 제어했다. 프롬프트에서 사용자가 명령어를 입력하면 컴퓨터는 사용자가 지시한 작업을 수행했다. 이 같은 초기 프롬프트 시스템이 현재 활동 중인 대부분의 데이터 과학자가 여전히 사용하는 셸과 터미널의 효시다.\n",
    "<br><br>\n",
    "셸에 익숙하지 않은 사람이라면 간단히 아이콘과 메뉴를 클릭하는 것만으로도 많은 결과를 얻을 수 있는데, 왜 셸을 힘들여 배워야 하는지 물을 수도 있다. 셸 사용자는  아마 또 다른 질문으로 답할 것이다. 키보드 입력만 하면 더 쉽게 작업을 처리할 수 있는데 왜 굳이 아이콘을 찾아다니고 메뉴를 클릭해야 하냐고 말이다. 전형적인 IT쟁이들의 꽉 만힌 궤변처럼 들리겠지만, 기본적인 작업을 넘어서 복잡한 고급 작업에 들어가면 셸이 확실히 더 많은 제어를 제공한다. 물론 일반 컴퓨터 사용자에게는 학습곡선이 다소 위협적이겠지만 말이다.\n",
    "<br><br>\n",
    "일례로 사용자가 시스템에서 디렉터리와 파일을 탐색하고 생성하고 수정하는 리눅스/OS X 셸 세션의 예제를 소개한다(osx:~ $는 프롬프트고 $기호 뒤에 오는 모든 것은 입력된 명령이고, # 다음에 오는 텍스트는 실제 입력한 데이터가 아니라 설명이다)."
   ]
  },
  {
   "cell_type": "code",
   "execution_count": 4,
   "metadata": {},
   "outputs": [
    {
     "name": "stdout",
     "output_type": "stream",
     "text": [
      "\"hello world\"\n"
     ]
    }
   ],
   "source": [
    "%echo \"hello world\""
   ]
  },
  {
   "cell_type": "code",
   "execution_count": 2,
   "metadata": {},
   "outputs": [
    {
     "data": {
      "text/plain": [
       "'C:\\\\Users\\\\Mir\\\\Python\\\\RTOS\\\\Python_Data_Science_Handbook'"
      ]
     },
     "execution_count": 2,
     "metadata": {},
     "output_type": "execute_result"
    }
   ],
   "source": [
    "%pwd"
   ]
  },
  {
   "cell_type": "code",
   "execution_count": 5,
   "metadata": {},
   "outputs": [
    {
     "name": "stdout",
     "output_type": "stream",
     "text": [
      " C 드라이브의 볼륨에는 이름이 없습니다.\n",
      " 볼륨 일련 번호: 96EB-D514\n",
      "\n",
      " C:\\Users\\Mir\\Python\\RTOS\\Python_Data_Science_Handbook 디렉터리\n",
      "\n",
      "2018-12-30  오전 04:40    <DIR>          .\n",
      "2018-12-30  오전 04:40    <DIR>          ..\n",
      "2018-12-28  오후 12:53    <DIR>          .idea\n",
      "2018-12-28  오전 11:34    <DIR>          .ipynb_checkpoints\n",
      "2018-12-28  오전 02:12             7,732 Overview.ipynb\n",
      "2018-12-28  오후 12:53               715 temp.ipynb\n",
      "2018-12-30  오전 04:40            39,844 Untitled.ipynb\n",
      "               3개 파일              48,291 바이트\n",
      "               4개 디렉터리  57,470,730,240 바이트 남음\n"
     ]
    }
   ],
   "source": [
    "%ls"
   ]
  },
  {
   "cell_type": "code",
   "execution_count": 6,
   "metadata": {},
   "outputs": [
    {
     "name": "stdout",
     "output_type": "stream",
     "text": [
      "[WinError 2] 지정된 파일을 찾을 수 없습니다: 'fdfd'\n",
      "C:\\Users\\Mir\\Python\\RTOS\\Python_Data_Science_Handbook\n"
     ]
    }
   ],
   "source": [
    "%cd fdfd"
   ]
  },
  {
   "cell_type": "code",
   "execution_count": 7,
   "metadata": {},
   "outputs": [],
   "source": [
    "%mkdir test"
   ]
  },
  {
   "cell_type": "code",
   "execution_count": 8,
   "metadata": {},
   "outputs": [
    {
     "name": "stdout",
     "output_type": "stream",
     "text": [
      " C 드라이브의 볼륨에는 이름이 없습니다.\n",
      " 볼륨 일련 번호: 96EB-D514\n",
      "\n",
      " C:\\Users\\Mir\\Python\\RTOS\\Python_Data_Science_Handbook 디렉터리\n",
      "\n",
      "2018-12-30  오전 04:42    <DIR>          .\n",
      "2018-12-30  오전 04:42    <DIR>          ..\n",
      "2018-12-28  오후 12:53    <DIR>          .idea\n",
      "2018-12-28  오전 11:34    <DIR>          .ipynb_checkpoints\n",
      "2018-12-28  오전 02:12             7,732 Overview.ipynb\n",
      "2018-12-28  오후 12:53               715 temp.ipynb\n",
      "2018-12-30  오전 04:42    <DIR>          test\n",
      "2018-12-30  오전 04:42            42,164 Untitled.ipynb\n",
      "               3개 파일              50,611 바이트\n",
      "               5개 디렉터리  57,470,386,176 바이트 남음\n"
     ]
    }
   ],
   "source": [
    "%ls"
   ]
  },
  {
   "cell_type": "code",
   "execution_count": 9,
   "metadata": {},
   "outputs": [],
   "source": [
    "%rmdir test"
   ]
  },
  {
   "cell_type": "code",
   "execution_count": 10,
   "metadata": {},
   "outputs": [
    {
     "name": "stdout",
     "output_type": "stream",
     "text": [
      " C 드라이브의 볼륨에는 이름이 없습니다.\n",
      " 볼륨 일련 번호: 96EB-D514\n",
      "\n",
      " C:\\Users\\Mir\\Python\\RTOS\\Python_Data_Science_Handbook 디렉터리\n",
      "\n",
      "2018-12-30  오전 04:43    <DIR>          .\n",
      "2018-12-30  오전 04:43    <DIR>          ..\n",
      "2018-12-28  오후 12:53    <DIR>          .idea\n",
      "2018-12-28  오전 11:34    <DIR>          .ipynb_checkpoints\n",
      "2018-12-28  오전 02:12             7,732 Overview.ipynb\n",
      "2018-12-28  오후 12:53               715 temp.ipynb\n",
      "2018-12-30  오전 04:42            42,164 Untitled.ipynb\n",
      "               3개 파일              50,611 바이트\n",
      "               4개 디렉터리  57,470,300,160 바이트 남음\n"
     ]
    }
   ],
   "source": [
    "%ls"
   ]
  },
  {
   "cell_type": "markdown",
   "metadata": {},
   "source": [
    "#### IPython에서의 셸 명령어\n",
    "IPython에서는 명령줄에서 동작하는 명령어 앞에 ! 문자를 접두어로 붙여 바로 사용할 수 있다. 예를 들어 ls, pwd, echo 명령어는 !ls, !pwd, !echo와 같이 실행할 수 있다.\n",
    "<br><br>\n",
    "#### 셸에 값 전달하기 및 셸의 값 전달 받기\n",
    "셸 명령어는 Ipython에서 호출될 뿐만 아니라 IPython 네임스페이스와 상호작용할 수도 있다. 예를 들면, 셸 명령어의 출력값을 할당 연산자를 이용해 파이썬 리스트에 저장할 수 있다."
   ]
  },
  {
   "cell_type": "code",
   "execution_count": 11,
   "metadata": {},
   "outputs": [
    {
     "name": "stdout",
     "output_type": "stream",
     "text": [
      " C 드라이브의 볼륨에는 이름이 없습니다.\n",
      " 볼륨 일련 번호: 96EB-D514\n",
      "\n",
      " C:\\Users\\Mir\\Python\\RTOS\\Python_Data_Science_Handbook 디렉터리\n",
      "\n",
      "2018-12-30  오전 04:44    <DIR>          .\n",
      "2018-12-30  오전 04:44    <DIR>          ..\n",
      "2018-12-28  오후 12:53    <DIR>          .idea\n",
      "2018-12-28  오전 11:34    <DIR>          .ipynb_checkpoints\n",
      "2018-12-28  오전 02:12             7,732 Overview.ipynb\n",
      "2018-12-28  오후 12:53               715 temp.ipynb\n",
      "2018-12-30  오전 04:44            44,755 Untitled.ipynb\n",
      "               3개 파일              53,202 바이트\n",
      "               4개 디렉터리  57,471,414,272 바이트 남음\n",
      "None\n",
      "C:\\Users\\Mir\\Python\\RTOS\\Python_Data_Science_Handbook\n"
     ]
    }
   ],
   "source": [
    "contents = %ls\n",
    "\n",
    "print(contents)\n",
    "\n",
    "directory = %pwd\n",
    "\n",
    "print(directory)"
   ]
  },
  {
   "cell_type": "code",
   "execution_count": 13,
   "metadata": {},
   "outputs": [
    {
     "data": {
      "text/plain": [
       "str"
      ]
     },
     "execution_count": 13,
     "metadata": {},
     "output_type": "execute_result"
    }
   ],
   "source": [
    "type(directory)"
   ]
  },
  {
   "cell_type": "markdown",
   "metadata": {},
   "source": [
    "셸 반환 타입은 파이썬 리스트와 아주 비슷하게 생겼고 그렇게 동작하지만, grep, fields 같은 메서드와 결과값의 검색과 필터, 표시를 쉽게 해주는 s, n , p 속성 같은 추가 기능이 있다. 더 자세한 내용은 IPython 도움말 기능을 사용하자.\n",
    "<br><br>\n",
    "반대 방향으로의 통신, 즉 파이썬 변수를 셸에 전달하는 것은 {varname} 구문을 통해 할 수 있다."
   ]
  },
  {
   "cell_type": "code",
   "execution_count": 14,
   "metadata": {},
   "outputs": [
    {
     "name": "stdout",
     "output_type": "stream",
     "text": [
      "hello from python\n"
     ]
    }
   ],
   "source": [
    "message = \"hello from python\"\n",
    "\n",
    "%echo {message}"
   ]
  },
  {
   "cell_type": "markdown",
   "metadata": {},
   "source": [
    "중괄호 안에는 셸 명령어에 변수의 내용으로 대체될 변수 이름이 들어간다."
   ]
  },
  {
   "cell_type": "markdown",
   "metadata": {},
   "source": [
    "## 셸 관련 매직 명령어\n",
    "어느정도 IPython의 셸 명령어로 작업한 독자라면 파일 시스템을 탐색하기 위해 !cd를 사용할 수 없다는 것을 알아챘을 것이다."
   ]
  },
  {
   "cell_type": "code",
   "execution_count": 15,
   "metadata": {},
   "outputs": [
    {
     "data": {
      "text/plain": [
       "'C:\\\\Users\\\\Mir\\\\Python\\\\RTOS\\\\Python_Data_Science_Handbook'"
      ]
     },
     "execution_count": 15,
     "metadata": {},
     "output_type": "execute_result"
    }
   ],
   "source": [
    "%pwd"
   ]
  },
  {
   "cell_type": "code",
   "execution_count": 16,
   "metadata": {},
   "outputs": [
    {
     "name": "stdout",
     "output_type": "stream",
     "text": [
      "C:\\Users\\Mir\\Python\\RTOS\n"
     ]
    }
   ],
   "source": [
    "%cd .."
   ]
  },
  {
   "cell_type": "code",
   "execution_count": 17,
   "metadata": {},
   "outputs": [
    {
     "data": {
      "text/plain": [
       "'C:\\\\Users\\\\Mir\\\\Python\\\\RTOS'"
      ]
     },
     "execution_count": 17,
     "metadata": {},
     "output_type": "execute_result"
    }
   ],
   "source": [
    "%pwd"
   ]
  },
  {
   "cell_type": "code",
   "execution_count": 18,
   "metadata": {},
   "outputs": [
    {
     "name": "stdout",
     "output_type": "stream",
     "text": [
      "C:\\Users\\Mir\\Python\\RTOS\\Python_Data_Science_Handbook\n"
     ]
    }
   ],
   "source": [
    "%cd Python_Data_Science_Handbook/"
   ]
  },
  {
   "cell_type": "markdown",
   "metadata": {},
   "source": [
    "그 이유는 노트북의 셸 명령어는 임시 서브 셸에서 실행되기 때문이다. 좀더 지속적인 방식으로 작업 중인 디렉토리를 변경하고자 한다면 %cd 명령어를 사용하면 된다.\n",
    "사실, 기본적으로 % 기호 없이 이 명령어를 사용할 수도 있다.\n",
    "이를 automagic 함수라고 하며, 이 행위는 %automagic 매직 함수로 바꿔 사용할 수 있다.\n",
    "<br><br>\n",
    "%cd 외에 셸 명령어와 유사한 함수로는 %cat, %cp, %env, %ls, %man, %mkdir, %more, %mv, %pwd, %rm, %rmdir이 있으며 automagic이 활성화 돼 있다면 모두 % 기호 없이 사용할 수 있다. 이로써 IPython 프로픔트를 일반 셸처럼 사용할 수 있다."
   ]
  },
  {
   "cell_type": "code",
   "execution_count": 19,
   "metadata": {},
   "outputs": [],
   "source": [
    "mkdir tmp"
   ]
  },
  {
   "cell_type": "code",
   "execution_count": 20,
   "metadata": {},
   "outputs": [
    {
     "name": "stdout",
     "output_type": "stream",
     "text": [
      " C 드라이브의 볼륨에는 이름이 없습니다.\n",
      " 볼륨 일련 번호: 96EB-D514\n",
      "\n",
      " C:\\Users\\Mir\\Python\\RTOS\\Python_Data_Science_Handbook 디렉터리\n",
      "\n",
      "2018-12-30  오전 04:52    <DIR>          .\n",
      "2018-12-30  오전 04:52    <DIR>          ..\n",
      "2018-12-28  오후 12:53    <DIR>          .idea\n",
      "2018-12-28  오전 11:34    <DIR>          .ipynb_checkpoints\n",
      "2018-12-28  오전 02:12             7,732 Overview.ipynb\n",
      "2018-12-28  오후 12:53               715 temp.ipynb\n",
      "2018-12-30  오전 04:52    <DIR>          tmp\n",
      "2018-12-30  오전 04:52            50,174 Untitled.ipynb\n",
      "               3개 파일              58,621 바이트\n",
      "               5개 디렉터리  57,467,863,040 바이트 남음\n"
     ]
    }
   ],
   "source": [
    "ls"
   ]
  },
  {
   "cell_type": "code",
   "execution_count": 25,
   "metadata": {},
   "outputs": [
    {
     "name": "stdout",
     "output_type": "stream",
     "text": [
      "지정된 파일을 찾을 수 없습니다.\n"
     ]
    }
   ],
   "source": [
    "%copy myproject.txt tmp/"
   ]
  },
  {
   "cell_type": "code",
   "execution_count": 28,
   "metadata": {},
   "outputs": [
    {
     "name": "stdout",
     "output_type": "stream",
     "text": [
      " C 드라이브의 볼륨에는 이름이 없습니다.\n",
      " 볼륨 일련 번호: 96EB-D514\n",
      "\n",
      " C:\\Users\\Mir\\Python\\RTOS\\Python_Data_Science_Handbook\\tmp 디렉터리\n",
      "\n",
      "2018-12-30  오전 04:52    <DIR>          .\n",
      "2018-12-30  오전 04:52    <DIR>          ..\n",
      "               0개 파일                   0 바이트\n",
      "               2개 디렉터리  57,467,662,336 바이트 남음\n"
     ]
    }
   ],
   "source": [
    "%ls tmp"
   ]
  },
  {
   "cell_type": "code",
   "execution_count": 30,
   "metadata": {},
   "outputs": [],
   "source": [
    "%rmdir tmp"
   ]
  },
  {
   "cell_type": "code",
   "execution_count": 31,
   "metadata": {},
   "outputs": [
    {
     "name": "stdout",
     "output_type": "stream",
     "text": [
      " C 드라이브의 볼륨에는 이름이 없습니다.\n",
      " 볼륨 일련 번호: 96EB-D514\n",
      "\n",
      " C:\\Users\\Mir\\Python\\RTOS\\Python_Data_Science_Handbook 디렉터리\n",
      "\n",
      "2018-12-30  오전 04:53    <DIR>          .\n",
      "2018-12-30  오전 04:53    <DIR>          ..\n",
      "2018-12-28  오후 12:53    <DIR>          .idea\n",
      "2018-12-28  오전 11:34    <DIR>          .ipynb_checkpoints\n",
      "2018-12-28  오전 02:12             7,732 Overview.ipynb\n",
      "2018-12-28  오후 12:53               715 temp.ipynb\n",
      "2018-12-30  오전 04:52            50,174 Untitled.ipynb\n",
      "               3개 파일              58,621 바이트\n",
      "               4개 디렉터리  57,467,629,568 바이트 남음\n"
     ]
    }
   ],
   "source": [
    "%ls"
   ]
  },
  {
   "cell_type": "markdown",
   "metadata": {},
   "source": [
    "이렇게 파이썬 세션과 동일한 터미널 창에서 셸에 접근할 수 있다는 것은 파이썬 코드를 작성하면서 인터프리터와 셀 사이를 왔다 갔다 할 필요가 거의 없다는 뜻이다."
   ]
  },
  {
   "cell_type": "markdown",
   "metadata": {},
   "source": [
    "## 에러와 디버깅\n",
    "코드 개발과 데이터 분석은 항상 어느 정도 시행착오가 필요하며, IPython은 이 절차를 능률화하는 도구를 제공한다. 이번 절에서는 파이썬의 예외 보고를 제어하는 몇 가지 옵션을 간단히 다루고 코드의 에러를 디버깅하는 도구를 살펴본다.\n",
    "<br><br>\n",
    "#### 예외 제어:%xmode\n",
    "파이썬 스크립트가 실패하면  대부분 예외가 발생한다. 인터프리터가 이 예외 중 하나를 발견하면 에러 발생  원인에 대한 정보를 파이썬에서 접근할 수 있는 traceback에서 확인할 수 있다. %xmode 매직 함수를 이용해 IPython은 예외가 발생했을때 출력된 정보의 양을 제어할 수 있다. 다음 코드를 보자."
   ]
  },
  {
   "cell_type": "code",
   "execution_count": 32,
   "metadata": {},
   "outputs": [],
   "source": [
    "def func1(a, b):\n",
    "    return a/b\n",
    "def func2(x):\n",
    "    a = x\n",
    "    b = x - 1\n",
    "    return func1(a, b)"
   ]
  },
  {
   "cell_type": "code",
   "execution_count": 33,
   "metadata": {},
   "outputs": [
    {
     "ename": "ZeroDivisionError",
     "evalue": "division by zero",
     "output_type": "error",
     "traceback": [
      "\u001b[1;31m---------------------------------------------------------------------------\u001b[0m",
      "\u001b[1;31mZeroDivisionError\u001b[0m                         Traceback (most recent call last)",
      "\u001b[1;32m<ipython-input-33-7cb498ea7ed1>\u001b[0m in \u001b[0;36m<module>\u001b[1;34m()\u001b[0m\n\u001b[1;32m----> 1\u001b[1;33m \u001b[0mfunc2\u001b[0m\u001b[1;33m(\u001b[0m\u001b[1;36m1\u001b[0m\u001b[1;33m)\u001b[0m\u001b[1;33m\u001b[0m\u001b[0m\n\u001b[0m",
      "\u001b[1;32m<ipython-input-32-ecc22e732938>\u001b[0m in \u001b[0;36mfunc2\u001b[1;34m(x)\u001b[0m\n\u001b[0;32m      4\u001b[0m     \u001b[0ma\u001b[0m \u001b[1;33m=\u001b[0m \u001b[0mx\u001b[0m\u001b[1;33m\u001b[0m\u001b[0m\n\u001b[0;32m      5\u001b[0m     \u001b[0mb\u001b[0m \u001b[1;33m=\u001b[0m \u001b[0mx\u001b[0m \u001b[1;33m-\u001b[0m \u001b[1;36m1\u001b[0m\u001b[1;33m\u001b[0m\u001b[0m\n\u001b[1;32m----> 6\u001b[1;33m     \u001b[1;32mreturn\u001b[0m \u001b[0mfunc1\u001b[0m\u001b[1;33m(\u001b[0m\u001b[0ma\u001b[0m\u001b[1;33m,\u001b[0m \u001b[0mb\u001b[0m\u001b[1;33m)\u001b[0m\u001b[1;33m\u001b[0m\u001b[0m\n\u001b[0m",
      "\u001b[1;32m<ipython-input-32-ecc22e732938>\u001b[0m in \u001b[0;36mfunc1\u001b[1;34m(a, b)\u001b[0m\n\u001b[0;32m      1\u001b[0m \u001b[1;32mdef\u001b[0m \u001b[0mfunc1\u001b[0m\u001b[1;33m(\u001b[0m\u001b[0ma\u001b[0m\u001b[1;33m,\u001b[0m \u001b[0mb\u001b[0m\u001b[1;33m)\u001b[0m\u001b[1;33m:\u001b[0m\u001b[1;33m\u001b[0m\u001b[0m\n\u001b[1;32m----> 2\u001b[1;33m     \u001b[1;32mreturn\u001b[0m \u001b[0ma\u001b[0m\u001b[1;33m/\u001b[0m\u001b[0mb\u001b[0m\u001b[1;33m\u001b[0m\u001b[0m\n\u001b[0m\u001b[0;32m      3\u001b[0m \u001b[1;32mdef\u001b[0m \u001b[0mfunc2\u001b[0m\u001b[1;33m(\u001b[0m\u001b[0mx\u001b[0m\u001b[1;33m)\u001b[0m\u001b[1;33m:\u001b[0m\u001b[1;33m\u001b[0m\u001b[0m\n\u001b[0;32m      4\u001b[0m     \u001b[0ma\u001b[0m \u001b[1;33m=\u001b[0m \u001b[0mx\u001b[0m\u001b[1;33m\u001b[0m\u001b[0m\n\u001b[0;32m      5\u001b[0m     \u001b[0mb\u001b[0m \u001b[1;33m=\u001b[0m \u001b[0mx\u001b[0m \u001b[1;33m-\u001b[0m \u001b[1;36m1\u001b[0m\u001b[1;33m\u001b[0m\u001b[0m\n",
      "\u001b[1;31mZeroDivisionError\u001b[0m: division by zero"
     ]
    }
   ],
   "source": [
    "func2(1)"
   ]
  },
  {
   "cell_type": "markdown",
   "metadata": {},
   "source": [
    "func2를 호출하니 에러가 발생했고, 출력된 추적 결과를 읽어보면 무슨 일이 발생했는지 정확하게 알 수 있다. 기본적으로 이 추적 메세지에는 에러가 발생하게 된 경위의 단계별 상황을 보여주는 내용이 여려 줄 담겨 있다. %xmode 매직 함수(exception mode[예외 모드]의 약자)를 사용하면 출력할 정보를 변경할 수 있다.\n",
    "<br><br>\n",
    "%xmode는 단일 인수로 그 모드를 취하며, 모드의 값으로는 Plain, Context, Verbose를 받을 수 있다. 기본값은 Context고 방금 본 것과 같은 내용을 출력한다. Plain은 좀 더 간결한 형태를 띠며 더 적은 정보를 제공한다."
   ]
  },
  {
   "cell_type": "code",
   "execution_count": 34,
   "metadata": {},
   "outputs": [
    {
     "name": "stdout",
     "output_type": "stream",
     "text": [
      "Exception reporting mode: Plain\n"
     ]
    }
   ],
   "source": [
    "%xmode Plain"
   ]
  },
  {
   "cell_type": "code",
   "execution_count": 35,
   "metadata": {},
   "outputs": [
    {
     "ename": "ZeroDivisionError",
     "evalue": "division by zero",
     "output_type": "error",
     "traceback": [
      "Traceback \u001b[1;36m(most recent call last)\u001b[0m:\n",
      "  File \u001b[0;32m\"<ipython-input-35-7cb498ea7ed1>\"\u001b[0m, line \u001b[0;32m1\u001b[0m, in \u001b[0;35m<module>\u001b[0m\n    func2(1)\n",
      "  File \u001b[0;32m\"<ipython-input-32-ecc22e732938>\"\u001b[0m, line \u001b[0;32m6\u001b[0m, in \u001b[0;35mfunc2\u001b[0m\n    return func1(a, b)\n",
      "\u001b[1;36m  File \u001b[1;32m\"<ipython-input-32-ecc22e732938>\"\u001b[1;36m, line \u001b[1;32m2\u001b[1;36m, in \u001b[1;35mfunc1\u001b[1;36m\u001b[0m\n\u001b[1;33m    return a/b\u001b[0m\n",
      "\u001b[1;31mZeroDivisionError\u001b[0m\u001b[1;31m:\u001b[0m division by zero\n"
     ]
    }
   ],
   "source": [
    "func2(1)"
   ]
  },
  {
   "cell_type": "markdown",
   "metadata": {},
   "source": [
    "Verbos 모드는 호출된 함수의 인수를 포함한 추가적인 정보를 더 제공한다."
   ]
  },
  {
   "cell_type": "code",
   "execution_count": 36,
   "metadata": {},
   "outputs": [
    {
     "name": "stdout",
     "output_type": "stream",
     "text": [
      "Exception reporting mode: Verbose\n"
     ]
    }
   ],
   "source": [
    "%xmode Verbose"
   ]
  },
  {
   "cell_type": "code",
   "execution_count": 37,
   "metadata": {},
   "outputs": [
    {
     "ename": "ZeroDivisionError",
     "evalue": "division by zero",
     "output_type": "error",
     "traceback": [
      "\u001b[1;31m---------------------------------------------------------------------------\u001b[0m",
      "\u001b[1;31mZeroDivisionError\u001b[0m                         Traceback (most recent call last)",
      "\u001b[1;32m<ipython-input-37-7cb498ea7ed1>\u001b[0m in \u001b[0;36m<module>\u001b[1;34m()\u001b[0m\n\u001b[1;32m----> 1\u001b[1;33m \u001b[0mfunc2\u001b[0m\u001b[1;33m(\u001b[0m\u001b[1;36m1\u001b[0m\u001b[1;33m)\u001b[0m\u001b[1;33m\u001b[0m\u001b[0m\n\u001b[0m        \u001b[1;36mglobal\u001b[0m \u001b[0;36mfunc2\u001b[0m \u001b[1;34m= <function func2 at 0x000001E95C7B0378>\u001b[0m\n",
      "\u001b[1;32m<ipython-input-32-ecc22e732938>\u001b[0m in \u001b[0;36mfunc2\u001b[1;34m(x=1)\u001b[0m\n\u001b[0;32m      4\u001b[0m     \u001b[0ma\u001b[0m \u001b[1;33m=\u001b[0m \u001b[0mx\u001b[0m\u001b[1;33m\u001b[0m\u001b[0m\n\u001b[0;32m      5\u001b[0m     \u001b[0mb\u001b[0m \u001b[1;33m=\u001b[0m \u001b[0mx\u001b[0m \u001b[1;33m-\u001b[0m \u001b[1;36m1\u001b[0m\u001b[1;33m\u001b[0m\u001b[0m\n\u001b[1;32m----> 6\u001b[1;33m     \u001b[1;32mreturn\u001b[0m \u001b[0mfunc1\u001b[0m\u001b[1;33m(\u001b[0m\u001b[0ma\u001b[0m\u001b[1;33m,\u001b[0m \u001b[0mb\u001b[0m\u001b[1;33m)\u001b[0m\u001b[1;33m\u001b[0m\u001b[0m\n\u001b[0m        \u001b[1;36mglobal\u001b[0m \u001b[0;36mfunc1\u001b[0m \u001b[1;34m= <function func1 at 0x000001E95C7B0A60>\u001b[0m\u001b[1;34m\n        \u001b[0m\u001b[0;36ma\u001b[0m \u001b[1;34m= 1\u001b[0m\u001b[1;34m\n        \u001b[0m\u001b[0;36mb\u001b[0m \u001b[1;34m= 0\u001b[0m\n",
      "\u001b[1;32m<ipython-input-32-ecc22e732938>\u001b[0m in \u001b[0;36mfunc1\u001b[1;34m(a=1, b=0)\u001b[0m\n\u001b[0;32m      1\u001b[0m \u001b[1;32mdef\u001b[0m \u001b[0mfunc1\u001b[0m\u001b[1;33m(\u001b[0m\u001b[0ma\u001b[0m\u001b[1;33m,\u001b[0m \u001b[0mb\u001b[0m\u001b[1;33m)\u001b[0m\u001b[1;33m:\u001b[0m\u001b[1;33m\u001b[0m\u001b[0m\n\u001b[1;32m----> 2\u001b[1;33m     \u001b[1;32mreturn\u001b[0m \u001b[0ma\u001b[0m\u001b[1;33m/\u001b[0m\u001b[0mb\u001b[0m\u001b[1;33m\u001b[0m\u001b[0m\n\u001b[0m        \u001b[0;36ma\u001b[0m \u001b[1;34m= 1\u001b[0m\u001b[1;34m\n        \u001b[0m\u001b[0;36mb\u001b[0m \u001b[1;34m= 0\u001b[0m\n\u001b[0;32m      3\u001b[0m \u001b[1;32mdef\u001b[0m \u001b[0mfunc2\u001b[0m\u001b[1;33m(\u001b[0m\u001b[0mx\u001b[0m\u001b[1;33m)\u001b[0m\u001b[1;33m:\u001b[0m\u001b[1;33m\u001b[0m\u001b[0m\n\u001b[0;32m      4\u001b[0m     \u001b[0ma\u001b[0m \u001b[1;33m=\u001b[0m \u001b[0mx\u001b[0m\u001b[1;33m\u001b[0m\u001b[0m\n\u001b[0;32m      5\u001b[0m     \u001b[0mb\u001b[0m \u001b[1;33m=\u001b[0m \u001b[0mx\u001b[0m \u001b[1;33m-\u001b[0m \u001b[1;36m1\u001b[0m\u001b[1;33m\u001b[0m\u001b[0m\n",
      "\u001b[1;31mZeroDivisionError\u001b[0m: division by zero"
     ]
    }
   ],
   "source": [
    "func2(1)"
   ]
  },
  {
   "cell_type": "markdown",
   "metadata": {},
   "source": [
    "이 추가 정보는 예외가 발생한 이유를 좀 더 정확하게 파악하는데 도움이 될 수 있다. 그렇다면 항상 Verbose 모드를 써도 될 텐데 왜 그러지 않는 걸까? 코드가 복잡해지면 이 유형의 역추적이 상당히 길어질 수 있기 때문이다. 상황에 따라 간결한 Default 모드로도 쉽게 원인을 찾을 수 있다."
   ]
  },
  {
   "cell_type": "markdown",
   "metadata": {},
   "source": [
    "#### 디버깅: 역추적 내용을 확인한느 것으로 충분하지 않을 경우\n",
    "대화형 디버깅을 위한 표준 파이썬 도구는 파이썬 디버거인 pdb다. 이 디버거를 이용하면 코드를  한 줄씩 읽어가면서 무엇이 더 까다로운 오류를 일으키는지 확ㅇ니할 수 있다. 이 디버거의 IPython 확장 버전은 IPython 디버거(IPython debugger)인 ipdb다.\n",
    "<br><br>\n",
    "이 두 디버거를 실행하고 사용하는 방법에는 여러가지가 있지만 여기서 전부 다루지는 않겠다. 자세한 내용은 이 두 유틸리티에 대한 온랑니 문서를 참조하자.\n",
    "<br><br>\n",
    "IPython에서 디버깅에 가장 편리한 인터페이스는 %debug 매직 멸령어일 것이다. 예외를 만난 뒤 이 명령어를 호출하면 예외 발생 지점에 대화형 디버깅 프롬프트를 자동으로 연다. ipdb 프롬프트가 스택의 현재 상태를 알아보고 사용 가능한 변수를 탐색할 뿐만 아니라 파이썬 명령어를 실행하게 해준다!\n",
    "<br><br>\n",
    "최근의 예외를 보고 몇 가지 기본적인 작업(a와 b의 값을 출력하고 디버깅 세션을 종료하는 quit 명령어 입력)을 해보자."
   ]
  },
  {
   "cell_type": "code",
   "execution_count": 38,
   "metadata": {},
   "outputs": [
    {
     "name": "stdout",
     "output_type": "stream",
     "text": [
      "> \u001b[1;32m<ipython-input-32-ecc22e732938>\u001b[0m(2)\u001b[0;36mfunc1\u001b[1;34m()\u001b[0m\n",
      "\u001b[1;32m      1 \u001b[1;33m\u001b[1;32mdef\u001b[0m \u001b[0mfunc1\u001b[0m\u001b[1;33m(\u001b[0m\u001b[0ma\u001b[0m\u001b[1;33m,\u001b[0m \u001b[0mb\u001b[0m\u001b[1;33m)\u001b[0m\u001b[1;33m:\u001b[0m\u001b[1;33m\u001b[0m\u001b[0m\n",
      "\u001b[0m\u001b[1;32m----> 2 \u001b[1;33m    \u001b[1;32mreturn\u001b[0m \u001b[0ma\u001b[0m\u001b[1;33m/\u001b[0m\u001b[0mb\u001b[0m\u001b[1;33m\u001b[0m\u001b[0m\n",
      "\u001b[0m\u001b[1;32m      3 \u001b[1;33m\u001b[1;32mdef\u001b[0m \u001b[0mfunc2\u001b[0m\u001b[1;33m(\u001b[0m\u001b[0mx\u001b[0m\u001b[1;33m)\u001b[0m\u001b[1;33m:\u001b[0m\u001b[1;33m\u001b[0m\u001b[0m\n",
      "\u001b[0m\u001b[1;32m      4 \u001b[1;33m    \u001b[0ma\u001b[0m \u001b[1;33m=\u001b[0m \u001b[0mx\u001b[0m\u001b[1;33m\u001b[0m\u001b[0m\n",
      "\u001b[0m\u001b[1;32m      5 \u001b[1;33m    \u001b[0mb\u001b[0m \u001b[1;33m=\u001b[0m \u001b[0mx\u001b[0m \u001b[1;33m-\u001b[0m \u001b[1;36m1\u001b[0m\u001b[1;33m\u001b[0m\u001b[0m\n",
      "\u001b[0m\n",
      "ipdb> print(a)\n",
      "1\n",
      "ipdb> print(b)\n",
      "0\n",
      "ipdb> quit\n"
     ]
    }
   ],
   "source": [
    "%debug"
   ]
  },
  {
   "cell_type": "markdown",
   "metadata": {},
   "source": [
    "그러나 대화형 디버거에서는 이보다 더 많은 일을 할 수 있다. 스택을 따라 위 아래로 올라가거나 내려갈 수도 있고 거기서 변숫값을 탐색할 수도 있다."
   ]
  },
  {
   "cell_type": "code",
   "execution_count": 39,
   "metadata": {},
   "outputs": [
    {
     "name": "stdout",
     "output_type": "stream",
     "text": [
      "> \u001b[1;32m<ipython-input-32-ecc22e732938>\u001b[0m(2)\u001b[0;36mfunc1\u001b[1;34m()\u001b[0m\n",
      "\u001b[1;32m      1 \u001b[1;33m\u001b[1;32mdef\u001b[0m \u001b[0mfunc1\u001b[0m\u001b[1;33m(\u001b[0m\u001b[0ma\u001b[0m\u001b[1;33m,\u001b[0m \u001b[0mb\u001b[0m\u001b[1;33m)\u001b[0m\u001b[1;33m:\u001b[0m\u001b[1;33m\u001b[0m\u001b[0m\n",
      "\u001b[0m\u001b[1;32m----> 2 \u001b[1;33m    \u001b[1;32mreturn\u001b[0m \u001b[0ma\u001b[0m\u001b[1;33m/\u001b[0m\u001b[0mb\u001b[0m\u001b[1;33m\u001b[0m\u001b[0m\n",
      "\u001b[0m\u001b[1;32m      3 \u001b[1;33m\u001b[1;32mdef\u001b[0m \u001b[0mfunc2\u001b[0m\u001b[1;33m(\u001b[0m\u001b[0mx\u001b[0m\u001b[1;33m)\u001b[0m\u001b[1;33m:\u001b[0m\u001b[1;33m\u001b[0m\u001b[0m\n",
      "\u001b[0m\u001b[1;32m      4 \u001b[1;33m    \u001b[0ma\u001b[0m \u001b[1;33m=\u001b[0m \u001b[0mx\u001b[0m\u001b[1;33m\u001b[0m\u001b[0m\n",
      "\u001b[0m\u001b[1;32m      5 \u001b[1;33m    \u001b[0mb\u001b[0m \u001b[1;33m=\u001b[0m \u001b[0mx\u001b[0m \u001b[1;33m-\u001b[0m \u001b[1;36m1\u001b[0m\u001b[1;33m\u001b[0m\u001b[0m\n",
      "\u001b[0m\n",
      "ipdb> up\n",
      "> \u001b[1;32m<ipython-input-32-ecc22e732938>\u001b[0m(6)\u001b[0;36mfunc2\u001b[1;34m()\u001b[0m\n",
      "\u001b[1;32m      2 \u001b[1;33m    \u001b[1;32mreturn\u001b[0m \u001b[0ma\u001b[0m\u001b[1;33m/\u001b[0m\u001b[0mb\u001b[0m\u001b[1;33m\u001b[0m\u001b[0m\n",
      "\u001b[0m\u001b[1;32m      3 \u001b[1;33m\u001b[1;32mdef\u001b[0m \u001b[0mfunc2\u001b[0m\u001b[1;33m(\u001b[0m\u001b[0mx\u001b[0m\u001b[1;33m)\u001b[0m\u001b[1;33m:\u001b[0m\u001b[1;33m\u001b[0m\u001b[0m\n",
      "\u001b[0m\u001b[1;32m      4 \u001b[1;33m    \u001b[0ma\u001b[0m \u001b[1;33m=\u001b[0m \u001b[0mx\u001b[0m\u001b[1;33m\u001b[0m\u001b[0m\n",
      "\u001b[0m\u001b[1;32m      5 \u001b[1;33m    \u001b[0mb\u001b[0m \u001b[1;33m=\u001b[0m \u001b[0mx\u001b[0m \u001b[1;33m-\u001b[0m \u001b[1;36m1\u001b[0m\u001b[1;33m\u001b[0m\u001b[0m\n",
      "\u001b[0m\u001b[1;32m----> 6 \u001b[1;33m    \u001b[1;32mreturn\u001b[0m \u001b[0mfunc1\u001b[0m\u001b[1;33m(\u001b[0m\u001b[0ma\u001b[0m\u001b[1;33m,\u001b[0m \u001b[0mb\u001b[0m\u001b[1;33m)\u001b[0m\u001b[1;33m\u001b[0m\u001b[0m\n",
      "\u001b[0m\n",
      "ipdb> print(x)\n",
      "1\n",
      "ipdb> up\n",
      "> \u001b[1;32m<ipython-input-37-7cb498ea7ed1>\u001b[0m(1)\u001b[0;36m<module>\u001b[1;34m()\u001b[0m\n",
      "\u001b[1;32m----> 1 \u001b[1;33m\u001b[0mfunc2\u001b[0m\u001b[1;33m(\u001b[0m\u001b[1;36m1\u001b[0m\u001b[1;33m)\u001b[0m\u001b[1;33m\u001b[0m\u001b[0m\n",
      "\u001b[0m\n",
      "ipdb> down\n",
      "> \u001b[1;32m<ipython-input-32-ecc22e732938>\u001b[0m(6)\u001b[0;36mfunc2\u001b[1;34m()\u001b[0m\n",
      "\u001b[1;32m      2 \u001b[1;33m    \u001b[1;32mreturn\u001b[0m \u001b[0ma\u001b[0m\u001b[1;33m/\u001b[0m\u001b[0mb\u001b[0m\u001b[1;33m\u001b[0m\u001b[0m\n",
      "\u001b[0m\u001b[1;32m      3 \u001b[1;33m\u001b[1;32mdef\u001b[0m \u001b[0mfunc2\u001b[0m\u001b[1;33m(\u001b[0m\u001b[0mx\u001b[0m\u001b[1;33m)\u001b[0m\u001b[1;33m:\u001b[0m\u001b[1;33m\u001b[0m\u001b[0m\n",
      "\u001b[0m\u001b[1;32m      4 \u001b[1;33m    \u001b[0ma\u001b[0m \u001b[1;33m=\u001b[0m \u001b[0mx\u001b[0m\u001b[1;33m\u001b[0m\u001b[0m\n",
      "\u001b[0m\u001b[1;32m      5 \u001b[1;33m    \u001b[0mb\u001b[0m \u001b[1;33m=\u001b[0m \u001b[0mx\u001b[0m \u001b[1;33m-\u001b[0m \u001b[1;36m1\u001b[0m\u001b[1;33m\u001b[0m\u001b[0m\n",
      "\u001b[0m\u001b[1;32m----> 6 \u001b[1;33m    \u001b[1;32mreturn\u001b[0m \u001b[0mfunc1\u001b[0m\u001b[1;33m(\u001b[0m\u001b[0ma\u001b[0m\u001b[1;33m,\u001b[0m \u001b[0mb\u001b[0m\u001b[1;33m)\u001b[0m\u001b[1;33m\u001b[0m\u001b[0m\n",
      "\u001b[0m\n",
      "ipdb> \n",
      "> \u001b[1;32m<ipython-input-32-ecc22e732938>\u001b[0m(2)\u001b[0;36mfunc1\u001b[1;34m()\u001b[0m\n",
      "\u001b[1;32m      1 \u001b[1;33m\u001b[1;32mdef\u001b[0m \u001b[0mfunc1\u001b[0m\u001b[1;33m(\u001b[0m\u001b[0ma\u001b[0m\u001b[1;33m,\u001b[0m \u001b[0mb\u001b[0m\u001b[1;33m)\u001b[0m\u001b[1;33m:\u001b[0m\u001b[1;33m\u001b[0m\u001b[0m\n",
      "\u001b[0m\u001b[1;32m----> 2 \u001b[1;33m    \u001b[1;32mreturn\u001b[0m \u001b[0ma\u001b[0m\u001b[1;33m/\u001b[0m\u001b[0mb\u001b[0m\u001b[1;33m\u001b[0m\u001b[0m\n",
      "\u001b[0m\u001b[1;32m      3 \u001b[1;33m\u001b[1;32mdef\u001b[0m \u001b[0mfunc2\u001b[0m\u001b[1;33m(\u001b[0m\u001b[0mx\u001b[0m\u001b[1;33m)\u001b[0m\u001b[1;33m:\u001b[0m\u001b[1;33m\u001b[0m\u001b[0m\n",
      "\u001b[0m\u001b[1;32m      4 \u001b[1;33m    \u001b[0ma\u001b[0m \u001b[1;33m=\u001b[0m \u001b[0mx\u001b[0m\u001b[1;33m\u001b[0m\u001b[0m\n",
      "\u001b[0m\u001b[1;32m      5 \u001b[1;33m    \u001b[0mb\u001b[0m \u001b[1;33m=\u001b[0m \u001b[0mx\u001b[0m \u001b[1;33m-\u001b[0m \u001b[1;36m1\u001b[0m\u001b[1;33m\u001b[0m\u001b[0m\n",
      "\u001b[0m\n",
      "ipdb> quit\n"
     ]
    }
   ],
   "source": [
    "%debug"
   ]
  },
  {
   "cell_type": "markdown",
   "metadata": {},
   "source": [
    "이로써 에러를 일으킨 원인뿐만 아니라 어느 함수 호출이 에러를 발생시켰는지도 빠르게 알아낼 수 있다. 예외가 발생할 때마다 자동을 ㅗ디버거가 실행되기를 바란다면 이 자동 행위를 활성화하는 %pdb 매직 함수를 사용하면 된다."
   ]
  },
  {
   "cell_type": "code",
   "execution_count": 40,
   "metadata": {},
   "outputs": [
    {
     "name": "stdout",
     "output_type": "stream",
     "text": [
      "Exception reporting mode: Plain\n"
     ]
    }
   ],
   "source": [
    "%xmode Plain"
   ]
  },
  {
   "cell_type": "code",
   "execution_count": 41,
   "metadata": {},
   "outputs": [
    {
     "name": "stdout",
     "output_type": "stream",
     "text": [
      "Automatic pdb calling has been turned ON\n"
     ]
    }
   ],
   "source": [
    "%pdb on"
   ]
  },
  {
   "cell_type": "code",
   "execution_count": 42,
   "metadata": {},
   "outputs": [
    {
     "ename": "ZeroDivisionError",
     "evalue": "division by zero",
     "output_type": "error",
     "traceback": [
      "Traceback \u001b[1;36m(most recent call last)\u001b[0m:\n",
      "  File \u001b[0;32m\"<ipython-input-42-7cb498ea7ed1>\"\u001b[0m, line \u001b[0;32m1\u001b[0m, in \u001b[0;35m<module>\u001b[0m\n    func2(1)\n",
      "  File \u001b[0;32m\"<ipython-input-32-ecc22e732938>\"\u001b[0m, line \u001b[0;32m6\u001b[0m, in \u001b[0;35mfunc2\u001b[0m\n    return func1(a, b)\n",
      "\u001b[1;36m  File \u001b[1;32m\"<ipython-input-32-ecc22e732938>\"\u001b[1;36m, line \u001b[1;32m2\u001b[1;36m, in \u001b[1;35mfunc1\u001b[1;36m\u001b[0m\n\u001b[1;33m    return a/b\u001b[0m\n",
      "\u001b[1;31mZeroDivisionError\u001b[0m\u001b[1;31m:\u001b[0m division by zero\n"
     ]
    },
    {
     "name": "stdout",
     "output_type": "stream",
     "text": [
      "> \u001b[1;32m<ipython-input-32-ecc22e732938>\u001b[0m(2)\u001b[0;36mfunc1\u001b[1;34m()\u001b[0m\n",
      "\u001b[1;32m      1 \u001b[1;33m\u001b[1;32mdef\u001b[0m \u001b[0mfunc1\u001b[0m\u001b[1;33m(\u001b[0m\u001b[0ma\u001b[0m\u001b[1;33m,\u001b[0m \u001b[0mb\u001b[0m\u001b[1;33m)\u001b[0m\u001b[1;33m:\u001b[0m\u001b[1;33m\u001b[0m\u001b[0m\n",
      "\u001b[0m\u001b[1;32m----> 2 \u001b[1;33m    \u001b[1;32mreturn\u001b[0m \u001b[0ma\u001b[0m\u001b[1;33m/\u001b[0m\u001b[0mb\u001b[0m\u001b[1;33m\u001b[0m\u001b[0m\n",
      "\u001b[0m\u001b[1;32m      3 \u001b[1;33m\u001b[1;32mdef\u001b[0m \u001b[0mfunc2\u001b[0m\u001b[1;33m(\u001b[0m\u001b[0mx\u001b[0m\u001b[1;33m)\u001b[0m\u001b[1;33m:\u001b[0m\u001b[1;33m\u001b[0m\u001b[0m\n",
      "\u001b[0m\u001b[1;32m      4 \u001b[1;33m    \u001b[0ma\u001b[0m \u001b[1;33m=\u001b[0m \u001b[0mx\u001b[0m\u001b[1;33m\u001b[0m\u001b[0m\n",
      "\u001b[0m\u001b[1;32m      5 \u001b[1;33m    \u001b[0mb\u001b[0m \u001b[1;33m=\u001b[0m \u001b[0mx\u001b[0m \u001b[1;33m-\u001b[0m \u001b[1;36m1\u001b[0m\u001b[1;33m\u001b[0m\u001b[0m\n",
      "\u001b[0m\n",
      "ipdb> print(b)\n",
      "0\n",
      "ipdb> quit\n"
     ]
    }
   ],
   "source": [
    "func2(1)"
   ]
  },
  {
   "cell_type": "markdown",
   "metadata": {},
   "source": [
    "마지막으로 대화형 모드에서 시작부터 실행하고자 하는 스크립트가 있다면 %run - d  명령어로 스크립트를 실행할 수 있고 코드를 한 줄씩 대화형으로 따라가려면 next 명령어를 사용하면 된다."
   ]
  },
  {
   "cell_type": "code",
   "execution_count": 43,
   "metadata": {},
   "outputs": [
    {
     "name": "stdout",
     "output_type": "stream",
     "text": [
      "Exception reporting mode: Verbose\n"
     ]
    }
   ],
   "source": [
    "%xmode Verbose"
   ]
  },
  {
   "cell_type": "code",
   "execution_count": 44,
   "metadata": {},
   "outputs": [
    {
     "name": "stdout",
     "output_type": "stream",
     "text": [
      "Automatic pdb calling has been turned OFF\n"
     ]
    }
   ],
   "source": [
    "%pdb off"
   ]
  },
  {
   "cell_type": "markdown",
   "metadata": {},
   "source": [
    "## 코드 프로파일링 및 시간 측정\n",
    "코드를 작성하고 데이터 처리 파이프라인을 생성하는 과정에서 다양한 구현물 사이의 균형을 유지하기 위해 조정해야 하는 요소가 있다. 알고리즘 개발 초에 이런 문제를 신경 쓰는 것은 비생산적이다. 도널드 커누스(Donald Knuth)가 했던 유명한 말을 인용하자면\"시간의 97%를 차지하는 미미한 효율성에 대한 고민을 버려야 한다. 섣부른 최적화는 만악의 근원이다.\"\n",
    "<br><br>\n",
    "그러나 코드가 제대로 동작하기 시작하면 코드의 효율성에 대해 좀 더 고민하는 것이 좋다. 때로는 특정 명령어나 일련의 멸령어의 실행 시간을 확인하는 것이 유용하고, 때로는 멀티라인 프로세스를 면밀하게 분석하고 복잡한 일련의 작업에서 병목이 되는 지점을 찾는 것이 유용하다. IPython은 이런 방식으로 코드의 실행 시간을 측정하고 프로파일링하는 다양한 기능을 제공한다. 이제 다음 IPython 매직 명령어들을 알아보자\n",
    "\n",
    "- %time 단일 문장의 실행 시간을 측정\n",
    "- %tiemit 단일 문장을 반복 실행해 더 정확하게 실행 시간을 측정\n",
    "- %prun 프로파일러로 코드를 실행함\n",
    "- %lprun 라인 단위 프로파일러(line-by-line profiler)로 코드를 실행\n",
    "- %memit 단일 문장의 메모리 사용량을 측정\n",
    "- %mprun 라인 단위 메모리 프로파일러(line-by-line memory profiler)로 코드를 실행\n",
    "\n",
    "마지막 명령어 네 개는 IPython에 포함돼 있지 않기 때문에 다음 절에서 논의할 line_profiler와 memory_profiler 확장 모듈을 설치해야 한다."
   ]
  },
  {
   "cell_type": "markdown",
   "metadata": {},
   "source": [
    "#### 코드 조각의 실행 시간 측정하기: %timeit과 %time\n",
    "13쪽 'IPython 매직 명령어'의 매직 함수를 소개할 때 %timeit 라인 매직과 %%tiemit 셸 매직을 살펴봤다. %%timeit은 코드 조각(code snippet)을 반복 실행해 실행 시간을 측정할 때 사용할 수 있다."
   ]
  },
  {
   "cell_type": "code",
   "execution_count": 45,
   "metadata": {},
   "outputs": [
    {
     "name": "stdout",
     "output_type": "stream",
     "text": [
      "1.2 µs ± 12.2 ns per loop (mean ± std. dev. of 7 runs, 1000000 loops each)\n"
     ]
    }
   ],
   "source": [
    "%timeit sum(range(100))"
   ]
  },
  {
   "cell_type": "markdown",
   "metadata": {},
   "source": [
    "이 연산은 매우 빠르기 때문에 %timeit이 자동으로 수 많은 반복을 수행한다. 더 느린 명령어의 경우, %timeit은 자동으로 조정해서 더 적은 횟수의 반복을 수행한다."
   ]
  },
  {
   "cell_type": "code",
   "execution_count": 50,
   "metadata": {},
   "outputs": [
    {
     "name": "stdout",
     "output_type": "stream",
     "text": [
      "432 ms ± 4.47 ms per loop (mean ± std. dev. of 7 runs, 1 loop each)\n"
     ]
    }
   ],
   "source": [
    "%%timeit\n",
    "total = 0\n",
    "for i in range(1000):\n",
    "    for j in range(1000):\n",
    "        total += i * (-1) ** j"
   ]
  },
  {
   "cell_type": "markdown",
   "metadata": {},
   "source": [
    "때론느 작업을 반복한느 것이 최고의 방법은 아니다. 예를 들어, 정렬하고 싶은 목록이 있다면 반복 작업으로 왜곡이 발생할 수도 있다. 미리 정렬된 목록을 정렬하는 것이 정렬되지 않은 목록을 정렬한느 것보다 훨씬 빠르므로 반복은 결과를 왜곡시키게 된다."
   ]
  },
  {
   "cell_type": "code",
   "execution_count": 51,
   "metadata": {},
   "outputs": [
    {
     "name": "stdout",
     "output_type": "stream",
     "text": [
      "535 µs ± 39 µs per loop (mean ± std. dev. of 7 runs, 1000 loops each)\n"
     ]
    }
   ],
   "source": [
    "import random\n",
    "L = [random.random() for i in range(100000)]\n",
    "%timeit L.sort()"
   ]
  },
  {
   "cell_type": "markdown",
   "metadata": {},
   "source": [
    "이 경우 %time 매직 함수를 사용하는 게 더 낫다. 또 짧은 시스템 관련 지연이 결과에 영향을 미칠 가능 성이 작을 때는 이 함수가 장기 실행 명령어에 적합한 방법일 수 있다. 정렬되지 않은 리스트와 미리 정렬된 리스트의 정렬 시간을 측정해 보자."
   ]
  },
  {
   "cell_type": "code",
   "execution_count": 52,
   "metadata": {},
   "outputs": [
    {
     "name": "stdout",
     "output_type": "stream",
     "text": [
      "정렬되지 않은 리스트를 정렬:\n",
      "Wall time: 17 ms\n"
     ]
    }
   ],
   "source": [
    "import random\n",
    "L = [random.random() for i in range(100000)]\n",
    "print(\"정렬되지 않은 리스트를 정렬:\")\n",
    "%time L.sort()"
   ]
  },
  {
   "cell_type": "code",
   "execution_count": 53,
   "metadata": {},
   "outputs": [
    {
     "name": "stdout",
     "output_type": "stream",
     "text": [
      "이미 정렬된 리스트를 정렬:\n",
      "Wall time: 3 ms\n"
     ]
    }
   ],
   "source": [
    "print(\"이미 정렬된 리스트를 정렬:\")\n",
    "%time L.sort()"
   ]
  },
  {
   "cell_type": "markdown",
   "metadata": {},
   "source": [
    "미리 정렬된 리스트를 정렬하는 것이 얼마나 더 빠른지 보라. 그리고 미리 정렬된 리스트라도 %time으로 측정한 시간이 %timeit으로 측정한 시간보다 얼마나 더 긴지 보라! 이는 %timeit이 물밑에서 시스템 호출 시간 측정을 방해하지 못하도록 몇몇 영리한 작업을 수행하기 때문이다. 예를 들면, 이 명령어는 시간 측정에 영향을 줄 수도 있는 미사용 파이썬 객체를 정리하는(흔히 가비지 컬렉션이라고 함) 작업을 못 하게 막는다. 이러한 이유로 %tiemit 결과는 보통 $time 결과보다 현저히 더 빠르다.\n",
    "<br><br>\n",
    "%timeit과 마찬가지로 %time의 경우에도 % 기호를 두 개 사용해 여러 줄로 된 스크립트의 시간을 측정하는 셀 매직을 사용할 수 있다."
   ]
  },
  {
   "cell_type": "code",
   "execution_count": 54,
   "metadata": {},
   "outputs": [
    {
     "name": "stdout",
     "output_type": "stream",
     "text": [
      "Wall time: 534 ms\n"
     ]
    }
   ],
   "source": [
    "%%time\n",
    "total = 0\n",
    "for i in range(1000):\n",
    "    for j in range(1000):\n",
    "        total += i * (-1) ** j\n",
    "        "
   ]
  },
  {
   "cell_type": "markdown",
   "metadata": {},
   "source": [
    "%time과 %timeit에서 사용할 수 있는 옵션을 포함한 더 많은 정보를 알고 싶다면 IPython의 도움말기능(IPython 프롬프트에서 %time?을 입력)을 사용하면 된다."
   ]
  },
  {
   "cell_type": "markdown",
   "metadata": {},
   "source": [
    "#### 전체 스크립트 프로파일링하기: %prun\n",
    "프로그램은 여러 단일 문장으로 구성되며, 때로는 전체 맥락에서 이 문장들의 실행 시간을 측정하는 것이 문장별로 측정하는 것보다 더 중요하다. 파이썬에는 내장된 코드 프로파일러(파이썬 문서에서 확인 할 수 있음)가 있지만, IPython은 이 프로파이러를 훨씬 더 편리하게 사용할 수 있도록 매직 함수 형태의 %prun을 제공한다.\n",
    "<br><br>\n",
    "그 예로 몇가지 계산을 수행하는 간단한 함수를 정의할 것이다."
   ]
  },
  {
   "cell_type": "code",
   "execution_count": 56,
   "metadata": {},
   "outputs": [],
   "source": [
    "def sum_of_lists(N):\n",
    "    total = 0\n",
    "    for i in range(5):\n",
    "        L = [j ^ (j>>i) for j in range(N)]\n",
    "        total += sum(L)\n",
    "    return total"
   ]
  },
  {
   "cell_type": "markdown",
   "metadata": {},
   "source": [
    "이제 함수 호출과 함께 %prun을 호출해 프로파일링한 결과를 볼 수 있다."
   ]
  },
  {
   "cell_type": "code",
   "execution_count": 57,
   "metadata": {},
   "outputs": [
    {
     "name": "stdout",
     "output_type": "stream",
     "text": [
      " "
     ]
    }
   ],
   "source": [
    "%prun sum_of_lists(100000)"
   ]
  },
  {
   "cell_type": "markdown",
   "metadata": {},
   "source": [
    "그 결과는 각 함수 호출의 총 시간(위 예제에서 tottime) 순서대로 어느 함수를 실행할 때 대부분의 시간이 소요되는지 보여주는 표로 나타낸다. 이 경우, 실행 시간의 대부분은 sum_of_lists 내부의 리스트 컴프리헨션에서 소요된다. 여기서부터 이 알고리즘의 성능을 개선하기 위해 무엇을 변경할 것인지 생각할 수 있다.\n",
    "<br><br>\n",
    "IPython의 도움말 기능(IPython 프롬프트에서 %prun? 입력)을 이용하면 %prun에 대한 더 많은 정보와 사용할 수 있는 옵션을 확인할 수 있다."
   ]
  },
  {
   "cell_type": "markdown",
   "metadata": {},
   "source": [
    "#### lprun으로 라인 단위 프로파일링 하기\n",
    "함수 단위로 프로파일링하는 %prun이 유용하지만, 때로는 라인 단위 프로파일 보고서를 보는 것이 더 편리할 수 있다. 라인 단위 프로파일링을 파이썬이나 IPython에서 기본으로 제공하지는 않지만 line_profiler 패키지를 설치하면 수행 할 수 있다."
   ]
  },
  {
   "cell_type": "code",
   "execution_count": 59,
   "metadata": {},
   "outputs": [
    {
     "ename": "ModuleNotFoundError",
     "evalue": "No module named 'line_profiler'",
     "output_type": "error",
     "traceback": [
      "\u001b[1;31m---------------------------------------------------------------------------\u001b[0m",
      "\u001b[1;31mModuleNotFoundError\u001b[0m                       Traceback (most recent call last)",
      "\u001b[1;32m<ipython-input-59-df8a33df4eaf>\u001b[0m in \u001b[0;36m<module>\u001b[1;34m()\u001b[0m\n\u001b[1;32m----> 1\u001b[1;33m \u001b[0mget_ipython\u001b[0m\u001b[1;33m(\u001b[0m\u001b[1;33m)\u001b[0m\u001b[1;33m.\u001b[0m\u001b[0mrun_line_magic\u001b[0m\u001b[1;33m(\u001b[0m\u001b[1;34m'load_ext'\u001b[0m\u001b[1;33m,\u001b[0m \u001b[1;34m'line_profiler'\u001b[0m\u001b[1;33m)\u001b[0m\u001b[1;33m\u001b[0m\u001b[0m\n\u001b[0m        \u001b[1;36mglobal\u001b[0m \u001b[0;36mget_ipython.run_line_magic\u001b[0m \u001b[1;34m= \u001b[1;36mundefined\u001b[0m\u001b[0m\n",
      "\u001b[1;32m~\\Anaconda3\\lib\\site-packages\\IPython\\core\\interactiveshell.py\u001b[0m in \u001b[0;36mrun_line_magic\u001b[1;34m(self=<ipykernel.zmqshell.ZMQInteractiveShell object>, magic_name='load_ext', line='line_profiler', _stack_depth=1)\u001b[0m\n\u001b[0;32m   2129\u001b[0m                 \u001b[0mkwargs\u001b[0m\u001b[1;33m[\u001b[0m\u001b[1;34m'local_ns'\u001b[0m\u001b[1;33m]\u001b[0m \u001b[1;33m=\u001b[0m \u001b[0msys\u001b[0m\u001b[1;33m.\u001b[0m\u001b[0m_getframe\u001b[0m\u001b[1;33m(\u001b[0m\u001b[0mstack_depth\u001b[0m\u001b[1;33m)\u001b[0m\u001b[1;33m.\u001b[0m\u001b[0mf_locals\u001b[0m\u001b[1;33m\u001b[0m\u001b[0m\n\u001b[0;32m   2130\u001b[0m             \u001b[1;32mwith\u001b[0m \u001b[0mself\u001b[0m\u001b[1;33m.\u001b[0m\u001b[0mbuiltin_trap\u001b[0m\u001b[1;33m:\u001b[0m\u001b[1;33m\u001b[0m\u001b[0m\n\u001b[1;32m-> 2131\u001b[1;33m                 \u001b[0mresult\u001b[0m \u001b[1;33m=\u001b[0m \u001b[0mfn\u001b[0m\u001b[1;33m(\u001b[0m\u001b[1;33m*\u001b[0m\u001b[0margs\u001b[0m\u001b[1;33m,\u001b[0m\u001b[1;33m**\u001b[0m\u001b[0mkwargs\u001b[0m\u001b[1;33m)\u001b[0m\u001b[1;33m\u001b[0m\u001b[0m\n\u001b[0m        \u001b[0;36mresult\u001b[0m \u001b[1;34m= \u001b[1;36mundefined\u001b[0m\u001b[0m\u001b[1;34m\n        \u001b[0m\u001b[0;36mfn\u001b[0m \u001b[1;34m= <bound method ExtensionMagics.load_ext of <IPython.core.magics.extension.ExtensionMagics object at 0x000001E95C2C6080>>\u001b[0m\u001b[1;34m\n        \u001b[0m\u001b[0;36margs\u001b[0m \u001b[1;34m= ['line_profiler']\u001b[0m\u001b[1;34m\n        \u001b[0m\u001b[0;36mkwargs\u001b[0m \u001b[1;34m= {}\u001b[0m\n\u001b[0;32m   2132\u001b[0m             \u001b[1;32mreturn\u001b[0m \u001b[0mresult\u001b[0m\u001b[1;33m\u001b[0m\u001b[0m\n\u001b[0;32m   2133\u001b[0m \u001b[1;33m\u001b[0m\u001b[0m\n",
      "\u001b[1;32m<decorator-gen-66>\u001b[0m in \u001b[0;36mload_ext\u001b[1;34m(self=<IPython.core.magics.extension.ExtensionMagics object>, module_str='line_profiler')\u001b[0m\n",
      "\u001b[1;32m~\\Anaconda3\\lib\\site-packages\\IPython\\core\\magic.py\u001b[0m in \u001b[0;36m<lambda>\u001b[1;34m(f=<function ExtensionMagics.load_ext>, *a=(<IPython.core.magics.extension.ExtensionMagics object>, 'line_profiler'), **k={})\u001b[0m\n\u001b[0;32m    185\u001b[0m     \u001b[1;31m# but it's overkill for just that one bit of state.\u001b[0m\u001b[1;33m\u001b[0m\u001b[1;33m\u001b[0m\u001b[0m\n\u001b[0;32m    186\u001b[0m     \u001b[1;32mdef\u001b[0m \u001b[0mmagic_deco\u001b[0m\u001b[1;33m(\u001b[0m\u001b[0marg\u001b[0m\u001b[1;33m)\u001b[0m\u001b[1;33m:\u001b[0m\u001b[1;33m\u001b[0m\u001b[0m\n\u001b[1;32m--> 187\u001b[1;33m         \u001b[0mcall\u001b[0m \u001b[1;33m=\u001b[0m \u001b[1;32mlambda\u001b[0m \u001b[0mf\u001b[0m\u001b[1;33m,\u001b[0m \u001b[1;33m*\u001b[0m\u001b[0ma\u001b[0m\u001b[1;33m,\u001b[0m \u001b[1;33m**\u001b[0m\u001b[0mk\u001b[0m\u001b[1;33m:\u001b[0m \u001b[0mf\u001b[0m\u001b[1;33m(\u001b[0m\u001b[1;33m*\u001b[0m\u001b[0ma\u001b[0m\u001b[1;33m,\u001b[0m \u001b[1;33m**\u001b[0m\u001b[0mk\u001b[0m\u001b[1;33m)\u001b[0m\u001b[1;33m\u001b[0m\u001b[0m\n\u001b[0m        \u001b[1;36mglobal\u001b[0m \u001b[0;36mcall\u001b[0m \u001b[1;34m= \u001b[1;36mundefined\u001b[0m\u001b[0m\u001b[1;34m\n        \u001b[0m\u001b[0;36mf\u001b[0m \u001b[1;34m= <function ExtensionMagics.load_ext at 0x000001E95B480048>\u001b[0m\u001b[1;34m\n        \u001b[0m\u001b[0;36ma\u001b[0m \u001b[1;34m= (<IPython.core.magics.extension.ExtensionMagics object at 0x000001E95C2C6080>, 'line_profiler')\u001b[0m\u001b[1;34m\n        \u001b[0m\u001b[0;36mk\u001b[0m \u001b[1;34m= {}\u001b[0m\n\u001b[0;32m    188\u001b[0m \u001b[1;33m\u001b[0m\u001b[0m\n\u001b[0;32m    189\u001b[0m         \u001b[1;32mif\u001b[0m \u001b[0mcallable\u001b[0m\u001b[1;33m(\u001b[0m\u001b[0marg\u001b[0m\u001b[1;33m)\u001b[0m\u001b[1;33m:\u001b[0m\u001b[1;33m\u001b[0m\u001b[0m\n",
      "\u001b[1;32m~\\Anaconda3\\lib\\site-packages\\IPython\\core\\magics\\extension.py\u001b[0m in \u001b[0;36mload_ext\u001b[1;34m(self=<IPython.core.magics.extension.ExtensionMagics object>, module_str='line_profiler')\u001b[0m\n\u001b[0;32m     31\u001b[0m         \u001b[1;32mif\u001b[0m \u001b[1;32mnot\u001b[0m \u001b[0mmodule_str\u001b[0m\u001b[1;33m:\u001b[0m\u001b[1;33m\u001b[0m\u001b[0m\n\u001b[0;32m     32\u001b[0m             \u001b[1;32mraise\u001b[0m \u001b[0mUsageError\u001b[0m\u001b[1;33m(\u001b[0m\u001b[1;34m'Missing module name.'\u001b[0m\u001b[1;33m)\u001b[0m\u001b[1;33m\u001b[0m\u001b[0m\n\u001b[1;32m---> 33\u001b[1;33m         \u001b[0mres\u001b[0m \u001b[1;33m=\u001b[0m \u001b[0mself\u001b[0m\u001b[1;33m.\u001b[0m\u001b[0mshell\u001b[0m\u001b[1;33m.\u001b[0m\u001b[0mextension_manager\u001b[0m\u001b[1;33m.\u001b[0m\u001b[0mload_extension\u001b[0m\u001b[1;33m(\u001b[0m\u001b[0mmodule_str\u001b[0m\u001b[1;33m)\u001b[0m\u001b[1;33m\u001b[0m\u001b[0m\n\u001b[0m        \u001b[0;36mres\u001b[0m \u001b[1;34m= \u001b[1;36mundefined\u001b[0m\u001b[0m\u001b[1;34m\n        \u001b[0m\u001b[0;36mself.shell.extension_manager.load_extension\u001b[0m \u001b[1;34m= <bound method ExtensionManager.load_extension of <IPython.core.extensions.ExtensionManager object at 0x000001E95C2D0C88>>\u001b[0m\u001b[1;34m\n        \u001b[0m\u001b[0;36mmodule_str\u001b[0m \u001b[1;34m= 'line_profiler'\u001b[0m\n\u001b[0;32m     34\u001b[0m \u001b[1;33m\u001b[0m\u001b[0m\n\u001b[0;32m     35\u001b[0m         \u001b[1;32mif\u001b[0m \u001b[0mres\u001b[0m \u001b[1;33m==\u001b[0m \u001b[1;34m'already loaded'\u001b[0m\u001b[1;33m:\u001b[0m\u001b[1;33m\u001b[0m\u001b[0m\n",
      "\u001b[1;32m~\\Anaconda3\\lib\\site-packages\\IPython\\core\\extensions.py\u001b[0m in \u001b[0;36mload_extension\u001b[1;34m(self=<IPython.core.extensions.ExtensionManager object>, module_str='line_profiler')\u001b[0m\n\u001b[0;32m     83\u001b[0m             \u001b[1;32mif\u001b[0m \u001b[0mmodule_str\u001b[0m \u001b[1;32mnot\u001b[0m \u001b[1;32min\u001b[0m \u001b[0msys\u001b[0m\u001b[1;33m.\u001b[0m\u001b[0mmodules\u001b[0m\u001b[1;33m:\u001b[0m\u001b[1;33m\u001b[0m\u001b[0m\n\u001b[0;32m     84\u001b[0m                 \u001b[1;32mwith\u001b[0m \u001b[0mprepended_to_syspath\u001b[0m\u001b[1;33m(\u001b[0m\u001b[0mself\u001b[0m\u001b[1;33m.\u001b[0m\u001b[0mipython_extension_dir\u001b[0m\u001b[1;33m)\u001b[0m\u001b[1;33m:\u001b[0m\u001b[1;33m\u001b[0m\u001b[0m\n\u001b[1;32m---> 85\u001b[1;33m                     \u001b[0mmod\u001b[0m \u001b[1;33m=\u001b[0m \u001b[0mimport_module\u001b[0m\u001b[1;33m(\u001b[0m\u001b[0mmodule_str\u001b[0m\u001b[1;33m)\u001b[0m\u001b[1;33m\u001b[0m\u001b[0m\n\u001b[0m        \u001b[0;36mmod\u001b[0m \u001b[1;34m= \u001b[1;36mundefined\u001b[0m\u001b[0m\u001b[1;34m\n        \u001b[0m\u001b[1;36mglobal\u001b[0m \u001b[0;36mimport_module\u001b[0m \u001b[1;34m= <function import_module at 0x000001E959F48E18>\u001b[0m\u001b[1;34m\n        \u001b[0m\u001b[0;36mmodule_str\u001b[0m \u001b[1;34m= 'line_profiler'\u001b[0m\n\u001b[0;32m     86\u001b[0m                     \u001b[1;32mif\u001b[0m \u001b[0mmod\u001b[0m\u001b[1;33m.\u001b[0m\u001b[0m__file__\u001b[0m\u001b[1;33m.\u001b[0m\u001b[0mstartswith\u001b[0m\u001b[1;33m(\u001b[0m\u001b[0mself\u001b[0m\u001b[1;33m.\u001b[0m\u001b[0mipython_extension_dir\u001b[0m\u001b[1;33m)\u001b[0m\u001b[1;33m:\u001b[0m\u001b[1;33m\u001b[0m\u001b[0m\n\u001b[0;32m     87\u001b[0m                         print((\"Loading extensions from {dir} is deprecated. \"\n",
      "\u001b[1;32m~\\Anaconda3\\lib\\importlib\\__init__.py\u001b[0m in \u001b[0;36mimport_module\u001b[1;34m(name='line_profiler', package=None)\u001b[0m\n\u001b[0;32m    125\u001b[0m                 \u001b[1;32mbreak\u001b[0m\u001b[1;33m\u001b[0m\u001b[0m\n\u001b[0;32m    126\u001b[0m             \u001b[0mlevel\u001b[0m \u001b[1;33m+=\u001b[0m \u001b[1;36m1\u001b[0m\u001b[1;33m\u001b[0m\u001b[0m\n\u001b[1;32m--> 127\u001b[1;33m     \u001b[1;32mreturn\u001b[0m \u001b[0m_bootstrap\u001b[0m\u001b[1;33m.\u001b[0m\u001b[0m_gcd_import\u001b[0m\u001b[1;33m(\u001b[0m\u001b[0mname\u001b[0m\u001b[1;33m[\u001b[0m\u001b[0mlevel\u001b[0m\u001b[1;33m:\u001b[0m\u001b[1;33m]\u001b[0m\u001b[1;33m,\u001b[0m \u001b[0mpackage\u001b[0m\u001b[1;33m,\u001b[0m \u001b[0mlevel\u001b[0m\u001b[1;33m)\u001b[0m\u001b[1;33m\u001b[0m\u001b[0m\n\u001b[0m        \u001b[1;36mglobal\u001b[0m \u001b[0;36m_bootstrap._gcd_import\u001b[0m \u001b[1;34m= <function _gcd_import at 0x000001E959CFBE18>\u001b[0m\u001b[1;34m\n        \u001b[0m\u001b[0;36mname\u001b[0m \u001b[1;34m= 'line_profiler'\u001b[0m\u001b[1;34m\n        \u001b[0m\u001b[0;36mlevel\u001b[0m \u001b[1;34m= 0\u001b[0m\u001b[1;34m\n        \u001b[0m\u001b[0;36mpackage\u001b[0m \u001b[1;34m= None\u001b[0m\n\u001b[0;32m    128\u001b[0m \u001b[1;33m\u001b[0m\u001b[0m\n\u001b[0;32m    129\u001b[0m \u001b[1;33m\u001b[0m\u001b[0m\n",
      "\u001b[1;32m~\\Anaconda3\\lib\\importlib\\_bootstrap.py\u001b[0m in \u001b[0;36m_gcd_import\u001b[1;34m(name='line_profiler', package=None, level=0)\u001b[0m\n",
      "\u001b[1;32m~\\Anaconda3\\lib\\importlib\\_bootstrap.py\u001b[0m in \u001b[0;36m_find_and_load\u001b[1;34m(name='line_profiler', import_=<function _gcd_import>)\u001b[0m\n",
      "\u001b[1;32m~\\Anaconda3\\lib\\importlib\\_bootstrap.py\u001b[0m in \u001b[0;36m_find_and_load_unlocked\u001b[1;34m(name='line_profiler', import_=<function _gcd_import>)\u001b[0m\n",
      "\u001b[1;31mModuleNotFoundError\u001b[0m: No module named 'line_profiler'"
     ]
    }
   ],
   "source": [
    "%load_ext line_profiler"
   ]
  },
  {
   "cell_type": "markdown",
   "metadata": {},
   "source": [
    "## 메모리 사용 프로파일링: %memit과 %mprun\n",
    "또 다른 프로파일링 대상을 ㅗ특정 작업이 사용하는 메모리 양이 있다. 이것은 다른 IPython 확장 모듈인 memory_profiler를 이용해 측정할 수 있다. line_profiler와 마찬가지로 pip를 이용해 확장 모듈을 먼저 설치해야 한다.\n"
   ]
  },
  {
   "cell_type": "code",
   "execution_count": 60,
   "metadata": {},
   "outputs": [],
   "source": [
    "%load_ext memory_profiler"
   ]
  },
  {
   "cell_type": "markdown",
   "metadata": {},
   "source": [
    "메모리 프로파일러 확장 모듈은 두 가지 유용한 매직 함수를 포함하고 있다. 하나는 %memit 매직으로 %timeit과 동일한 방식으로 메모리를 측정하며, 다른 하나는 %mprun 함수로 %lprun과 동일한 방식으로 메모리를 측정한다. %memit 함수는 아주 간단하게 사용할 수 있다."
   ]
  },
  {
   "cell_type": "code",
   "execution_count": 61,
   "metadata": {},
   "outputs": [
    {
     "name": "stdout",
     "output_type": "stream",
     "text": [
      "peak memory: 68.01 MiB, increment: 5.23 MiB\n"
     ]
    }
   ],
   "source": [
    "%memit sum_of_lists(100000)"
   ]
  },
  {
   "cell_type": "markdown",
   "metadata": {},
   "source": [
    "여기서 이 함수가 68MB의 메모리를 사용한다는 사실을 알 수 있다.\n",
    "<br><br>\n",
    "메모리 사용에 대한 라인 단위의 설명을 보려면 %mprun 매직을 사용하면 된다. 안타깝게도 이 매직은 노트북 자체가 아니라 별도의 모듈에 정의된 함수에만 동작하기 때문에 먼저 %%file 매직을 사용해 sum_of_lists 함수를 포함하는 mprun_demo.py라는 간단한 모듈을 생성할 것이다. 여기에 메모리 프로파일링 결과를 더 명확하게 하기 위해 한 줄을 추가했다."
   ]
  },
  {
   "cell_type": "code",
   "execution_count": 62,
   "metadata": {},
   "outputs": [
    {
     "name": "stdout",
     "output_type": "stream",
     "text": [
      "Writing mprun_demo.py\n"
     ]
    }
   ],
   "source": [
    "%%file mprun_demo.py\n",
    "def sum_of_lists(N):\n",
    "    total = 0\n",
    "    for i in range(5):\n",
    "        L = [j ^ (j >> i) for j in range(N)]\n",
    "        total += sum(L)\n",
    "        del L\n",
    "    return total\n"
   ]
  },
  {
   "cell_type": "markdown",
   "metadata": {},
   "source": [
    "이제 이 함수의 새 버전을 임포트해서 라인 단위의 메모리 프로파일러를 실행할 수 있다."
   ]
  },
  {
   "cell_type": "code",
   "execution_count": 63,
   "metadata": {},
   "outputs": [
    {
     "name": "stdout",
     "output_type": "stream",
     "text": [
      "\n"
     ]
    }
   ],
   "source": [
    "from mprun_demo import sum_of_lists\n",
    "%mprun -f sum_of_lists sum_of_lists(1000000)"
   ]
  },
  {
   "cell_type": "markdown",
   "metadata": {},
   "source": [
    "페이지에 출력되는 결과는 이 함수의 메모리 사용에 대한 요약 정보를 다음과 같은 형태로 제공한다.\n",
    "Filename: C:\\Users\\Mir\\Python\\RTOS\\Python_Data_Science_Handbook\\mprun_demo.py\n",
    "\n",
    "\n",
    "    Line #    Mem usage    Increment   Line Contents\n",
    "\n",
    "     1     61.5 MiB     61.5 MiB   def sum_of_lists(N):\n",
    "     2     61.5 MiB      0.0 MiB       total = 0\n",
    "     3     62.4 MiB      0.0 MiB       for i in range(5):\n",
    "     4     99.9 MiB      0.9 MiB           L = [j ^ (j >> i) for j in range(N)]\n",
    "     5     99.9 MiB      0.0 MiB           total += sum(L)\n",
    "     6     62.4 MiB      0.0 MiB           del L\n",
    "     7     62.4 MiB      0.0 MiB       return total\n",
    " \n",
    " 여기서 Increment 열은 각 라인이 전체 메모리 할당량에 얼마나 영향을 주는지를 알려준다. 리스트 L을 만들고 삭제할 때 약 25MB의 메모리 사용이 추가된다는 것을 알 수 있다. 이는 파이썬 인터프리터 자체의 백그라운드 메모리 사용량에 추가되는 것이다.\n",
    " <br><br>\n",
    " %memeit과 %mprun에서 사용할 수 있는 옵션과 더 많은 정보를 확인하려면 IPython 도움말(IPython 프롬프트에서 %meit? 입력)을 사용한다."
   ]
  },
  {
   "cell_type": "code",
   "execution_count": null,
   "metadata": {},
   "outputs": [],
   "source": []
  }
 ],
 "metadata": {
  "kernelspec": {
   "display_name": "Python 3",
   "language": "python",
   "name": "python3"
  },
  "language_info": {
   "codemirror_mode": {
    "name": "ipython",
    "version": 3
   },
   "file_extension": ".py",
   "mimetype": "text/x-python",
   "name": "python",
   "nbconvert_exporter": "python",
   "pygments_lexer": "ipython3",
   "version": "3.7.0"
  },
  "varInspector": {
   "cols": {
    "lenName": 16,
    "lenType": 16,
    "lenVar": 40
   },
   "kernels_config": {
    "python": {
     "delete_cmd_postfix": "",
     "delete_cmd_prefix": "del ",
     "library": "var_list.py",
     "varRefreshCmd": "print(var_dic_list())"
    },
    "r": {
     "delete_cmd_postfix": ") ",
     "delete_cmd_prefix": "rm(",
     "library": "var_list.r",
     "varRefreshCmd": "cat(var_dic_list()) "
    }
   },
   "types_to_exclude": [
    "module",
    "function",
    "builtin_function_or_method",
    "instance",
    "_Feature"
   ],
   "window_display": false
  }
 },
 "nbformat": 4,
 "nbformat_minor": 2
}
