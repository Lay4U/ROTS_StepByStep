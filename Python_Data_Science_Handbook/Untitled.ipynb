{
 "cells": [
  {
   "cell_type": "markdown",
   "metadata": {},
   "source": [
    "# IPython:파이썬에 날개를 달자\n",
    "\n",
    "파이썬 개발 환경을 구축하는 방식은 여러 가지가 있다. 사람들이 내게 작업할 때 어떤 환경을 사용하는지 종종 묻는데 그 대답을 듣고 놀라곤 한다. 개인적으로 IPython과 텍스트 편집기(기분에 따라 Emacs나 Atom)를 함께 사용하는 것을 선호한다. IPython(대화형 파이썬(Interactive Python)의 약자)은 2001년 페르난도 페레즈(Fernando Perez)에 의해 파이썬 인터프리터의 향상된 버전으로 시작했고, 이후 페레즈의 표현으로 '리서치 컴퓨팅(Research Computing)의 전체 생애주기를 위한 도구' 제공을 목적으로 하는 프로젝트로 발전했다. 데이터 과학 작업에서 파이썬이 엔진이라면 IPython은 대화형 제어 패널로 생각할 수 있다.\n",
    "<br><br>\n",
    "IPython은 훌륭한 파이썬 대화형 인터페이스일 뿐만 아니라 추가로 다수의 유용한 구문을 제공한다. 여기서 대부분의 유용한 추가 구문을 살펴볼 것이다. 게다가 IPython은 개발, 협업, 공유는 물론이고 데이터 과학 결과를 게시하는 데 유용한 브라우저 기반의 노트북을 제공하는 Jupyter 프로젝트와 밀접하게 연결돼 있다. IPython 노트북은 실제로 Julia, R, 그리고 다른 프로그래밍 언어를 위한 노트북을 포함하는 광범위한 Jupyter 노트북 구조에서 특별 케이스에 해당한다. 노트북 형식의 유용성을 보여주는 예로 지금 읽고 있는 페이지보다 더 자세히 볼 필요는 없다. 이 책의  전체 원고가 IPython 노트북의 모음집으로 구성돼 있기 때문이다. IPython은 대화형 과학 컴퓨팅과 데이터 집약적인 컴퓨팅을 위해 파이썬을 효과적으로 사용하는 방법이다. 이번 장에서는 데이터 과학 실무에 유용한 IPython 기능을 배우고, 그중 특히 파이썬의 표준 기능 이상을 제공하는 구문에 초점을 맞춰 살펴볼 것이다. 다음으로 데이터 과학용 코드를 생성하고 사용하는 일반적인 작업 속도를 높이는 몇 가지 유용한 '매직 명령어'에 대해 더 깊이 있게 알아볼 것이다. 마지막으로 데이터를 이해하고 결과를 공유하는데 유용한 일부 노트북 기능을 간단히 살펴본다."
   ]
  },
  {
   "cell_type": "markdown",
   "metadata": {},
   "source": [
    "### 셀과 노트북, 어느 것을 사용할까?\n",
    "\n",
    "이번 장에서 논의할 IPython을 사용하는 주된 방식으로 IPython 셸과 IPython 노트북이라는 두 가지 방식이 있다. 이번 장의 내용은 두 방식 모두와 관련이 있으며 예제는 편의에 따라 두 방식 간 교환이 가능하다. 시작하기 전에 IPython 셸과 IPython 노트북을 실행하는 방법을 간단하게 살펴보자.\n",
    "<br><br>\n",
    "#### Ipython 셸 실행하기\n",
    "\n",
    "이 책의 대부분과 마찬가지로 이번 장 역시 수동적으로 학습하도록 설계되지 않았다. 이번 장을 읽어나가면서 여기서 다루는 도구와 구문을 따라 연습해 볼 것을 권한다. 이러한 연습을 통해 형성된느 근육 기억은 단순히 읽는 행위보다 훨씬 더 유용하다. 우선 명령줄(command line)에 ipython을 입력해서 IPython 인터프리터를 실행해 보자. 그렇지 않고 아나콘다나 EPD 같은 배포판을 설치했다면 그 시스템에 특화된 실행기가 있을 것이다(이에 대해서는 3쪽'IPython의 도움말과 문서'에서 더 자세히 다룬다).\n",
    "\n",
    "IPython을 실행했다면 프롬프트가 나타날 것이고\n",
    "\n",
    "이제 이 책의 내용을 따라갈 준비가 끝났다.\n",
    "<br><br>\n",
    "#### Jupyter 노트북 실행하기\n",
    "\n",
    "Jupyter 노트북은 IPython 셸의 브라우저 기반 그래픽 인터페이스이며, 풍부한 동적 디스플레이 기술을 기반으로 만들어졌다. 노트북은 파이썬/IPython 문장을 실행할 뿐만 아니라 사용자가 서식 있는 텍스트와 정적/동적 시각화, 수학 공식, 자바스크립트 위젯 등을 퐇마할 수 있게 해준다. 게다가 이 문서들은 젖아해서 사용자가 자신의 시스템에서 코드를 실행할 수 있다.\n",
    "\n",
    "<br><br>\n",
    "IPython 노트북은 웹 브라우저 창을 통해 조회하고 편집할 수 있지만, 코드를 실행하려면 실행 중인 파이썬 프로세스와 연결해야 한다. '커널(kernel)'이라고도 하는 이 프로세스를  시작하려면 시스템 셸에서 다음 명령어를 실행하면 된다.\n",
    "$ jupyter notebook\n",
    "이 명령어는 브라우저에서 볼 수 있는 로컬 웹 서버를 실행한다. 그럼 그 명령어가 무엇을 실행하는지 모여주는 로그를 즉시 쏟아낸다.\n",
    "\n",
    "명령어를 실행하면 기본 브라우저가 자동으로 열리고 로컬 URL을 찾아 들어간다. 정확한 주소는 시스템에 따라 다르다. 브라우저가 자동으로 열리지 않으면 브라우저를 실행하고 직접 해당 주소를 입력하면 된다.\n",
    "<br><br>\n",
    "#### IPython의 도움말과 문서\n",
    "\n",
    "이번 장의 다른 절을 읽지 않았다면 이번 절을 읽어보라. 개인적으로 여기서 설명하는 도구들이 일상적인 작업에서 IPython이 가장 혁신적으로 기여한 부분이라고 생각한다.\n",
    "\n",
    "기술적인 사고를 하는 사람에게는 컴퓨터 관련 문제로 친구나 가족,동료에게서 질문을 받앋을 때 대부분의 경우 질문에 대한 답을 아는 것보다 답은 모르지만 그 답을 빨리 찾는 방법을 아는 것이 더 중요하다. 데이터 과학에서도 똑같다. 심지어(특히?)이전에 검색한 적이 있는 주제더라도 온라인 문서와 메일링 리스트 스레드, 풍부한 정보를 가지고 있는 스택 오버플로우(Stack Overflow)답변과 같은 검색 가능한 웹 자료들이 있다. 데이터 과학 분야에서 효과적인 전문가가 된다는 것은 어떤 상황에서도 대처할 수 있도록 도구나 명령어를 외우고 있는 것보다는 웹 검색 엔진이나 다른 도구를 통해 모르는 정보를 효과적으로 찾아내는 법을 배우는 것에 더 가깝다.\n",
    "\n",
    "IPython/Jupyter의 가장 유용한 기능 중 하나는 사용자와 문서 유형 및 검색 유형 간의 간극을 줄여 효과적으로 업무를 수행하도록 도움을 주는 것이다. 여전히 복작한 질문에 대한 답을 얻는 데는 웹 검색이 효과적이지만, IPython만으로도 놀라울 정도로 많은 양의 정보를 찾을 수 있다. IPython에서 약간의 키 입력으로 다음과 같은 질문의 답을 얻을 수 있다.\n",
    "* 이 함수를 어떻게 호출할 수 있지? 이 함수는 어떤 인수와 옵션을 가지고 있을까?\n",
    "* 이 파이썬 객체의 소스코드는 어떻게 생겼을까?\n",
    "* 임포트나 이 패키지에는 무엇이 들어 있을까? 이 객체는 어떤 속성이나 메서드를 가고 있을까?\n",
    "\n",
    "이제 이 정보를 빨리 얻을 수 있는 IPython 도구에 대해 알아볼 것이다. 문서를 탐색하기 위한 ? 문자와 소스코드를 탐색하기위한 ??문자, 자동 완성을 위한 탭 키가 여기에 해당한다.\n",
    "<br><br>\n",
    "#### ?로 문서 확인하기\n",
    "\n",
    "파이썬 언어와 파이썬 데이터 과학 생태계는 사용자를 염두해두고 만들어졌으며, 그중 중요한 부분은 문서에 접근하는 기능이다 .모든 파이썬 객체는 객체에 대한 간결한 요약 정보와 사용법이 담겨 있는 독스트링(docstring)이라는 문자열에 대한 참조를 포함하고 있다. 파이썬에는 이 정보에 접근해서 결과를 출력하는 help()함수가 내장돼 있다. 예를 들어, 내장 함수 len에 대한 문서를 보려면 다음과 같이 하면 된다."
   ]
  },
  {
   "cell_type": "code",
   "execution_count": 1,
   "metadata": {},
   "outputs": [
    {
     "name": "stdout",
     "output_type": "stream",
     "text": [
      "Help on built-in function len in module builtins:\n",
      "\n",
      "len(obj, /)\n",
      "    Return the number of items in a container.\n",
      "\n"
     ]
    }
   ],
   "source": [
    "help(len)"
   ]
  },
  {
   "cell_type": "markdown",
   "metadata": {},
   "source": [
    "사용하는 인터프리터에 따라 이 정보는 인라인 텍스트로 표시되기도 하고 별도의 팝업 창으로 표시되기도 한다. 객체에 대한 도움말을 찾는 것은 매우 일반적이고 유용하기 때문에 IPython은 이문서와 다른 관련 정보에 접근하는 단축키로 ? 문자를 도입했다."
   ]
  },
  {
   "cell_type": "code",
   "execution_count": 3,
   "metadata": {},
   "outputs": [],
   "source": [
    "len?"
   ]
  },
  {
   "cell_type": "code",
   "execution_count": 4,
   "metadata": {},
   "outputs": [],
   "source": [
    "L=[1, 2, 3]\n",
    "L.insert?"
   ]
  },
  {
   "cell_type": "code",
   "execution_count": 5,
   "metadata": {},
   "outputs": [],
   "source": [
    "L?"
   ]
  },
  {
   "cell_type": "code",
   "execution_count": 6,
   "metadata": {},
   "outputs": [],
   "source": [
    "def square(a):\n",
    "    \"\"\"a의 제곱을 반환\"\"\"\n",
    "    return a**2"
   ]
  },
  {
   "cell_type": "code",
   "execution_count": 7,
   "metadata": {},
   "outputs": [],
   "source": [
    "square?"
   ]
  },
  {
   "cell_type": "markdown",
   "metadata": {},
   "source": [
    "#### ??로 소스코드에 접근하기\n",
    "\n",
    "파이썬 언어는 매우 쉽게 읽히기 때문에 일반적으로 궁금한 객체의 소스코드를 읽어보면 또 다른 수준의 통찰력을 얻을 수 있다. IPython은 물음표 두개 (??)를 소스코드의 단축키로 제공한다."
   ]
  },
  {
   "cell_type": "code",
   "execution_count": 8,
   "metadata": {},
   "outputs": [],
   "source": [
    "square??"
   ]
  },
  {
   "cell_type": "markdown",
   "metadata": {},
   "source": [
    "이처럼 간단한 함수의 경우에는 물음표 두개로 구현 세부사항에 대한 통찰력을 빨리 얻을 수 있다.\n",
    "<br><br>\n",
    "?? 접미사를 많이 사용하다 보면 ?? 접미사가 때때로 소스코드를 보여주지 않는다는 것을 알게 될 것이다. 이것은 보통 질문한 객체가 파이썬에서 구현된 것이 아니라 C나 다른 컴파일된 확장 언어로 구현됐기 때문이다. 그렇나 경우에는 ?? 접미사가 ? 접미사와 같은 결과를 보여준다. 특히 파이썬 내장 객채와 타입에서 이런 경우가 많이 나타난다. 일례로 위에서 본 len을 들 수 있다."
   ]
  },
  {
   "cell_type": "code",
   "execution_count": 9,
   "metadata": {},
   "outputs": [],
   "source": [
    "len??"
   ]
  },
  {
   "cell_type": "markdown",
   "metadata": {},
   "source": [
    "?나 ??는 파이썬 함수나 모듈이 무슨 일을 하는지에 대한 정보를 알아낼 수 있는 빠르고 강력한 인터페이스를 제공한다."
   ]
  },
  {
   "cell_type": "markdown",
   "metadata": {},
   "source": [
    "#### 탭 자동 완성을 모듈 탐색하기\n",
    "IPython의 다른 유용한 인터페이스로 객체와 모듈, 네임스페이스의 내용을 자동 완성하고 탐색하기 위한 탭(Tab)키를 들 수 있다. 앞으로 나올 예제에서는 탭 키를 눌러야 할 때 <TAB>으로 표기하겠다.\n",
    "<br><br>\n",
    "#### 객체 내용의 탭 자동 완성\n",
    "모든 파이썬 객체는 그것과 연결된 다양한 속성과 메서들르 갖는다. 이전에 논의했던 help 함수와 같이 파이썬에는 객체의 속성과 메서드 목록을 반환하는 내장 함수 dir이 있지만 실제로는 탭 완성이 훨씬 더 사용하기 쉽다. 객체에서 사용할 수 있는 모든 속성의 목록을 보려면 객체명 다음에 마침표(.)를 찍고 탭키를 누르면 된다."
   ]
  },
  {
   "cell_type": "code",
   "execution_count": 10,
   "metadata": {},
   "outputs": [
    {
     "data": {
      "text/plain": [
       "<function list.count(value, /)>"
      ]
     },
     "execution_count": 10,
     "metadata": {},
     "output_type": "execute_result"
    }
   ],
   "source": [
    "L.count"
   ]
  },
  {
   "cell_type": "markdown",
   "metadata": {},
   "source": [
    "파이썬은 공개(public)/외부 속성과 비공개(private)/내부 속성을 엄격하게 구분하지는 않지만, 관례상 비공개 속성을 표기할 때 속성 앞에 밑줄을 사용한다. 명확하게 말하자면 비공개 메서드와 특별한 메서드는 기본적으로 이 목록에서 생략되어야 하지만 밑줄을 입력함으로써 명확하게 그 메서드들을 목록에 보이게 할 수 있다."
   ]
  },
  {
   "cell_type": "code",
   "execution_count": 11,
   "metadata": {},
   "outputs": [
    {
     "data": {
      "text/plain": [
       "<method-wrapper '__add__' of list object at 0x000001F6148035C8>"
      ]
     },
     "execution_count": 11,
     "metadata": {},
     "output_type": "execute_result"
    }
   ],
   "source": [
    "L.__add__"
   ]
  },
  {
   "cell_type": "markdown",
   "metadata": {},
   "source": [
    "이들 대부분은 파이썬의 특별한 이중 밑줄 표시 메서드(double-underscore methods, 별명으로 'dender'메서드)다.\n",
    "\n",
    "#### 임포트 할 때 탭 자동 완성 하기\n",
    "탭 자동 완성은 패키지에서 객체를 임포트 할 때도 유용하다. itertools 패키지에서 co로 시작하는 모든 가능ㅎ나 임포트를 찾기 위해 탭 키를 사용할 것이다."
   ]
  },
  {
   "cell_type": "code",
   "execution_count": 13,
   "metadata": {},
   "outputs": [],
   "source": [
    "from itertools import combinations\n",
    "import Crypto"
   ]
  },
  {
   "cell_type": "markdown",
   "metadata": {},
   "source": [
    "#### 탭 완성을 넘어: 와일드 카드 매칭\n",
    "탭 완성은 찾고자 한느 객체나 속성의 청므 몇 글자를 안다면 유용하지만 단어의 중간이나 마지막 글자로 매칭하고 싶다면 거의 도움이 되지 않는다. 이러한 경우, IPython은 '*'문자를 이용해 와일드 카드 매칭하는 방법을 제공한다.\n",
    "<br><br>\n",
    "예를 들어 네임스페이스에서 Warning으로 끝나는 모든 객체를 나열하기 위해 이를 사용할 수 있다.\n",
    "\n"
   ]
  },
  {
   "cell_type": "code",
   "execution_count": 14,
   "metadata": {},
   "outputs": [],
   "source": [
    "*Warning?"
   ]
  },
  {
   "cell_type": "code",
   "execution_count": null,
   "metadata": {},
   "outputs": [],
   "source": [
    "list."
   ]
  }
 ],
 "metadata": {
  "kernelspec": {
   "display_name": "Python 3",
   "language": "python",
   "name": "python3"
  },
  "language_info": {
   "codemirror_mode": {
    "name": "ipython",
    "version": 3
   },
   "file_extension": ".py",
   "mimetype": "text/x-python",
   "name": "python",
   "nbconvert_exporter": "python",
   "pygments_lexer": "ipython3",
   "version": "3.7.0"
  },
  "varInspector": {
   "cols": {
    "lenName": 16,
    "lenType": 16,
    "lenVar": 40
   },
   "kernels_config": {
    "python": {
     "delete_cmd_postfix": "",
     "delete_cmd_prefix": "del ",
     "library": "var_list.py",
     "varRefreshCmd": "print(var_dic_list())"
    },
    "r": {
     "delete_cmd_postfix": ") ",
     "delete_cmd_prefix": "rm(",
     "library": "var_list.r",
     "varRefreshCmd": "cat(var_dic_list()) "
    }
   },
   "types_to_exclude": [
    "module",
    "function",
    "builtin_function_or_method",
    "instance",
    "_Feature"
   ],
   "window_display": false
  }
 },
 "nbformat": 4,
 "nbformat_minor": 2
}
