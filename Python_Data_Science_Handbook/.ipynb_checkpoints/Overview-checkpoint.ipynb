{
 "cells": [
  {
   "cell_type": "markdown",
   "metadata": {},
   "source": [
    "# 역사서문\n",
    "최근 10년 사이 데이터 과학이 급부상 하면서 데이터 과학자에 대한 관심이 커졌다. 한편 이 직업을 희망하는 사람들은 현대의 르네상스맨이라고 불릴 정도로 요구되는 소양에 쉽게 도전할 엄두를 내지 못하는 것도 현실이다. 그들은\n",
    "* 비니지스 영역에 대한 이해를 바탕으로 무엇을 질문해야 하는지 알아야 하고\n",
    "* 그 질문에 대한 답을 찾아가는 방법으로 적절한 통계, 머신러닝 기법을 적용할 줄 알아야 하며\n",
    "* 그 기법을 실제 데이터를 기반으로 구현할 줄 알아야 하며\n",
    "* 그로부터 도출된 결과를 제대로 해석, 검증해내고 결과를 이해하기 쉽게 이해관계자들에게 보여줄 수 있어야 한다.\n",
    "\n",
    "최근에는 가트너에서 데이터 과학자라는 직업을 시민 데이터 과학자(citizen data scientist)라는 명칭으로 변경하면서 이 모든 일을 한 사람에게 요구하는 것을 많이 완화시키고 대중화하려는 움직임이 있지만 그래도 이 일에 종사하기 위해서는 위에서 업근한 분야에 대해 어느 정도의 소양이 필요한 것은 사실이다.\n",
    "\n",
    "\n",
    "이 책은 이에 대한 갈증을 해소하기에 좋은 입문서라고 생각한다. 읽고 사용하기 쉬운 언어로 초보자부터 전문가까지 아우르는 넓은 사용자 층을 가진 매력적인 언어인 파이썬 언어가 제공하는 과학 스택을 이용해 실제 데이터 과학 분야에서 자주 만나는 상황을 해결해 나감으로써 이론부터 실전까지 적절하게 아우르고 있다. 특히 5장 머신러닝은 짧지만 머신러닝 전체를 조망하고 각 기법을 어떻게 응용할 수 있는지 실전 감각을 익히기에 부족함이 없다고 생각한다.\n",
    "\n",
    "\n",
    "아무쪼록 이 책이 데이터 과학에 입문하는 사람들이 옆에 두고 꾸준히 활요할 수 있는 유용한 안내서가 되기 바란다."
   ]
  }
 ],
 "metadata": {
  "kernelspec": {
   "display_name": "Python 3",
   "language": "python",
   "name": "python3"
  },
  "language_info": {
   "codemirror_mode": {
    "name": "ipython",
    "version": 3
   },
   "file_extension": ".py",
   "mimetype": "text/x-python",
   "name": "python",
   "nbconvert_exporter": "python",
   "pygments_lexer": "ipython3",
   "version": "3.7.0"
  },
  "varInspector": {
   "cols": {
    "lenName": 16,
    "lenType": 16,
    "lenVar": 40
   },
   "kernels_config": {
    "python": {
     "delete_cmd_postfix": "",
     "delete_cmd_prefix": "del ",
     "library": "var_list.py",
     "varRefreshCmd": "print(var_dic_list())"
    },
    "r": {
     "delete_cmd_postfix": ") ",
     "delete_cmd_prefix": "rm(",
     "library": "var_list.r",
     "varRefreshCmd": "cat(var_dic_list()) "
    }
   },
   "types_to_exclude": [
    "module",
    "function",
    "builtin_function_or_method",
    "instance",
    "_Feature"
   ],
   "window_display": false
  }
 },
 "nbformat": 4,
 "nbformat_minor": 2
}
