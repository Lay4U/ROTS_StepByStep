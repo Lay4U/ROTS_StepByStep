{
 "cells": [
  {
   "cell_type": "markdown",
   "metadata": {
    "_active": false,
    "_cell_guid": "05ecc7a7-949b-dcd5-242e-9f80c8e3aec5"
   },
   "source": [
    "Stock Prediction using machine learning"
   ]
  },
  {
   "cell_type": "code",
   "execution_count": 2,
   "metadata": {
    "_active": false,
    "_cell_guid": "ab56a2a6-a048-5c9d-45ac-02d019737df5"
   },
   "outputs": [],
   "source": [
    "# This Python 3 environment comes with many helpful analytics libraries installed\n",
    "# It is defined by the kaggle/python docker image: https://github.com/kaggle/docker-python\n",
    "# For example, here's several helpful packages to load in \n",
    "\n",
    "import numpy as np # linear algebra\n",
    "import pandas as pd # data processing, CSV file I/O (e.g. pd.read_csv)\n",
    "import matplotlib.pyplot as plt\n",
    "from matplotlib import style\n",
    "import datetime as dt1\n",
    "from datetime import datetime as dt\n",
    "\n",
    "\n",
    "\n",
    "# Input data files are available in the \"../input/\" directory.\n",
    "# For example, running this (by clicking run or pressing Shift+Enter) will list the files in the input directory\n",
    "\n",
    "from subprocess import check_output\n",
    "# print(check_output([\"ls\", \"../input\"]).decode(\"utf8\"))\n",
    "\n",
    "# Any results you write to the current directory are saved as output."
   ]
  },
  {
   "cell_type": "code",
   "execution_count": 5,
   "metadata": {
    "_active": false,
    "_cell_guid": "60febda3-80c3-fb4c-bb15-ba94bbe86586"
   },
   "outputs": [
    {
     "name": "stdout",
     "output_type": "stream",
     "text": [
      "            Date    Open    High     Low   Close  Volume\n",
      "9056  1985/01/09  143.26  143.26  143.26  143.26   33717\n",
      "9057  1985/01/08  145.39  145.39  145.39  145.39   43849\n",
      "9058  1985/01/07  145.51  145.51  145.51  145.51   47277\n",
      "9059  1985/01/05  141.79  141.79  141.79  141.79   16992\n",
      "9060  1985/01/04  139.53  139.53  139.53  139.53    7411\n"
     ]
    }
   ],
   "source": [
    "df=pd.read_csv('kospi3.csv')\n",
    "# df.tail()\n",
    "# df=df.loc[df['symbol'] == 'CSCO']\n",
    "print(df.tail())"
   ]
  },
  {
   "cell_type": "code",
   "execution_count": null,
   "metadata": {
    "_active": false,
    "_cell_guid": "5227f185-e902-4e15-95e9-429cc135d2cf"
   },
   "outputs": [],
   "source": [
    "from sklearn import preprocessing, cross_validation, svm\n",
    "from sklearn.linear_model import LinearRegression\n",
    "import math"
   ]
  },
  {
   "cell_type": "code",
   "execution_count": null,
   "metadata": {
    "_active": false,
    "_cell_guid": "12960c79-6b3e-8860-2bc4-3f5095e94627"
   },
   "outputs": [],
   "source": [
    "forecast_col = 'close'\n",
    "df.fillna(value=-99999, inplace=True)\n",
    "forecast_out = int(math.ceil(0.01 * len(df)))\n",
    "print(forecast_out)\n",
    "df['label'] = df[forecast_col].shift(-forecast_out)\n",
    "print(df.head())"
   ]
  },
  {
   "cell_type": "code",
   "execution_count": null,
   "metadata": {
    "_active": false,
    "_cell_guid": "9454b817-ef4a-5bb7-7966-b1fd3a81e915"
   },
   "outputs": [],
   "source": [
    "#X = np.array(df.drop(['label'], 1))\n",
    "\n",
    "X=np.array(df.drop(['label','symbol','date'], axis=1))\n",
    "#print(X)\n",
    "X = preprocessing.scale(X)\n",
    "#print(X)\n",
    "X_lately = X[-forecast_out:]\n",
    "#print(X_lately)\n",
    "X = X[:-forecast_out]\n",
    "df.dropna(inplace=True)\n",
    "y = np.array(df['label'])\n",
    "X_train, X_test, y_train, y_test = cross_validation.train_test_split(X, y, test_size=0.2)"
   ]
  },
  {
   "cell_type": "code",
   "execution_count": null,
   "metadata": {
    "_active": false,
    "_cell_guid": "6c4ab6c7-5c85-01d8-96b4-50fe7bac6712"
   },
   "outputs": [],
   "source": [
    "clf = LinearRegression(n_jobs=-1)\n",
    "clf.fit(X_train, y_train)\n",
    "confidence = clf.score(X_test, y_test)\n",
    "print(confidence)"
   ]
  },
  {
   "cell_type": "code",
   "execution_count": null,
   "metadata": {
    "_active": true,
    "_cell_guid": "63360ae6-13ec-13c7-3249-7294f26863d6"
   },
   "outputs": [],
   "source": [
    "forecast_set = clf.predict(X_lately)\n",
    "print(forecast_set)\n",
    "df['Forecast'] = np.nan\n",
    "last_date = df.iloc[-1].date\n",
    "print(last_date)\n",
    "last_date=dt.strptime(last_date, '%Y-%m-%d').timestamp()\n",
    "last_unix = last_date\n",
    "one_day = 86400\n",
    "next_unix = last_unix + one_day\n",
    "\n",
    "for i in forecast_set:\n",
    "    next_date = dt.fromtimestamp(next_unix)\n",
    "    next_unix += 86400\n",
    "    df.loc[next_date] = [np.nan for _ in range(len(df.columns)-1)]+[i]\n",
    "print(df.tail())\n",
    "df['close'].plot()\n",
    "df['Forecast'].plot()\n",
    "#plt.legend(loc=4)\n",
    "plt.xlabel('Date')\n",
    "plt.ylabel('Price')\n",
    "plt.show()"
   ]
  }
 ],
 "metadata": {
  "kernelspec": {
   "display_name": "Python 3",
   "language": "python",
   "name": "python3"
  },
  "language_info": {
   "codemirror_mode": {
    "name": "ipython",
    "version": 3
   },
   "file_extension": ".py",
   "mimetype": "text/x-python",
   "name": "python",
   "nbconvert_exporter": "python",
   "pygments_lexer": "ipython3",
   "version": "3.7.1"
  }
 },
 "nbformat": 4,
 "nbformat_minor": 1
}
