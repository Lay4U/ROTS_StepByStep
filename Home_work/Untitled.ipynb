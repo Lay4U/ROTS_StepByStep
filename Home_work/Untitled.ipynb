{
 "cells": [
  {
   "cell_type": "code",
   "execution_count": 26,
   "metadata": {},
   "outputs": [],
   "source": [
    "data='''APS ZU BMS THAAMT KB SOP CHAAPJ MQ LPUWHKX. K UHJ SM JMZ SMLHJ VJ QXKPBLU -- UM PCPB SOMZDO TP\n",
    "QHEP SOP LKQQKEZASKPU MQ SMLHJ HBL SMVMXXMT, K USKAA OHCP H LXPHV. KS KU H LXPHV LPPWAJ XMMSPL\n",
    "KB SOP HVPXKEHB LXPHV. K OHCP H LXPHV SOHS MBP LHJ SOKU BHSKMB TKAA XKUP ZW HBL AKCP MZS SOP SXZP\n",
    "VPHBKBD MQ KSU EXPPL: \"TP OMAL SOPUP SXZSOU SM IP UPAQ-PCKLPBS, SOHS HAA VPB HXP EXPHSPL PGZHA.\"\n",
    "K OHCP H LXPHV SOHS MBP LHJ MB SOP XPL OKAAU MQ DPMXDKH SOP UMBU MQ QMXVPX UAHCPU HBL SOP UMBU\n",
    "MQ QMXVPX UAHCP MTBPXU TKAA IP HIAP SM UKS LMTB SMDPSOPX HS SOP SHIAP MQ IXMSOPXOMML. K OHCP H\n",
    "LXPHV SOHS MBP LHJ PCPB SOP USHSP MQ VKUUKUUKWWK, H USHSP UTPASPXKBD TKSO SOP OPHS MQ KBFZUSKEP,\n",
    "UTPASPXKBD TKSO SOP OPHS MQ MWWXPUUKMB, TKAA IP SXHBUQMXVPL KBSM HB MHUKU MQ QXPPLMV HBL\n",
    "FZUSKEP. K OHCP H LXPHV SOHS VJ QMZX AKSSAP EOKALXPB TKAA MBP LHJ AKCP KB H BHSKMB TOPXP SOPJ TKAA\n",
    "BMS IP FZLDPL IJ SOP EMAMX MQ SOPKX URKB IZS IJ SOP EMBSPBS MQ SOPKX EOHXHESPX. K OHCP H LXPHV\n",
    "SMLHJ. K OHCP H LXPHV SOHS MBP LHJ LMTB KB HAHIHVH, TKSO KSU CKEKMZU XHEKUSU, TKSO KSU DMCPXBMX\n",
    "OHCKBD OKU AKWU LXKWWKBD TKSO SOP TMXLU MQ KBSPXWMUKSKMB HBL BZAAKQKEHSKMB -- MBP LHJ XKDOS\n",
    "SOPXP KB HAHIHVH AKSSAP IAHER IMJU HBL IAHER DKXAU TKAA IP HIAP SM FMKB OHBLU TKSO AKSSAP TOKSP\n",
    "IMJU HBL TOKSP DKXAU HU UKUSPXU HBL IXMSOPXU. K OHCP H LXPHV SMLHJ. K OHCP H LXPHV SOHS MBP LHJ\n",
    "PCPXJ CHAAPJ UOHAA IP PNHASPL, HBL PCPXJ OKAA HBL VMZBSHKB UOHAA IP VHLP AMT, SOP XMZDO WAHEPU\n",
    "TKAA IP VHLP WAHKB, HBL SOP EXMMRPL WAHEPU TKAA IP VHLP USXHKDOS, HBL SOP DAMXJ MQ SOP AMXL\n",
    "UOHAA IP XPCPHAPL HBL HAA QAPUO UOHAA UPP KS SMDPSOPX.'''"
   ]
  },
  {
   "cell_type": "code",
   "execution_count": 27,
   "metadata": {},
   "outputs": [
    {
     "data": {
      "text/plain": [
       "<bound method Counter.most_common of Counter({' ': 288, 'P': 156, 'H': 124, 'S': 116, 'K': 97, 'M': 87, 'A': 81, 'O': 75, 'X': 69, 'U': 68, 'B': 68, 'L': 63, 'T': 29, 'V': 28, 'Q': 27, 'J': 26, 'C': 24, 'I': 24, 'E': 20, 'Z': 18, 'D': 18, '\\n': 16, 'W': 14, '.': 11, ',': 11, '-': 5, 'F': 4, 'R': 4, '\"': 2, ':': 1, 'G': 1, 'N': 1})>"
      ]
     },
     "execution_count": 27,
     "metadata": {},
     "output_type": "execute_result"
    }
   ],
   "source": [
    "from collections import Counter\n",
    "Counter(data).most_common"
   ]
  },
  {
   "cell_type": "code",
   "execution_count": 28,
   "metadata": {},
   "outputs": [
    {
     "data": {
      "text/plain": [
       "'AeS ZU BMS THAAMT KB SOe CHAAeJ MQ LeUWHKX. K UHJ SM JMZ SMLHJ VJ QXKeBLU -- UM eCeB SOMZDO Te\\nQHEe SOe LKQQKEZASKeU MQ SMLHJ HBL SMVMXXMT, K USKAA OHCe H LXeHV. KS KU H LXeHV LeeWAJ XMMSeL\\nKB SOe HVeXKEHB LXeHV. K OHCe H LXeHV SOHS MBe LHJ SOKU BHSKMB TKAA XKUe ZW HBL AKCe MZS SOe SXZe\\nVeHBKBD MQ KSU EXeeL: \"Te OMAL SOeUe SXZSOU SM Ie UeAQ-eCKLeBS, SOHS HAA VeB HXe EXeHSeL eGZHA.\"\\nK OHCe H LXeHV SOHS MBe LHJ MB SOe XeL OKAAU MQ DeMXDKH SOe UMBU MQ QMXVeX UAHCeU HBL SOe UMBU\\nMQ QMXVeX UAHCe MTBeXU TKAA Ie HIAe SM UKS LMTB SMDeSOeX HS SOe SHIAe MQ IXMSOeXOMML. K OHCe H\\nLXeHV SOHS MBe LHJ eCeB SOe USHSe MQ VKUUKUUKWWK, H USHSe UTeASeXKBD TKSO SOe OeHS MQ KBFZUSKEe,\\nUTeASeXKBD TKSO SOe OeHS MQ MWWXeUUKMB, TKAA Ie SXHBUQMXVeL KBSM HB MHUKU MQ QXeeLMV HBL\\nFZUSKEe. K OHCe H LXeHV SOHS VJ QMZX AKSSAe EOKALXeB TKAA MBe LHJ AKCe KB H BHSKMB TOeXe SOeJ TKAA\\nBMS Ie FZLDeL IJ SOe EMAMX MQ SOeKX URKB IZS IJ SOe EMBSeBS MQ SOeKX EOHXHESeX. K OHCe H LXeHV\\nSMLHJ. K OHCe H LXeHV SOHS MBe LHJ LMTB KB HAHIHVH, TKSO KSU CKEKMZU XHEKUSU, TKSO KSU DMCeXBMX\\nOHCKBD OKU AKWU LXKWWKBD TKSO SOe TMXLU MQ KBSeXWMUKSKMB HBL BZAAKQKEHSKMB -- MBe LHJ XKDOS\\nSOeXe KB HAHIHVH AKSSAe IAHER IMJU HBL IAHER DKXAU TKAA Ie HIAe SM FMKB OHBLU TKSO AKSSAe TOKSe\\nIMJU HBL TOKSe DKXAU HU UKUSeXU HBL IXMSOeXU. K OHCe H LXeHV SMLHJ. K OHCe H LXeHV SOHS MBe LHJ\\neCeXJ CHAAeJ UOHAA Ie eNHASeL, HBL eCeXJ OKAA HBL VMZBSHKB UOHAA Ie VHLe AMT, SOe XMZDO WAHEeU\\nTKAA Ie VHLe WAHKB, HBL SOe EXMMReL WAHEeU TKAA Ie VHLe USXHKDOS, HBL SOe DAMXJ MQ SOe AMXL\\nUOHAA Ie XeCeHAeL HBL HAA QAeUO UOHAA Uee KS SMDeSOeX.'"
      ]
     },
     "execution_count": 28,
     "metadata": {},
     "output_type": "execute_result"
    }
   ],
   "source": [
    "data = data.replace('P', 'e')\n",
    "data\n",
    "#제일 많은 빈도 e로"
   ]
  },
  {
   "cell_type": "code",
   "execution_count": 29,
   "metadata": {},
   "outputs": [
    {
     "data": {
      "text/plain": [
       "'Aet ZU BMt THAAMT KB the CHAAeJ MQ LeUWHKX. K UHJ tM JMZ tMLHJ VJ QXKeBLU -- UM eCeB thMZDh Te\\nQHEe the LKQQKEZAtKeU MQ tMLHJ HBL tMVMXXMT, K UtKAA hHCe H LXeHV. Kt KU H LXeHV LeeWAJ XMMteL\\nKB the HVeXKEHB LXeHV. K hHCe H LXeHV thHt MBe LHJ thKU BHtKMB TKAA XKUe ZW HBL AKCe MZt the tXZe\\nVeHBKBD MQ KtU EXeeL: \"Te hMAL theUe tXZthU tM Ie UeAQ-eCKLeBt, thHt HAA VeB HXe EXeHteL eGZHA.\"\\nK hHCe H LXeHV thHt MBe LHJ MB the XeL hKAAU MQ DeMXDKH the UMBU MQ QMXVeX UAHCeU HBL the UMBU\\nMQ QMXVeX UAHCe MTBeXU TKAA Ie HIAe tM UKt LMTB tMDetheX Ht the tHIAe MQ IXMtheXhMML. K hHCe H\\nLXeHV thHt MBe LHJ eCeB the UtHte MQ VKUUKUUKWWK, H UtHte UTeAteXKBD TKth the heHt MQ KBFZUtKEe,\\nUTeAteXKBD TKth the heHt MQ MWWXeUUKMB, TKAA Ie tXHBUQMXVeL KBtM HB MHUKU MQ QXeeLMV HBL\\nFZUtKEe. K hHCe H LXeHV thHt VJ QMZX AKttAe EhKALXeB TKAA MBe LHJ AKCe KB H BHtKMB TheXe theJ TKAA\\nBMt Ie FZLDeL IJ the EMAMX MQ theKX URKB IZt IJ the EMBteBt MQ theKX EhHXHEteX. K hHCe H LXeHV\\ntMLHJ. K hHCe H LXeHV thHt MBe LHJ LMTB KB HAHIHVH, TKth KtU CKEKMZU XHEKUtU, TKth KtU DMCeXBMX\\nhHCKBD hKU AKWU LXKWWKBD TKth the TMXLU MQ KBteXWMUKtKMB HBL BZAAKQKEHtKMB -- MBe LHJ XKDht\\ntheXe KB HAHIHVH AKttAe IAHER IMJU HBL IAHER DKXAU TKAA Ie HIAe tM FMKB hHBLU TKth AKttAe ThKte\\nIMJU HBL ThKte DKXAU HU UKUteXU HBL IXMtheXU. K hHCe H LXeHV tMLHJ. K hHCe H LXeHV thHt MBe LHJ\\neCeXJ CHAAeJ UhHAA Ie eNHAteL, HBL eCeXJ hKAA HBL VMZBtHKB UhHAA Ie VHLe AMT, the XMZDh WAHEeU\\nTKAA Ie VHLe WAHKB, HBL the EXMMReL WAHEeU TKAA Ie VHLe UtXHKDht, HBL the DAMXJ MQ the AMXL\\nUhHAA Ie XeCeHAeL HBL HAA QAeUh UhHAA Uee Kt tMDetheX.'"
      ]
     },
     "execution_count": 29,
     "metadata": {},
     "output_type": "execute_result"
    }
   ],
   "source": [
    "data = data.replace('S', 't')\n",
    "data = data.replace('O', 'h')\n",
    "data\n",
    "# SOe는 the일 확률이 높으므로 S는 t O는 h로"
   ]
  },
  {
   "cell_type": "code",
   "execution_count": 30,
   "metadata": {},
   "outputs": [
    {
     "data": {
      "text/plain": [
       "'Aet ZU BMt THAAMT iB the CHAAeJ MQ LeUWHiX. i UHJ tM JMZ tMLHJ VJ QXieBLU -- UM eCeB thMZDh Te\\nQHEe the LiQQiEZAtieU MQ tMLHJ HBL tMVMXXMT, i UtiAA hHCe H LXeHV. it iU H LXeHV LeeWAJ XMMteL\\niB the HVeXiEHB LXeHV. i hHCe H LXeHV thHt MBe LHJ thiU BHtiMB TiAA XiUe ZW HBL AiCe MZt the tXZe\\nVeHBiBD MQ itU EXeeL: \"Te hMAL theUe tXZthU tM Ie UeAQ-eCiLeBt, thHt HAA VeB HXe EXeHteL eGZHA.\"\\ni hHCe H LXeHV thHt MBe LHJ MB the XeL hiAAU MQ DeMXDiH the UMBU MQ QMXVeX UAHCeU HBL the UMBU\\nMQ QMXVeX UAHCe MTBeXU TiAA Ie HIAe tM Uit LMTB tMDetheX Ht the tHIAe MQ IXMtheXhMML. i hHCe H\\nLXeHV thHt MBe LHJ eCeB the UtHte MQ ViUUiUUiWWi, H UtHte UTeAteXiBD Tith the heHt MQ iBFZUtiEe,\\nUTeAteXiBD Tith the heHt MQ MWWXeUUiMB, TiAA Ie tXHBUQMXVeL iBtM HB MHUiU MQ QXeeLMV HBL\\nFZUtiEe. i hHCe H LXeHV thHt VJ QMZX AittAe EhiALXeB TiAA MBe LHJ AiCe iB H BHtiMB TheXe theJ TiAA\\nBMt Ie FZLDeL IJ the EMAMX MQ theiX URiB IZt IJ the EMBteBt MQ theiX EhHXHEteX. i hHCe H LXeHV\\ntMLHJ. i hHCe H LXeHV thHt MBe LHJ LMTB iB HAHIHVH, Tith itU CiEiMZU XHEiUtU, Tith itU DMCeXBMX\\nhHCiBD hiU AiWU LXiWWiBD Tith the TMXLU MQ iBteXWMUitiMB HBL BZAAiQiEHtiMB -- MBe LHJ XiDht\\ntheXe iB HAHIHVH AittAe IAHER IMJU HBL IAHER DiXAU TiAA Ie HIAe tM FMiB hHBLU Tith AittAe Thite\\nIMJU HBL Thite DiXAU HU UiUteXU HBL IXMtheXU. i hHCe H LXeHV tMLHJ. i hHCe H LXeHV thHt MBe LHJ\\neCeXJ CHAAeJ UhHAA Ie eNHAteL, HBL eCeXJ hiAA HBL VMZBtHiB UhHAA Ie VHLe AMT, the XMZDh WAHEeU\\nTiAA Ie VHLe WAHiB, HBL the EXMMReL WAHEeU TiAA Ie VHLe UtXHiDht, HBL the DAMXJ MQ the AMXL\\nUhHAA Ie XeCeHAeL HBL HAA QAeUh UhHAA Uee it tMDetheX.'"
      ]
     },
     "execution_count": 30,
     "metadata": {},
     "output_type": "execute_result"
    }
   ],
   "source": [
    "data = data.replace('K', 'i')\n",
    "data\n",
    "#'K ' K띄어쓰기가 눈에 들어온다. i로 바꿔주자"
   ]
  },
  {
   "cell_type": "code",
   "execution_count": 31,
   "metadata": {},
   "outputs": [
    {
     "data": {
      "text/plain": [
       "<bound method Counter.most_common of Counter({' ': 288, 'e': 156, 'H': 124, 't': 116, 'i': 97, 'M': 87, 'A': 81, 'h': 75, 'X': 69, 'U': 68, 'B': 68, 'L': 63, 'T': 29, 'V': 28, 'Q': 27, 'J': 26, 'C': 24, 'I': 24, 'E': 20, 'Z': 18, 'D': 18, '\\n': 16, 'W': 14, '.': 11, ',': 11, '-': 5, 'F': 4, 'R': 4, '\"': 2, ':': 1, 'G': 1, 'N': 1})>"
      ]
     },
     "execution_count": 31,
     "metadata": {},
     "output_type": "execute_result"
    }
   ],
   "source": [
    "from collections import Counter\n",
    "Counter(data).most_common"
   ]
  },
  {
   "cell_type": "code",
   "execution_count": 33,
   "metadata": {},
   "outputs": [
    {
     "data": {
      "text/plain": [
       "'Aet ZU BMt TaAAMT iB the vaAAeJ MQ LeUWaiX. i UaJ tM JMZ tMLaJ VJ QXieBLU -- UM eveB thMZDh Te\\nQaEe the LiQQiEZAtieU MQ tMLaJ aBL tMVMXXMT, i UtiAA have a LXeaV. it iU a LXeaV LeeWAJ XMMteL\\niB the aVeXiEaB LXeaV. i have a LXeaV that MBe LaJ thiU BatiMB TiAA XiUe ZW aBL Aive MZt the tXZe\\nVeaBiBD MQ itU EXeeL: \"Te hMAL theUe tXZthU tM Ie UeAQ-eviLeBt, that aAA VeB aXe EXeateL eGZaA.\"\\ni have a LXeaV that MBe LaJ MB the XeL hiAAU MQ DeMXDia the UMBU MQ QMXVeX UAaveU aBL the UMBU\\nMQ QMXVeX UAave MTBeXU TiAA Ie aIAe tM Uit LMTB tMDetheX at the taIAe MQ IXMtheXhMML. i have a\\nLXeaV that MBe LaJ eveB the Utate MQ ViUUiUUiWWi, a Utate UTeAteXiBD Tith the heat MQ iBFZUtiEe,\\nUTeAteXiBD Tith the heat MQ MWWXeUUiMB, TiAA Ie tXaBUQMXVeL iBtM aB MaUiU MQ QXeeLMV aBL\\nFZUtiEe. i have a LXeaV that VJ QMZX AittAe EhiALXeB TiAA MBe LaJ Aive iB a BatiMB TheXe theJ TiAA\\nBMt Ie FZLDeL IJ the EMAMX MQ theiX URiB IZt IJ the EMBteBt MQ theiX EhaXaEteX. i have a LXeaV\\ntMLaJ. i have a LXeaV that MBe LaJ LMTB iB aAaIaVa, Tith itU viEiMZU XaEiUtU, Tith itU DMveXBMX\\nhaviBD hiU AiWU LXiWWiBD Tith the TMXLU MQ iBteXWMUitiMB aBL BZAAiQiEatiMB -- MBe LaJ XiDht\\ntheXe iB aAaIaVa AittAe IAaER IMJU aBL IAaER DiXAU TiAA Ie aIAe tM FMiB haBLU Tith AittAe Thite\\nIMJU aBL Thite DiXAU aU UiUteXU aBL IXMtheXU. i have a LXeaV tMLaJ. i have a LXeaV that MBe LaJ\\neveXJ vaAAeJ UhaAA Ie eNaAteL, aBL eveXJ hiAA aBL VMZBtaiB UhaAA Ie VaLe AMT, the XMZDh WAaEeU\\nTiAA Ie VaLe WAaiB, aBL the EXMMReL WAaEeU TiAA Ie VaLe UtXaiDht, aBL the DAMXJ MQ the AMXL\\nUhaAA Ie XeveaAeL aBL aAA QAeUh UhaAA Uee it tMDetheX.'"
      ]
     },
     "execution_count": 33,
     "metadata": {},
     "output_type": "execute_result"
    }
   ],
   "source": [
    "data = data.replace('H', 'a')\n",
    "data = data.replace('C', 'v')\n",
    "data\n",
    "#i hHCe H 는 i have a일 확률이 높다. H는a C는 v로 바꿔주자."
   ]
  },
  {
   "cell_type": "code",
   "execution_count": 34,
   "metadata": {},
   "outputs": [
    {
     "data": {
      "text/plain": [
       "<bound method Counter.most_common of Counter({' ': 288, 'e': 156, 'a': 124, 't': 116, 'i': 97, 'M': 87, 'A': 81, 'h': 75, 'X': 69, 'U': 68, 'B': 68, 'L': 63, 'T': 29, 'V': 28, 'Q': 27, 'J': 26, 'v': 24, 'I': 24, 'E': 20, 'Z': 18, 'D': 18, '\\n': 16, 'W': 14, '.': 11, ',': 11, '-': 5, 'F': 4, 'R': 4, '\"': 2, ':': 1, 'G': 1, 'N': 1})>"
      ]
     },
     "execution_count": 34,
     "metadata": {},
     "output_type": "execute_result"
    }
   ],
   "source": [
    "from collections import Counter\n",
    "Counter(data).most_common"
   ]
  },
  {
   "cell_type": "code",
   "execution_count": null,
   "metadata": {},
   "outputs": [],
   "source": [
    "#M은 o"
   ]
  }
 ],
 "metadata": {
  "kernelspec": {
   "display_name": "me",
   "language": "python",
   "name": "me"
  },
  "language_info": {
   "codemirror_mode": {
    "name": "ipython",
    "version": 3
   },
   "file_extension": ".py",
   "mimetype": "text/x-python",
   "name": "python",
   "nbconvert_exporter": "python",
   "pygments_lexer": "ipython3",
   "version": "3.6.7"
  }
 },
 "nbformat": 4,
 "nbformat_minor": 2
}
