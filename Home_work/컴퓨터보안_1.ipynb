{
 "cells": [
  {
   "cell_type": "code",
   "execution_count": 1,
   "metadata": {},
   "outputs": [],
   "source": [
    "data='''APS ZU BMS THAAMT KB SOP CHAAPJ MQ LPUWHKX. K UHJ SM JMZ SMLHJ VJ QXKPBLU -- UM PCPB SOMZDO TP\n",
    "QHEP SOP LKQQKEZASKPU MQ SMLHJ HBL SMVMXXMT, K USKAA OHCP H LXPHV. KS KU H LXPHV LPPWAJ XMMSPL\n",
    "KB SOP HVPXKEHB LXPHV. K OHCP H LXPHV SOHS MBP LHJ SOKU BHSKMB TKAA XKUP ZW HBL AKCP MZS SOP SXZP\n",
    "VPHBKBD MQ KSU EXPPL: \"TP OMAL SOPUP SXZSOU SM IP UPAQ-PCKLPBS, SOHS HAA VPB HXP EXPHSPL PGZHA.\"\n",
    "K OHCP H LXPHV SOHS MBP LHJ MB SOP XPL OKAAU MQ DPMXDKH SOP UMBU MQ QMXVPX UAHCPU HBL SOP UMBU\n",
    "MQ QMXVPX UAHCP MTBPXU TKAA IP HIAP SM UKS LMTB SMDPSOPX HS SOP SHIAP MQ IXMSOPXOMML. K OHCP H\n",
    "LXPHV SOHS MBP LHJ PCPB SOP USHSP MQ VKUUKUUKWWK, H USHSP UTPASPXKBD TKSO SOP OPHS MQ KBFZUSKEP,\n",
    "UTPASPXKBD TKSO SOP OPHS MQ MWWXPUUKMB, TKAA IP SXHBUQMXVPL KBSM HB MHUKU MQ QXPPLMV HBL\n",
    "FZUSKEP. K OHCP H LXPHV SOHS VJ QMZX AKSSAP EOKALXPB TKAA MBP LHJ AKCP KB H BHSKMB TOPXP SOPJ TKAA\n",
    "BMS IP FZLDPL IJ SOP EMAMX MQ SOPKX URKB IZS IJ SOP EMBSPBS MQ SOPKX EOHXHESPX. K OHCP H LXPHV\n",
    "SMLHJ. K OHCP H LXPHV SOHS MBP LHJ LMTB KB HAHIHVH, TKSO KSU CKEKMZU XHEKUSU, TKSO KSU DMCPXBMX\n",
    "OHCKBD OKU AKWU LXKWWKBD TKSO SOP TMXLU MQ KBSPXWMUKSKMB HBL BZAAKQKEHSKMB -- MBP LHJ XKDOS\n",
    "SOPXP KB HAHIHVH AKSSAP IAHER IMJU HBL IAHER DKXAU TKAA IP HIAP SM FMKB OHBLU TKSO AKSSAP TOKSP\n",
    "IMJU HBL TOKSP DKXAU HU UKUSPXU HBL IXMSOPXU. K OHCP H LXPHV SMLHJ. K OHCP H LXPHV SOHS MBP LHJ\n",
    "PCPXJ CHAAPJ UOHAA IP PNHASPL, HBL PCPXJ OKAA HBL VMZBSHKB UOHAA IP VHLP AMT, SOP XMZDO WAHEPU\n",
    "TKAA IP VHLP WAHKB, HBL SOP EXMMRPL WAHEPU TKAA IP VHLP USXHKDOS, HBL SOP DAMXJ MQ SOP AMXL\n",
    "UOHAA IP XPCPHAPL HBL HAA QAPUO UOHAA UPP KS SMDPSOPX.'''"
   ]
  },
  {
   "cell_type": "code",
   "execution_count": 2,
   "metadata": {},
   "outputs": [
    {
     "data": {
      "text/plain": [
       "<bound method Counter.most_common of Counter({' ': 288, 'P': 156, 'H': 124, 'S': 116, 'K': 97, 'M': 87, 'A': 81, 'O': 75, 'X': 69, 'U': 68, 'B': 68, 'L': 63, 'T': 29, 'V': 28, 'Q': 27, 'J': 26, 'C': 24, 'I': 24, 'E': 20, 'Z': 18, 'D': 18, '\\n': 16, 'W': 14, '.': 11, ',': 11, '-': 5, 'F': 4, 'R': 4, '\"': 2, ':': 1, 'G': 1, 'N': 1})>"
      ]
     },
     "execution_count": 2,
     "metadata": {},
     "output_type": "execute_result"
    }
   ],
   "source": [
    "from collections import Counter\n",
    "Counter(data).most_common"
   ]
  },
  {
   "cell_type": "code",
   "execution_count": 3,
   "metadata": {},
   "outputs": [
    {
     "data": {
      "text/plain": [
       "'AeS ZU BMS THAAMT KB SOe CHAAeJ MQ LeUWHKX. K UHJ SM JMZ SMLHJ VJ QXKeBLU -- UM eCeB SOMZDO Te\\nQHEe SOe LKQQKEZASKeU MQ SMLHJ HBL SMVMXXMT, K USKAA OHCe H LXeHV. KS KU H LXeHV LeeWAJ XMMSeL\\nKB SOe HVeXKEHB LXeHV. K OHCe H LXeHV SOHS MBe LHJ SOKU BHSKMB TKAA XKUe ZW HBL AKCe MZS SOe SXZe\\nVeHBKBD MQ KSU EXeeL: \"Te OMAL SOeUe SXZSOU SM Ie UeAQ-eCKLeBS, SOHS HAA VeB HXe EXeHSeL eGZHA.\"\\nK OHCe H LXeHV SOHS MBe LHJ MB SOe XeL OKAAU MQ DeMXDKH SOe UMBU MQ QMXVeX UAHCeU HBL SOe UMBU\\nMQ QMXVeX UAHCe MTBeXU TKAA Ie HIAe SM UKS LMTB SMDeSOeX HS SOe SHIAe MQ IXMSOeXOMML. K OHCe H\\nLXeHV SOHS MBe LHJ eCeB SOe USHSe MQ VKUUKUUKWWK, H USHSe UTeASeXKBD TKSO SOe OeHS MQ KBFZUSKEe,\\nUTeASeXKBD TKSO SOe OeHS MQ MWWXeUUKMB, TKAA Ie SXHBUQMXVeL KBSM HB MHUKU MQ QXeeLMV HBL\\nFZUSKEe. K OHCe H LXeHV SOHS VJ QMZX AKSSAe EOKALXeB TKAA MBe LHJ AKCe KB H BHSKMB TOeXe SOeJ TKAA\\nBMS Ie FZLDeL IJ SOe EMAMX MQ SOeKX URKB IZS IJ SOe EMBSeBS MQ SOeKX EOHXHESeX. K OHCe H LXeHV\\nSMLHJ. K OHCe H LXeHV SOHS MBe LHJ LMTB KB HAHIHVH, TKSO KSU CKEKMZU XHEKUSU, TKSO KSU DMCeXBMX\\nOHCKBD OKU AKWU LXKWWKBD TKSO SOe TMXLU MQ KBSeXWMUKSKMB HBL BZAAKQKEHSKMB -- MBe LHJ XKDOS\\nSOeXe KB HAHIHVH AKSSAe IAHER IMJU HBL IAHER DKXAU TKAA Ie HIAe SM FMKB OHBLU TKSO AKSSAe TOKSe\\nIMJU HBL TOKSe DKXAU HU UKUSeXU HBL IXMSOeXU. K OHCe H LXeHV SMLHJ. K OHCe H LXeHV SOHS MBe LHJ\\neCeXJ CHAAeJ UOHAA Ie eNHASeL, HBL eCeXJ OKAA HBL VMZBSHKB UOHAA Ie VHLe AMT, SOe XMZDO WAHEeU\\nTKAA Ie VHLe WAHKB, HBL SOe EXMMReL WAHEeU TKAA Ie VHLe USXHKDOS, HBL SOe DAMXJ MQ SOe AMXL\\nUOHAA Ie XeCeHAeL HBL HAA QAeUO UOHAA Uee KS SMDeSOeX.'"
      ]
     },
     "execution_count": 3,
     "metadata": {},
     "output_type": "execute_result"
    }
   ],
   "source": [
    "data = data.replace('P', 'e')\n",
    "data\n",
    "#제일 많은 빈도 e로"
   ]
  },
  {
   "cell_type": "code",
   "execution_count": 4,
   "metadata": {},
   "outputs": [
    {
     "data": {
      "text/plain": [
       "'Aet ZU BMt THAAMT KB the CHAAeJ MQ LeUWHKX. K UHJ tM JMZ tMLHJ VJ QXKeBLU -- UM eCeB thMZDh Te\\nQHEe the LKQQKEZAtKeU MQ tMLHJ HBL tMVMXXMT, K UtKAA hHCe H LXeHV. Kt KU H LXeHV LeeWAJ XMMteL\\nKB the HVeXKEHB LXeHV. K hHCe H LXeHV thHt MBe LHJ thKU BHtKMB TKAA XKUe ZW HBL AKCe MZt the tXZe\\nVeHBKBD MQ KtU EXeeL: \"Te hMAL theUe tXZthU tM Ie UeAQ-eCKLeBt, thHt HAA VeB HXe EXeHteL eGZHA.\"\\nK hHCe H LXeHV thHt MBe LHJ MB the XeL hKAAU MQ DeMXDKH the UMBU MQ QMXVeX UAHCeU HBL the UMBU\\nMQ QMXVeX UAHCe MTBeXU TKAA Ie HIAe tM UKt LMTB tMDetheX Ht the tHIAe MQ IXMtheXhMML. K hHCe H\\nLXeHV thHt MBe LHJ eCeB the UtHte MQ VKUUKUUKWWK, H UtHte UTeAteXKBD TKth the heHt MQ KBFZUtKEe,\\nUTeAteXKBD TKth the heHt MQ MWWXeUUKMB, TKAA Ie tXHBUQMXVeL KBtM HB MHUKU MQ QXeeLMV HBL\\nFZUtKEe. K hHCe H LXeHV thHt VJ QMZX AKttAe EhKALXeB TKAA MBe LHJ AKCe KB H BHtKMB TheXe theJ TKAA\\nBMt Ie FZLDeL IJ the EMAMX MQ theKX URKB IZt IJ the EMBteBt MQ theKX EhHXHEteX. K hHCe H LXeHV\\ntMLHJ. K hHCe H LXeHV thHt MBe LHJ LMTB KB HAHIHVH, TKth KtU CKEKMZU XHEKUtU, TKth KtU DMCeXBMX\\nhHCKBD hKU AKWU LXKWWKBD TKth the TMXLU MQ KBteXWMUKtKMB HBL BZAAKQKEHtKMB -- MBe LHJ XKDht\\ntheXe KB HAHIHVH AKttAe IAHER IMJU HBL IAHER DKXAU TKAA Ie HIAe tM FMKB hHBLU TKth AKttAe ThKte\\nIMJU HBL ThKte DKXAU HU UKUteXU HBL IXMtheXU. K hHCe H LXeHV tMLHJ. K hHCe H LXeHV thHt MBe LHJ\\neCeXJ CHAAeJ UhHAA Ie eNHAteL, HBL eCeXJ hKAA HBL VMZBtHKB UhHAA Ie VHLe AMT, the XMZDh WAHEeU\\nTKAA Ie VHLe WAHKB, HBL the EXMMReL WAHEeU TKAA Ie VHLe UtXHKDht, HBL the DAMXJ MQ the AMXL\\nUhHAA Ie XeCeHAeL HBL HAA QAeUh UhHAA Uee Kt tMDetheX.'"
      ]
     },
     "execution_count": 4,
     "metadata": {},
     "output_type": "execute_result"
    }
   ],
   "source": [
    "data = data.replace('S', 't')\n",
    "data = data.replace('O', 'h')\n",
    "data\n",
    "# SOe는 the일 확률이 높으므로 S는 t O는 h로"
   ]
  },
  {
   "cell_type": "code",
   "execution_count": 5,
   "metadata": {},
   "outputs": [
    {
     "data": {
      "text/plain": [
       "'Aet ZU BMt THAAMT iB the CHAAeJ MQ LeUWHiX. i UHJ tM JMZ tMLHJ VJ QXieBLU -- UM eCeB thMZDh Te\\nQHEe the LiQQiEZAtieU MQ tMLHJ HBL tMVMXXMT, i UtiAA hHCe H LXeHV. it iU H LXeHV LeeWAJ XMMteL\\niB the HVeXiEHB LXeHV. i hHCe H LXeHV thHt MBe LHJ thiU BHtiMB TiAA XiUe ZW HBL AiCe MZt the tXZe\\nVeHBiBD MQ itU EXeeL: \"Te hMAL theUe tXZthU tM Ie UeAQ-eCiLeBt, thHt HAA VeB HXe EXeHteL eGZHA.\"\\ni hHCe H LXeHV thHt MBe LHJ MB the XeL hiAAU MQ DeMXDiH the UMBU MQ QMXVeX UAHCeU HBL the UMBU\\nMQ QMXVeX UAHCe MTBeXU TiAA Ie HIAe tM Uit LMTB tMDetheX Ht the tHIAe MQ IXMtheXhMML. i hHCe H\\nLXeHV thHt MBe LHJ eCeB the UtHte MQ ViUUiUUiWWi, H UtHte UTeAteXiBD Tith the heHt MQ iBFZUtiEe,\\nUTeAteXiBD Tith the heHt MQ MWWXeUUiMB, TiAA Ie tXHBUQMXVeL iBtM HB MHUiU MQ QXeeLMV HBL\\nFZUtiEe. i hHCe H LXeHV thHt VJ QMZX AittAe EhiALXeB TiAA MBe LHJ AiCe iB H BHtiMB TheXe theJ TiAA\\nBMt Ie FZLDeL IJ the EMAMX MQ theiX URiB IZt IJ the EMBteBt MQ theiX EhHXHEteX. i hHCe H LXeHV\\ntMLHJ. i hHCe H LXeHV thHt MBe LHJ LMTB iB HAHIHVH, Tith itU CiEiMZU XHEiUtU, Tith itU DMCeXBMX\\nhHCiBD hiU AiWU LXiWWiBD Tith the TMXLU MQ iBteXWMUitiMB HBL BZAAiQiEHtiMB -- MBe LHJ XiDht\\ntheXe iB HAHIHVH AittAe IAHER IMJU HBL IAHER DiXAU TiAA Ie HIAe tM FMiB hHBLU Tith AittAe Thite\\nIMJU HBL Thite DiXAU HU UiUteXU HBL IXMtheXU. i hHCe H LXeHV tMLHJ. i hHCe H LXeHV thHt MBe LHJ\\neCeXJ CHAAeJ UhHAA Ie eNHAteL, HBL eCeXJ hiAA HBL VMZBtHiB UhHAA Ie VHLe AMT, the XMZDh WAHEeU\\nTiAA Ie VHLe WAHiB, HBL the EXMMReL WAHEeU TiAA Ie VHLe UtXHiDht, HBL the DAMXJ MQ the AMXL\\nUhHAA Ie XeCeHAeL HBL HAA QAeUh UhHAA Uee it tMDetheX.'"
      ]
     },
     "execution_count": 5,
     "metadata": {},
     "output_type": "execute_result"
    }
   ],
   "source": [
    "data = data.replace('K', 'i')\n",
    "data\n",
    "#'K ' K띄어쓰기가 눈에 들어온다. i로 바꿔주자"
   ]
  },
  {
   "cell_type": "code",
   "execution_count": 6,
   "metadata": {},
   "outputs": [
    {
     "data": {
      "text/plain": [
       "<bound method Counter.most_common of Counter({' ': 288, 'e': 156, 'H': 124, 't': 116, 'i': 97, 'M': 87, 'A': 81, 'h': 75, 'X': 69, 'U': 68, 'B': 68, 'L': 63, 'T': 29, 'V': 28, 'Q': 27, 'J': 26, 'C': 24, 'I': 24, 'E': 20, 'Z': 18, 'D': 18, '\\n': 16, 'W': 14, '.': 11, ',': 11, '-': 5, 'F': 4, 'R': 4, '\"': 2, ':': 1, 'G': 1, 'N': 1})>"
      ]
     },
     "execution_count": 6,
     "metadata": {},
     "output_type": "execute_result"
    }
   ],
   "source": [
    "Counter(data).most_common"
   ]
  },
  {
   "cell_type": "code",
   "execution_count": 7,
   "metadata": {},
   "outputs": [
    {
     "data": {
      "text/plain": [
       "'Aet ZU BMt TaAAMT iB the vaAAeJ MQ LeUWaiX. i UaJ tM JMZ tMLaJ VJ QXieBLU -- UM eveB thMZDh Te\\nQaEe the LiQQiEZAtieU MQ tMLaJ aBL tMVMXXMT, i UtiAA have a LXeaV. it iU a LXeaV LeeWAJ XMMteL\\niB the aVeXiEaB LXeaV. i have a LXeaV that MBe LaJ thiU BatiMB TiAA XiUe ZW aBL Aive MZt the tXZe\\nVeaBiBD MQ itU EXeeL: \"Te hMAL theUe tXZthU tM Ie UeAQ-eviLeBt, that aAA VeB aXe EXeateL eGZaA.\"\\ni have a LXeaV that MBe LaJ MB the XeL hiAAU MQ DeMXDia the UMBU MQ QMXVeX UAaveU aBL the UMBU\\nMQ QMXVeX UAave MTBeXU TiAA Ie aIAe tM Uit LMTB tMDetheX at the taIAe MQ IXMtheXhMML. i have a\\nLXeaV that MBe LaJ eveB the Utate MQ ViUUiUUiWWi, a Utate UTeAteXiBD Tith the heat MQ iBFZUtiEe,\\nUTeAteXiBD Tith the heat MQ MWWXeUUiMB, TiAA Ie tXaBUQMXVeL iBtM aB MaUiU MQ QXeeLMV aBL\\nFZUtiEe. i have a LXeaV that VJ QMZX AittAe EhiALXeB TiAA MBe LaJ Aive iB a BatiMB TheXe theJ TiAA\\nBMt Ie FZLDeL IJ the EMAMX MQ theiX URiB IZt IJ the EMBteBt MQ theiX EhaXaEteX. i have a LXeaV\\ntMLaJ. i have a LXeaV that MBe LaJ LMTB iB aAaIaVa, Tith itU viEiMZU XaEiUtU, Tith itU DMveXBMX\\nhaviBD hiU AiWU LXiWWiBD Tith the TMXLU MQ iBteXWMUitiMB aBL BZAAiQiEatiMB -- MBe LaJ XiDht\\ntheXe iB aAaIaVa AittAe IAaER IMJU aBL IAaER DiXAU TiAA Ie aIAe tM FMiB haBLU Tith AittAe Thite\\nIMJU aBL Thite DiXAU aU UiUteXU aBL IXMtheXU. i have a LXeaV tMLaJ. i have a LXeaV that MBe LaJ\\neveXJ vaAAeJ UhaAA Ie eNaAteL, aBL eveXJ hiAA aBL VMZBtaiB UhaAA Ie VaLe AMT, the XMZDh WAaEeU\\nTiAA Ie VaLe WAaiB, aBL the EXMMReL WAaEeU TiAA Ie VaLe UtXaiDht, aBL the DAMXJ MQ the AMXL\\nUhaAA Ie XeveaAeL aBL aAA QAeUh UhaAA Uee it tMDetheX.'"
      ]
     },
     "execution_count": 7,
     "metadata": {},
     "output_type": "execute_result"
    }
   ],
   "source": [
    "data = data.replace('H', 'a')\n",
    "data = data.replace('C', 'v')\n",
    "data\n",
    "#i hHCe H 는 i have a일 확률이 높다. H는a C는 v로 바꿔주자."
   ]
  },
  {
   "cell_type": "code",
   "execution_count": 8,
   "metadata": {},
   "outputs": [
    {
     "data": {
      "text/plain": [
       "<bound method Counter.most_common of Counter({' ': 288, 'e': 156, 'a': 124, 't': 116, 'i': 97, 'M': 87, 'A': 81, 'h': 75, 'X': 69, 'U': 68, 'B': 68, 'L': 63, 'T': 29, 'V': 28, 'Q': 27, 'J': 26, 'v': 24, 'I': 24, 'E': 20, 'Z': 18, 'D': 18, '\\n': 16, 'W': 14, '.': 11, ',': 11, '-': 5, 'F': 4, 'R': 4, '\"': 2, ':': 1, 'G': 1, 'N': 1})>"
      ]
     },
     "execution_count": 8,
     "metadata": {},
     "output_type": "execute_result"
    }
   ],
   "source": [
    "Counter(data).most_common"
   ]
  },
  {
   "cell_type": "code",
   "execution_count": 9,
   "metadata": {},
   "outputs": [
    {
     "data": {
      "text/plain": [
       "'Aet ZU Bot TaAAoT iB the vaAAeJ oQ LeUWaiX. i UaJ to JoZ toLaJ VJ QXieBLU -- Uo eveB thoZDh Te\\nQaEe the LiQQiEZAtieU oQ toLaJ aBL toVoXXoT, i UtiAA have a LXeaV. it iU a LXeaV LeeWAJ XooteL\\niB the aVeXiEaB LXeaV. i have a LXeaV that oBe LaJ thiU BatioB TiAA XiUe ZW aBL Aive oZt the tXZe\\nVeaBiBD oQ itU EXeeL: \"Te hoAL theUe tXZthU to Ie UeAQ-eviLeBt, that aAA VeB aXe EXeateL eGZaA.\"\\ni have a LXeaV that oBe LaJ oB the XeL hiAAU oQ DeoXDia the UoBU oQ QoXVeX UAaveU aBL the UoBU\\noQ QoXVeX UAave oTBeXU TiAA Ie aIAe to Uit LoTB toDetheX at the taIAe oQ IXotheXhooL. i have a\\nLXeaV that oBe LaJ eveB the Utate oQ ViUUiUUiWWi, a Utate UTeAteXiBD Tith the heat oQ iBFZUtiEe,\\nUTeAteXiBD Tith the heat oQ oWWXeUUioB, TiAA Ie tXaBUQoXVeL iBto aB oaUiU oQ QXeeLoV aBL\\nFZUtiEe. i have a LXeaV that VJ QoZX AittAe EhiALXeB TiAA oBe LaJ Aive iB a BatioB TheXe theJ TiAA\\nBot Ie FZLDeL IJ the EoAoX oQ theiX URiB IZt IJ the EoBteBt oQ theiX EhaXaEteX. i have a LXeaV\\ntoLaJ. i have a LXeaV that oBe LaJ LoTB iB aAaIaVa, Tith itU viEioZU XaEiUtU, Tith itU DoveXBoX\\nhaviBD hiU AiWU LXiWWiBD Tith the ToXLU oQ iBteXWoUitioB aBL BZAAiQiEatioB -- oBe LaJ XiDht\\ntheXe iB aAaIaVa AittAe IAaER IoJU aBL IAaER DiXAU TiAA Ie aIAe to FoiB haBLU Tith AittAe Thite\\nIoJU aBL Thite DiXAU aU UiUteXU aBL IXotheXU. i have a LXeaV toLaJ. i have a LXeaV that oBe LaJ\\neveXJ vaAAeJ UhaAA Ie eNaAteL, aBL eveXJ hiAA aBL VoZBtaiB UhaAA Ie VaLe AoT, the XoZDh WAaEeU\\nTiAA Ie VaLe WAaiB, aBL the EXooReL WAaEeU TiAA Ie VaLe UtXaiDht, aBL the DAoXJ oQ the AoXL\\nUhaAA Ie XeveaAeL aBL aAA QAeUh UhaAA Uee it toDetheX.'"
      ]
     },
     "execution_count": 9,
     "metadata": {},
     "output_type": "execute_result"
    }
   ],
   "source": [
    "data = data.replace('M', 'o')\n",
    "data\n",
    "#tM 은 to 로 추측이 된다. M -> o"
   ]
  },
  {
   "cell_type": "code",
   "execution_count": 10,
   "metadata": {},
   "outputs": [
    {
     "data": {
      "text/plain": [
       "'let ZU Bot TalloT iB the valleJ oQ LeUWaiX. i UaJ to JoZ toLaJ VJ QXieBLU -- Uo eveB thoZDh Te\\nQaEe the LiQQiEZltieU oQ toLaJ aBL toVoXXoT, i Utill have a LXeaV. it iU a LXeaV LeeWlJ XooteL\\niB the aVeXiEaB LXeaV. i have a LXeaV that oBe LaJ thiU BatioB Till XiUe ZW aBL live oZt the tXZe\\nVeaBiBD oQ itU EXeeL: \"Te holL theUe tXZthU to Ie UelQ-eviLeBt, that all VeB aXe EXeateL eGZal.\"\\ni have a LXeaV that oBe LaJ oB the XeL hillU oQ DeoXDia the UoBU oQ QoXVeX UlaveU aBL the UoBU\\noQ QoXVeX Ulave oTBeXU Till Ie aIle to Uit LoTB toDetheX at the taIle oQ IXotheXhooL. i have a\\nLXeaV that oBe LaJ eveB the Utate oQ ViUUiUUiWWi, a Utate UTelteXiBD Tith the heat oQ iBFZUtiEe,\\nUTelteXiBD Tith the heat oQ oWWXeUUioB, Till Ie tXaBUQoXVeL iBto aB oaUiU oQ QXeeLoV aBL\\nFZUtiEe. i have a LXeaV that VJ QoZX little EhilLXeB Till oBe LaJ live iB a BatioB TheXe theJ Till\\nBot Ie FZLDeL IJ the EoloX oQ theiX URiB IZt IJ the EoBteBt oQ theiX EhaXaEteX. i have a LXeaV\\ntoLaJ. i have a LXeaV that oBe LaJ LoTB iB alaIaVa, Tith itU viEioZU XaEiUtU, Tith itU DoveXBoX\\nhaviBD hiU liWU LXiWWiBD Tith the ToXLU oQ iBteXWoUitioB aBL BZlliQiEatioB -- oBe LaJ XiDht\\ntheXe iB alaIaVa little IlaER IoJU aBL IlaER DiXlU Till Ie aIle to FoiB haBLU Tith little Thite\\nIoJU aBL Thite DiXlU aU UiUteXU aBL IXotheXU. i have a LXeaV toLaJ. i have a LXeaV that oBe LaJ\\neveXJ valleJ Uhall Ie eNalteL, aBL eveXJ hill aBL VoZBtaiB Uhall Ie VaLe loT, the XoZDh WlaEeU\\nTill Ie VaLe WlaiB, aBL the EXooReL WlaEeU Till Ie VaLe UtXaiDht, aBL the DloXJ oQ the loXL\\nUhall Ie XevealeL aBL all QleUh Uhall Uee it toDetheX.'"
      ]
     },
     "execution_count": 10,
     "metadata": {},
     "output_type": "execute_result"
    }
   ],
   "source": [
    "temp = data\n",
    "# 이제부터는 찍어야할것같다. 잠시 백업\n",
    "\n",
    "data = data.replace('A', 'l')\n",
    "data\n",
    "# ?et 으로 시작하는 동사 느낌으로 찍는다. A -> l"
   ]
  },
  {
   "cell_type": "code",
   "execution_count": 11,
   "metadata": {},
   "outputs": [
    {
     "data": {
      "text/plain": [
       "<bound method Counter.most_common of Counter({' ': 288, 'e': 156, 'a': 124, 't': 116, 'i': 97, 'o': 87, 'l': 81, 'h': 75, 'X': 69, 'U': 68, 'B': 68, 'L': 63, 'T': 29, 'V': 28, 'Q': 27, 'J': 26, 'v': 24, 'I': 24, 'E': 20, 'Z': 18, 'D': 18, '\\n': 16, 'W': 14, '.': 11, ',': 11, '-': 5, 'F': 4, 'R': 4, '\"': 2, ':': 1, 'G': 1, 'N': 1})>"
      ]
     },
     "execution_count": 11,
     "metadata": {},
     "output_type": "execute_result"
    }
   ],
   "source": [
    "Counter(data).most_common"
   ]
  },
  {
   "cell_type": "code",
   "execution_count": 12,
   "metadata": {},
   "outputs": [
    {
     "data": {
      "text/plain": [
       "'let Zs Bot TalloT iB the valleJ oQ LesWaiX. i saJ to JoZ toLaJ VJ QXieBLs -- so eveB thoZDh Te\\nQaEe the LiQQiEZlties oQ toLaJ aBL toVoXXoT, i still have a LXeaV. it is a LXeaV LeeWlJ XooteL\\niB the aVeXiEaB LXeaV. i have a LXeaV that oBe LaJ this BatioB Till Xise ZW aBL live oZt the tXZe\\nVeaBiBD oQ its EXeeL: \"Te holL these tXZths to Ie selQ-eviLeBt, that all VeB aXe EXeateL eGZal.\"\\ni have a LXeaV that oBe LaJ oB the XeL hills oQ DeoXDia the soBs oQ QoXVeX slaves aBL the soBs\\noQ QoXVeX slave oTBeXs Till Ie aIle to sit LoTB toDetheX at the taIle oQ IXotheXhooL. i have a\\nLXeaV that oBe LaJ eveB the state oQ VississiWWi, a state sTelteXiBD Tith the heat oQ iBFZstiEe,\\nsTelteXiBD Tith the heat oQ oWWXessioB, Till Ie tXaBsQoXVeL iBto aB oasis oQ QXeeLoV aBL\\nFZstiEe. i have a LXeaV that VJ QoZX little EhilLXeB Till oBe LaJ live iB a BatioB TheXe theJ Till\\nBot Ie FZLDeL IJ the EoloX oQ theiX sRiB IZt IJ the EoBteBt oQ theiX EhaXaEteX. i have a LXeaV\\ntoLaJ. i have a LXeaV that oBe LaJ LoTB iB alaIaVa, Tith its viEioZs XaEists, Tith its DoveXBoX\\nhaviBD his liWs LXiWWiBD Tith the ToXLs oQ iBteXWositioB aBL BZlliQiEatioB -- oBe LaJ XiDht\\ntheXe iB alaIaVa little IlaER IoJs aBL IlaER DiXls Till Ie aIle to FoiB haBLs Tith little Thite\\nIoJs aBL Thite DiXls as sisteXs aBL IXotheXs. i have a LXeaV toLaJ. i have a LXeaV that oBe LaJ\\neveXJ valleJ shall Ie eNalteL, aBL eveXJ hill aBL VoZBtaiB shall Ie VaLe loT, the XoZDh WlaEes\\nTill Ie VaLe WlaiB, aBL the EXooReL WlaEes Till Ie VaLe stXaiDht, aBL the DloXJ oQ the loXL\\nshall Ie XevealeL aBL all Qlesh shall see it toDetheX.'"
      ]
     },
     "execution_count": 12,
     "metadata": {},
     "output_type": "execute_result"
    }
   ],
   "source": [
    "data = data.replace('U','s')\n",
    "data\n",
    "# i Utill have a LXeaV   i still have~ U -> s"
   ]
  },
  {
   "cell_type": "code",
   "execution_count": 13,
   "metadata": {},
   "outputs": [
    {
     "data": {
      "text/plain": [
       "'let Zs not TalloT in the valleJ oQ LesWaiX. i saJ to JoZ toLaJ VJ QXienLs -- so even thoZDh Te\\nQaEe the LiQQiEZlties oQ toLaJ anL toVoXXoT, i still have a LXeaV. it is a LXeaV LeeWlJ XooteL\\nin the aVeXiEan LXeaV. i have a LXeaV that one LaJ this nation Till Xise ZW anL live oZt the tXZe\\nVeaninD oQ its EXeeL: \"Te holL these tXZths to Ie selQ-eviLent, that all Ven aXe EXeateL eGZal.\"\\ni have a LXeaV that one LaJ on the XeL hills oQ DeoXDia the sons oQ QoXVeX slaves anL the sons\\noQ QoXVeX slave oTneXs Till Ie aIle to sit LoTn toDetheX at the taIle oQ IXotheXhooL. i have a\\nLXeaV that one LaJ even the state oQ VississiWWi, a state sTelteXinD Tith the heat oQ inFZstiEe,\\nsTelteXinD Tith the heat oQ oWWXession, Till Ie tXansQoXVeL into an oasis oQ QXeeLoV anL\\nFZstiEe. i have a LXeaV that VJ QoZX little EhilLXen Till one LaJ live in a nation TheXe theJ Till\\nnot Ie FZLDeL IJ the EoloX oQ theiX sRin IZt IJ the Eontent oQ theiX EhaXaEteX. i have a LXeaV\\ntoLaJ. i have a LXeaV that one LaJ LoTn in alaIaVa, Tith its viEioZs XaEists, Tith its DoveXnoX\\nhavinD his liWs LXiWWinD Tith the ToXLs oQ inteXWosition anL nZlliQiEation -- one LaJ XiDht\\ntheXe in alaIaVa little IlaER IoJs anL IlaER DiXls Till Ie aIle to Foin hanLs Tith little Thite\\nIoJs anL Thite DiXls as sisteXs anL IXotheXs. i have a LXeaV toLaJ. i have a LXeaV that one LaJ\\neveXJ valleJ shall Ie eNalteL, anL eveXJ hill anL VoZntain shall Ie VaLe loT, the XoZDh WlaEes\\nTill Ie VaLe Wlain, anL the EXooReL WlaEes Till Ie VaLe stXaiDht, anL the DloXJ oQ the loXL\\nshall Ie XevealeL anL all Qlesh shall see it toDetheX.'"
      ]
     },
     "execution_count": 13,
     "metadata": {},
     "output_type": "execute_result"
    }
   ],
   "source": [
    "data = data.replace('B', 'n')\n",
    "data\n",
    "# -- so eveB so even B -> n"
   ]
  },
  {
   "cell_type": "code",
   "execution_count": 14,
   "metadata": {},
   "outputs": [
    {
     "data": {
      "text/plain": [
       "'let Zs not TalloT in the valleJ oQ LesWair. i saJ to JoZ toLaJ VJ QrienLs -- so even thoZgh Te\\nQaEe the LiQQiEZlties oQ toLaJ anL toVorroT, i still have a LreaV. it is a LreaV LeeWlJ rooteL\\nin the aVeriEan LreaV. i have a LreaV that one LaJ this nation Till rise ZW anL live oZt the trZe\\nVeaning oQ its EreeL: \"Te holL these trZths to Ie selQ-eviLent, that all Ven are EreateL eGZal.\"\\ni have a LreaV that one LaJ on the reL hills oQ georgia the sons oQ QorVer slaves anL the sons\\noQ QorVer slave oTners Till Ie aIle to sit LoTn together at the taIle oQ IrotherhooL. i have a\\nLreaV that one LaJ even the state oQ VississiWWi, a state sTeltering Tith the heat oQ inFZstiEe,\\nsTeltering Tith the heat oQ oWWression, Till Ie transQorVeL into an oasis oQ QreeLoV anL\\nFZstiEe. i have a LreaV that VJ QoZr little EhilLren Till one LaJ live in a nation There theJ Till\\nnot Ie FZLgeL IJ the Eolor oQ their sRin IZt IJ the Eontent oQ their EharaEter. i have a LreaV\\ntoLaJ. i have a LreaV that one LaJ LoTn in alaIaVa, Tith its viEioZs raEists, Tith its governor\\nhaving his liWs LriWWing Tith the TorLs oQ interWosition anL nZlliQiEation -- one LaJ right\\nthere in alaIaVa little IlaER IoJs anL IlaER girls Till Ie aIle to Foin hanLs Tith little Thite\\nIoJs anL Thite girls as sisters anL Irothers. i have a LreaV toLaJ. i have a LreaV that one LaJ\\neverJ valleJ shall Ie eNalteL, anL everJ hill anL VoZntain shall Ie VaLe loT, the roZgh WlaEes\\nTill Ie VaLe Wlain, anL the ErooReL WlaEes Till Ie VaLe straight, anL the glorJ oQ the lorL\\nshall Ie revealeL anL all Qlesh shall see it together.'"
      ]
     },
     "execution_count": 14,
     "metadata": {},
     "output_type": "execute_result"
    }
   ],
   "source": [
    "data = data.replace('D', 'g')\n",
    "data = data.replace('X', 'r')\n",
    "data\n",
    "#  see it toDetheX -> see it together --> D -> g X -> r"
   ]
  },
  {
   "cell_type": "code",
   "execution_count": 15,
   "metadata": {},
   "outputs": [
    {
     "data": {
      "text/plain": [
       "'let Zs not TalloT in the valleJ of LesWair. i saJ to JoZ toLaJ VJ frienLs -- so even thoZgh Te\\nfaEe the LiffiEZlties of toLaJ anL toVorroT, i still have a LreaV. it is a LreaV LeeWlJ rooteL\\nin the aVeriEan LreaV. i have a LreaV that one LaJ this nation Till rise ZW anL live oZt the trZe\\nVeaning of its EreeL: \"Te holL these trZths to Ie self-eviLent, that all Ven are EreateL eGZal.\"\\ni have a LreaV that one LaJ on the reL hills of georgia the sons of forVer slaves anL the sons\\nof forVer slave oTners Till Ie aIle to sit LoTn together at the taIle of IrotherhooL. i have a\\nLreaV that one LaJ even the state of VississiWWi, a state sTeltering Tith the heat of inFZstiEe,\\nsTeltering Tith the heat of oWWression, Till Ie transforVeL into an oasis of freeLoV anL\\nFZstiEe. i have a LreaV that VJ foZr little EhilLren Till one LaJ live in a nation There theJ Till\\nnot Ie FZLgeL IJ the Eolor of their sRin IZt IJ the Eontent of their EharaEter. i have a LreaV\\ntoLaJ. i have a LreaV that one LaJ LoTn in alaIaVa, Tith its viEioZs raEists, Tith its governor\\nhaving his liWs LriWWing Tith the TorLs of interWosition anL nZllifiEation -- one LaJ right\\nthere in alaIaVa little IlaER IoJs anL IlaER girls Till Ie aIle to Foin hanLs Tith little Thite\\nIoJs anL Thite girls as sisters anL Irothers. i have a LreaV toLaJ. i have a LreaV that one LaJ\\neverJ valleJ shall Ie eNalteL, anL everJ hill anL VoZntain shall Ie VaLe loT, the roZgh WlaEes\\nTill Ie VaLe Wlain, anL the ErooReL WlaEes Till Ie VaLe straight, anL the glorJ of the lorL\\nshall Ie revealeL anL all flesh shall see it together.'"
      ]
     },
     "execution_count": 15,
     "metadata": {},
     "output_type": "execute_result"
    }
   ],
   "source": [
    "data = data.replace('Q', 'f')\n",
    "data\n",
    "# oQ 검색했을때 of로 느낌이온다. Q -> f"
   ]
  },
  {
   "cell_type": "code",
   "execution_count": 16,
   "metadata": {},
   "outputs": [
    {
     "data": {
      "text/plain": [
       "'let Zs not TalloT in the valleJ of desWair. i saJ to JoZ todaJ VJ friends -- so even thoZgh Te\\nfaEe the diffiEZlties of todaJ and toVorroT, i still have a dreaV. it is a dreaV deeWlJ rooted\\nin the aVeriEan dreaV. i have a dreaV that one daJ this nation Till rise ZW and live oZt the trZe\\nVeaning of its Ereed: \"Te hold these trZths to Ie self-evident, that all Ven are Ereated eGZal.\"\\ni have a dreaV that one daJ on the red hills of georgia the sons of forVer slaves and the sons\\nof forVer slave oTners Till Ie aIle to sit doTn together at the taIle of Irotherhood. i have a\\ndreaV that one daJ even the state of VississiWWi, a state sTeltering Tith the heat of inFZstiEe,\\nsTeltering Tith the heat of oWWression, Till Ie transforVed into an oasis of freedoV and\\nFZstiEe. i have a dreaV that VJ foZr little Ehildren Till one daJ live in a nation There theJ Till\\nnot Ie FZdged IJ the Eolor of their sRin IZt IJ the Eontent of their EharaEter. i have a dreaV\\ntodaJ. i have a dreaV that one daJ doTn in alaIaVa, Tith its viEioZs raEists, Tith its governor\\nhaving his liWs driWWing Tith the Tords of interWosition and nZllifiEation -- one daJ right\\nthere in alaIaVa little IlaER IoJs and IlaER girls Till Ie aIle to Foin hands Tith little Thite\\nIoJs and Thite girls as sisters and Irothers. i have a dreaV todaJ. i have a dreaV that one daJ\\neverJ valleJ shall Ie eNalted, and everJ hill and VoZntain shall Ie Vade loT, the roZgh WlaEes\\nTill Ie Vade Wlain, and the ErooRed WlaEes Till Ie Vade straight, and the glorJ of the lord\\nshall Ie revealed and all flesh shall see it together.'"
      ]
     },
     "execution_count": 16,
     "metadata": {},
     "output_type": "execute_result"
    }
   ],
   "source": [
    "data = data.replace('L', 'd')\n",
    "data\n",
    "#frienLs L -> d"
   ]
  },
  {
   "cell_type": "code",
   "execution_count": 17,
   "metadata": {},
   "outputs": [
    {
     "data": {
      "text/plain": [
       "'let Zs not TalloT in the valley of desWair. i say to yoZ today Vy friends -- so even thoZgh Te\\nfaEe the diffiEZlties of today and toVorroT, i still have a dreaV. it is a dreaV deeWly rooted\\nin the aVeriEan dreaV. i have a dreaV that one day this nation Till rise ZW and live oZt the trZe\\nVeaning of its Ereed: \"Te hold these trZths to Ie self-evident, that all Ven are Ereated eGZal.\"\\ni have a dreaV that one day on the red hills of georgia the sons of forVer slaves and the sons\\nof forVer slave oTners Till Ie aIle to sit doTn together at the taIle of Irotherhood. i have a\\ndreaV that one day even the state of VississiWWi, a state sTeltering Tith the heat of inFZstiEe,\\nsTeltering Tith the heat of oWWression, Till Ie transforVed into an oasis of freedoV and\\nFZstiEe. i have a dreaV that Vy foZr little Ehildren Till one day live in a nation There they Till\\nnot Ie FZdged Iy the Eolor of their sRin IZt Iy the Eontent of their EharaEter. i have a dreaV\\ntoday. i have a dreaV that one day doTn in alaIaVa, Tith its viEioZs raEists, Tith its governor\\nhaving his liWs driWWing Tith the Tords of interWosition and nZllifiEation -- one day right\\nthere in alaIaVa little IlaER Ioys and IlaER girls Till Ie aIle to Foin hands Tith little Thite\\nIoys and Thite girls as sisters and Irothers. i have a dreaV today. i have a dreaV that one day\\nevery valley shall Ie eNalted, and every hill and VoZntain shall Ie Vade loT, the roZgh WlaEes\\nTill Ie Vade Wlain, and the ErooRed WlaEes Till Ie Vade straight, and the glory of the lord\\nshall Ie revealed and all flesh shall see it together.'"
      ]
     },
     "execution_count": 17,
     "metadata": {},
     "output_type": "execute_result"
    }
   ],
   "source": [
    "data = data.replace('J', 'y')\n",
    "data\n",
    "# todaJ -> today J -> y"
   ]
  },
  {
   "cell_type": "code",
   "execution_count": 18,
   "metadata": {},
   "outputs": [
    {
     "data": {
      "text/plain": [
       "<bound method Counter.most_common of Counter({' ': 288, 'e': 156, 'a': 124, 't': 116, 'i': 97, 'o': 87, 'l': 81, 'h': 75, 'r': 69, 's': 68, 'n': 68, 'd': 63, 'T': 29, 'V': 28, 'f': 27, 'y': 26, 'v': 24, 'I': 24, 'E': 20, 'Z': 18, 'g': 18, '\\n': 16, 'W': 14, '.': 11, ',': 11, '-': 5, 'F': 4, 'R': 4, '\"': 2, ':': 1, 'G': 1, 'N': 1})>"
      ]
     },
     "execution_count": 18,
     "metadata": {},
     "output_type": "execute_result"
    }
   ],
   "source": [
    "Counter(data).most_common"
   ]
  },
  {
   "cell_type": "code",
   "execution_count": 19,
   "metadata": {},
   "outputs": [
    {
     "data": {
      "text/plain": [
       "'let Zs not wallow in the valley of desWair. i say to yoZ today my friends -- so even thoZgh we\\nfaEe the diffiEZlties of today and tomorrow, i still have a dream. it is a dream deeWly rooted\\nin the ameriEan dream. i have a dream that one day this nation will rise ZW and live oZt the trZe\\nmeaning of its Ereed: \"we hold these trZths to Ie self-evident, that all men are Ereated eGZal.\"\\ni have a dream that one day on the red hills of georgia the sons of former slaves and the sons\\nof former slave owners will Ie aIle to sit down together at the taIle of Irotherhood. i have a\\ndream that one day even the state of mississiWWi, a state sweltering with the heat of inFZstiEe,\\nsweltering with the heat of oWWression, will Ie transformed into an oasis of freedom and\\nFZstiEe. i have a dream that my foZr little Ehildren will one day live in a nation where they will\\nnot Ie FZdged Iy the Eolor of their sRin IZt Iy the Eontent of their EharaEter. i have a dream\\ntoday. i have a dream that one day down in alaIama, with its viEioZs raEists, with its governor\\nhaving his liWs driWWing with the words of interWosition and nZllifiEation -- one day right\\nthere in alaIama little IlaER Ioys and IlaER girls will Ie aIle to Foin hands with little white\\nIoys and white girls as sisters and Irothers. i have a dream today. i have a dream that one day\\nevery valley shall Ie eNalted, and every hill and moZntain shall Ie made low, the roZgh WlaEes\\nwill Ie made Wlain, and the ErooRed WlaEes will Ie made straight, and the glory of the lord\\nshall Ie revealed and all flesh shall see it together.'"
      ]
     },
     "execution_count": 19,
     "metadata": {},
     "output_type": "execute_result"
    }
   ],
   "source": [
    "data = data.replace('V', 'm')\n",
    "data = data.replace('T', 'w')\n",
    "# today and toVorroT -> tommorow  V->m, T->w\n",
    "data"
   ]
  },
  {
   "cell_type": "code",
   "execution_count": 20,
   "metadata": {},
   "outputs": [
    {
     "data": {
      "text/plain": [
       "'let us not wallow in the valley of desWair. i say to you today my friends -- so even though we\\nfaEe the diffiEulties of today and tomorrow, i still have a dream. it is a dream deeWly rooted\\nin the ameriEan dream. i have a dream that one day this nation will rise uW and live out the true\\nmeaning of its Ereed: \"we hold these truths to Ie self-evident, that all men are Ereated eGual.\"\\ni have a dream that one day on the red hills of georgia the sons of former slaves and the sons\\nof former slave owners will Ie aIle to sit down together at the taIle of Irotherhood. i have a\\ndream that one day even the state of mississiWWi, a state sweltering with the heat of inFustiEe,\\nsweltering with the heat of oWWression, will Ie transformed into an oasis of freedom and\\nFustiEe. i have a dream that my four little Ehildren will one day live in a nation where they will\\nnot Ie Fudged Iy the Eolor of their sRin Iut Iy the Eontent of their EharaEter. i have a dream\\ntoday. i have a dream that one day down in alaIama, with its viEious raEists, with its governor\\nhaving his liWs driWWing with the words of interWosition and nullifiEation -- one day right\\nthere in alaIama little IlaER Ioys and IlaER girls will Ie aIle to Foin hands with little white\\nIoys and white girls as sisters and Irothers. i have a dream today. i have a dream that one day\\nevery valley shall Ie eNalted, and every hill and mountain shall Ie made low, the rough WlaEes\\nwill Ie made Wlain, and the ErooRed WlaEes will Ie made straight, and the glory of the lord\\nshall Ie revealed and all flesh shall see it together.'"
      ]
     },
     "execution_count": 20,
     "metadata": {},
     "output_type": "execute_result"
    }
   ],
   "source": [
    "data = data.replace('Z', 'u')\n",
    "data\n",
    "# i say to yoZ today my friends thoZgh Z->u"
   ]
  },
  {
   "cell_type": "code",
   "execution_count": 21,
   "metadata": {},
   "outputs": [
    {
     "data": {
      "text/plain": [
       "'let us not wallow in the valley of desWair. i say to you today my friends -- so even though we\\nface the difficulties of today and tomorrow, i still have a dream. it is a dream deeWly rooted\\nin the american dream. i have a dream that one day this nation will rise uW and live out the true\\nmeaning of its creed: \"we hold these truths to Ie self-evident, that all men are created eGual.\"\\ni have a dream that one day on the red hills of georgia the sons of former slaves and the sons\\nof former slave owners will Ie aIle to sit down together at the taIle of Irotherhood. i have a\\ndream that one day even the state of mississiWWi, a state sweltering with the heat of inFustice,\\nsweltering with the heat of oWWression, will Ie transformed into an oasis of freedom and\\nFustice. i have a dream that my four little children will one day live in a nation where they will\\nnot Ie Fudged Iy the color of their sRin Iut Iy the content of their character. i have a dream\\ntoday. i have a dream that one day down in alaIama, with its vicious racists, with its governor\\nhaving his liWs driWWing with the words of interWosition and nullification -- one day right\\nthere in alaIama little IlacR Ioys and IlacR girls will Ie aIle to Foin hands with little white\\nIoys and white girls as sisters and Irothers. i have a dream today. i have a dream that one day\\nevery valley shall Ie eNalted, and every hill and mountain shall Ie made low, the rough Wlaces\\nwill Ie made Wlain, and the crooRed Wlaces will Ie made straight, and the glory of the lord\\nshall Ie revealed and all flesh shall see it together.'"
      ]
     },
     "execution_count": 21,
     "metadata": {},
     "output_type": "execute_result"
    }
   ],
   "source": [
    "data = data.replace('E', 'c')\n",
    "data\n",
    "# diffiEulties E->c"
   ]
  },
  {
   "cell_type": "code",
   "execution_count": 22,
   "metadata": {},
   "outputs": [
    {
     "data": {
      "text/plain": [
       "<bound method Counter.most_common of Counter({' ': 288, 'e': 156, 'a': 124, 't': 116, 'i': 97, 'o': 87, 'l': 81, 'h': 75, 'r': 69, 's': 68, 'n': 68, 'd': 63, 'w': 29, 'm': 28, 'f': 27, 'y': 26, 'v': 24, 'I': 24, 'c': 20, 'u': 18, 'g': 18, '\\n': 16, 'W': 14, '.': 11, ',': 11, '-': 5, 'F': 4, 'R': 4, '\"': 2, ':': 1, 'G': 1, 'N': 1})>"
      ]
     },
     "execution_count": 22,
     "metadata": {},
     "output_type": "execute_result"
    }
   ],
   "source": [
    "Counter(data).most_common"
   ]
  },
  {
   "cell_type": "code",
   "execution_count": 23,
   "metadata": {},
   "outputs": [
    {
     "data": {
      "text/plain": [
       "'let us not wallow in the valley of despair. i say to you today my friends -- so even though we\\nface the difficulties of today and tomorrow, i still have a dream. it is a dream deeply rooted\\nin the american dream. i have a dream that one day this nation will rise up and live out the true\\nmeaning of its creed: \"we hold these truths to Ie self-evident, that all men are created eGual.\"\\ni have a dream that one day on the red hills of georgia the sons of former slaves and the sons\\nof former slave owners will Ie aIle to sit down together at the taIle of Irotherhood. i have a\\ndream that one day even the state of mississippi, a state sweltering with the heat of inFustice,\\nsweltering with the heat of oppression, will Ie transformed into an oasis of freedom and\\nFustice. i have a dream that my four little children will one day live in a nation where they will\\nnot Ie Fudged Iy the color of their sRin Iut Iy the content of their character. i have a dream\\ntoday. i have a dream that one day down in alaIama, with its vicious racists, with its governor\\nhaving his lips dripping with the words of interposition and nullification -- one day right\\nthere in alaIama little IlacR Ioys and IlacR girls will Ie aIle to Foin hands with little white\\nIoys and white girls as sisters and Irothers. i have a dream today. i have a dream that one day\\nevery valley shall Ie eNalted, and every hill and mountain shall Ie made low, the rough places\\nwill Ie made plain, and the crooRed places will Ie made straight, and the glory of the lord\\nshall Ie revealed and all flesh shall see it together.'"
      ]
     },
     "execution_count": 23,
     "metadata": {},
     "output_type": "execute_result"
    }
   ],
   "source": [
    "data = data.replace('W', 'p')\n",
    "data\n",
    "# state of mississiWWi W -> p"
   ]
  },
  {
   "cell_type": "code",
   "execution_count": 24,
   "metadata": {},
   "outputs": [
    {
     "data": {
      "text/plain": [
       "'let us not wallow in the valley of despair. i say to you today my friends -- so even though we\\nface the difficulties of today and tomorrow, i still have a dream. it is a dream deeply rooted\\nin the american dream. i have a dream that one day this nation will rise up and live out the true\\nmeaning of its creed: \"we hold these truths to be self-evident, that all men are created eGual.\"\\ni have a dream that one day on the red hills of georgia the sons of former slaves and the sons\\nof former slave owners will be able to sit down together at the table of brotherhood. i have a\\ndream that one day even the state of mississippi, a state sweltering with the heat of inFustice,\\nsweltering with the heat of oppression, will be transformed into an oasis of freedom and\\nFustice. i have a dream that my four little children will one day live in a nation where they will\\nnot be Fudged by the color of their sRin but by the content of their character. i have a dream\\ntoday. i have a dream that one day down in alabama, with its vicious racists, with its governor\\nhaving his lips dripping with the words of interposition and nullification -- one day right\\nthere in alabama little blacR boys and blacR girls will be able to Foin hands with little white\\nboys and white girls as sisters and brothers. i have a dream today. i have a dream that one day\\nevery valley shall be eNalted, and every hill and mountain shall be made low, the rough places\\nwill be made plain, and the crooRed places will be made straight, and the glory of the lord\\nshall be revealed and all flesh shall see it together.'"
      ]
     },
     "execution_count": 24,
     "metadata": {},
     "output_type": "execute_result"
    }
   ],
   "source": [
    "data = data.replace('I', 'b')\n",
    "data\n",
    "# Ie aIle to / be able to I -> b"
   ]
  },
  {
   "cell_type": "code",
   "execution_count": 25,
   "metadata": {},
   "outputs": [
    {
     "data": {
      "text/plain": [
       "<bound method Counter.most_common of Counter({' ': 288, 'e': 156, 'a': 124, 't': 116, 'i': 97, 'o': 87, 'l': 81, 'h': 75, 'r': 69, 's': 68, 'n': 68, 'd': 63, 'w': 29, 'm': 28, 'f': 27, 'y': 26, 'v': 24, 'b': 24, 'c': 20, 'u': 18, 'g': 18, '\\n': 16, 'p': 14, '.': 11, ',': 11, '-': 5, 'F': 4, 'R': 4, '\"': 2, ':': 1, 'G': 1, 'N': 1})>"
      ]
     },
     "execution_count": 25,
     "metadata": {},
     "output_type": "execute_result"
    }
   ],
   "source": [
    "Counter(data).most_common"
   ]
  },
  {
   "cell_type": "code",
   "execution_count": 26,
   "metadata": {},
   "outputs": [
    {
     "data": {
      "text/plain": [
       "'let us not wallow in the valley of despair. i say to you today my friends -- so even though we\\nface the difficulties of today and tomorrow, i still have a dream. it is a dream deeply rooted\\nin the american dream. i have a dream that one day this nation will rise up and live out the true\\nmeaning of its creed: \"we hold these truths to be self-evident, that all men are created eGual.\"\\ni have a dream that one day on the red hills of georgia the sons of former slaves and the sons\\nof former slave owners will be able to sit down together at the table of brotherhood. i have a\\ndream that one day even the state of mississippi, a state sweltering with the heat of inFustice,\\nsweltering with the heat of oppression, will be transformed into an oasis of freedom and\\nFustice. i have a dream that my four little children will one day live in a nation where they will\\nnot be Fudged by the color of their skin but by the content of their character. i have a dream\\ntoday. i have a dream that one day down in alabama, with its vicious racists, with its governor\\nhaving his lips dripping with the words of interposition and nullification -- one day right\\nthere in alabama little black boys and black girls will be able to Foin hands with little white\\nboys and white girls as sisters and brothers. i have a dream today. i have a dream that one day\\nevery valley shall be eNalted, and every hill and mountain shall be made low, the rough places\\nwill be made plain, and the crooked places will be made straight, and the glory of the lord\\nshall be revealed and all flesh shall see it together.'"
      ]
     },
     "execution_count": 26,
     "metadata": {},
     "output_type": "execute_result"
    }
   ],
   "source": [
    "data = data.replace('R', 'k')\n",
    "data\n",
    "# blacR boys and blacR girls R -> k"
   ]
  },
  {
   "cell_type": "code",
   "execution_count": 27,
   "metadata": {},
   "outputs": [
    {
     "data": {
      "text/plain": [
       "'let us not wallow in the valley of despair. i say to you today my friends -- so even though we\\nface the difficulties of today and tomorrow, i still have a dream. it is a dream deeply rooted\\nin the american dream. i have a dream that one day this nation will rise up and live out the true\\nmeaning of its creed: \"we hold these truths to be self-evident, that all men are created eGual.\"\\ni have a dream that one day on the red hills of georgia the sons of former slaves and the sons\\nof former slave owners will be able to sit down together at the table of brotherhood. i have a\\ndream that one day even the state of mississippi, a state sweltering with the heat of injustice,\\nsweltering with the heat of oppression, will be transformed into an oasis of freedom and\\njustice. i have a dream that my four little children will one day live in a nation where they will\\nnot be judged by the color of their skin but by the content of their character. i have a dream\\ntoday. i have a dream that one day down in alabama, with its vicious racists, with its governor\\nhaving his lips dripping with the words of interposition and nullification -- one day right\\nthere in alabama little black boys and black girls will be able to join hands with little white\\nboys and white girls as sisters and brothers. i have a dream today. i have a dream that one day\\nevery valley shall be eNalted, and every hill and mountain shall be made low, the rough places\\nwill be made plain, and the crooked places will be made straight, and the glory of the lord\\nshall be revealed and all flesh shall see it together.'"
      ]
     },
     "execution_count": 27,
     "metadata": {},
     "output_type": "execute_result"
    }
   ],
   "source": [
    "data = data.replace('F', 'j')\n",
    "data\n",
    "# Foin Fudged Fustice inFustice F -> j"
   ]
  },
  {
   "cell_type": "code",
   "execution_count": 28,
   "metadata": {},
   "outputs": [
    {
     "data": {
      "text/plain": [
       "<bound method Counter.most_common of Counter({' ': 288, 'e': 156, 'a': 124, 't': 116, 'i': 97, 'o': 87, 'l': 81, 'h': 75, 'r': 69, 's': 68, 'n': 68, 'd': 63, 'w': 29, 'm': 28, 'f': 27, 'y': 26, 'v': 24, 'b': 24, 'c': 20, 'u': 18, 'g': 18, '\\n': 16, 'p': 14, '.': 11, ',': 11, '-': 5, 'j': 4, 'k': 4, '\"': 2, ':': 1, 'G': 1, 'N': 1})>"
      ]
     },
     "execution_count": 28,
     "metadata": {},
     "output_type": "execute_result"
    }
   ],
   "source": [
    "Counter(data).most_common"
   ]
  },
  {
   "cell_type": "code",
   "execution_count": 29,
   "metadata": {},
   "outputs": [],
   "source": [
    "data = data.replace('G','q')\n",
    "#eGual G->q"
   ]
  },
  {
   "cell_type": "code",
   "execution_count": 30,
   "metadata": {},
   "outputs": [
    {
     "data": {
      "text/plain": [
       "'let us not wallow in the valley of despair. i say to you today my friends -- so even though we\\nface the difficulties of today and tomorrow, i still have a dream. it is a dream deeply rooted\\nin the american dream. i have a dream that one day this nation will rise up and live out the true\\nmeaning of its creed: \"we hold these truths to be self-evident, that all men are created equal.\"\\ni have a dream that one day on the red hills of georgia the sons of former slaves and the sons\\nof former slave owners will be able to sit down together at the table of brotherhood. i have a\\ndream that one day even the state of mississippi, a state sweltering with the heat of injustice,\\nsweltering with the heat of oppression, will be transformed into an oasis of freedom and\\njustice. i have a dream that my four little children will one day live in a nation where they will\\nnot be judged by the color of their skin but by the content of their character. i have a dream\\ntoday. i have a dream that one day down in alabama, with its vicious racists, with its governor\\nhaving his lips dripping with the words of interposition and nullification -- one day right\\nthere in alabama little black boys and black girls will be able to join hands with little white\\nboys and white girls as sisters and brothers. i have a dream today. i have a dream that one day\\nevery valley shall be exalted, and every hill and mountain shall be made low, the rough places\\nwill be made plain, and the crooked places will be made straight, and the glory of the lord\\nshall be revealed and all flesh shall see it together.'"
      ]
     },
     "execution_count": 30,
     "metadata": {},
     "output_type": "execute_result"
    }
   ],
   "source": [
    "data = data.replace('N','x')\n",
    "#eNalted N->x\n",
    "data"
   ]
  },
  {
   "cell_type": "code",
   "execution_count": 33,
   "metadata": {},
   "outputs": [
    {
     "data": {
      "text/plain": [
       "<bound method Counter.most_common of Counter({' ': 288, 'e': 156, 'a': 124, 't': 116, 'i': 97, 'o': 87, 'l': 81, 'h': 75, 'r': 69, 's': 68, 'n': 68, 'd': 63, 'w': 29, 'm': 28, 'f': 27, 'y': 26, 'v': 24, 'b': 24, 'c': 20, 'u': 18, 'g': 18, '\\n': 16, 'p': 14, '.': 11, ',': 11, '-': 5, 'j': 4, 'k': 4, '\"': 2, ':': 1, 'q': 1, 'x': 1})>"
      ]
     },
     "execution_count": 33,
     "metadata": {},
     "output_type": "execute_result"
    }
   ],
   "source": [
    "Counter(data).most_common"
   ]
  },
  {
   "cell_type": "code",
   "execution_count": 32,
   "metadata": {},
   "outputs": [
    {
     "name": "stdout",
     "output_type": "stream",
     "text": [
      "let us not wallow in the valley of despair. i say to you today my friends -- so even though we\n",
      "face the difficulties of today and tomorrow, i still have a dream. it is a dream deeply rooted\n",
      "in the american dream. i have a dream that one day this nation will rise up and live out the true\n",
      "meaning of its creed: \"we hold these truths to be self-evident, that all men are created equal.\"\n",
      "i have a dream that one day on the red hills of georgia the sons of former slaves and the sons\n",
      "of former slave owners will be able to sit down together at the table of brotherhood. i have a\n",
      "dream that one day even the state of mississippi, a state sweltering with the heat of injustice,\n",
      "sweltering with the heat of oppression, will be transformed into an oasis of freedom and\n",
      "justice. i have a dream that my four little children will one day live in a nation where they will\n",
      "not be judged by the color of their skin but by the content of their character. i have a dream\n",
      "today. i have a dream that one day down in alabama, with its vicious racists, with its governor\n",
      "having his lips dripping with the words of interposition and nullification -- one day right\n",
      "there in alabama little black boys and black girls will be able to join hands with little white\n",
      "boys and white girls as sisters and brothers. i have a dream today. i have a dream that one day\n",
      "every valley shall be exalted, and every hill and mountain shall be made low, the rough places\n",
      "will be made plain, and the crooked places will be made straight, and the glory of the lord\n",
      "shall be revealed and all flesh shall see it together.\n"
     ]
    }
   ],
   "source": [
    "print(data)\n",
    "# Martin Luther King, Jr. I Have a Dream"
   ]
  },
  {
   "cell_type": "markdown",
   "metadata": {},
   "source": [
    "| A \t| B \t| C \t| D \t| E \t| F \t| G \t| H \t| I \t| J \t| K \t| L \t| M \t| N \t| O \t|\n",
    "|:-:\t|:-:\t|:-:\t|:-:\t|:-:\t|---\t|---\t|---\t|---\t|---\t|---\t|---\t|---\t|---\t|---\t|\n",
    "| l \t| n \t| v \t| g \t| c \t| j \t| q \t| a \t| b \t| y \t| i \t| d \t| o \t| x \t| h \t|\n",
    "\n",
    "| P \t| Q \t| R \t| S \t| T \t| U \t| V \t| W \t| X \t| Y \t| Z \t|\n",
    "|---\t|---\t|---\t|---\t|---\t|---\t|---\t|---\t|---\t|---\t|---\t|\n",
    "| e \t| f \t| k \t| t \t| w \t| s \t| m \t| p \t| r \t| z \t| u \t|"
   ]
  },
  {
   "cell_type": "markdown",
   "metadata": {},
   "source": [
    "https://github.com/greydanus/crypto-rnn\n",
    "을 활용하려고 했는데 잘 안돼서 수작업으로 했습니다."
   ]
  }
 ],
 "metadata": {
  "kernelspec": {
   "display_name": "me",
   "language": "python",
   "name": "me"
  },
  "language_info": {
   "codemirror_mode": {
    "name": "ipython",
    "version": 3
   },
   "file_extension": ".py",
   "mimetype": "text/x-python",
   "name": "python",
   "nbconvert_exporter": "python",
   "pygments_lexer": "ipython3",
   "version": "3.6.6"
  }
 },
 "nbformat": 4,
 "nbformat_minor": 2
}
