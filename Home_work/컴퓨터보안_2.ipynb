{
 "cells": [
  {
   "cell_type": "code",
   "execution_count": 1,
   "metadata": {},
   "outputs": [],
   "source": [
    "n = 3174654383 \n",
    "e = 65537\n",
    "C = 2487688703\n",
    "# M ?"
   ]
  },
  {
   "cell_type": "code",
   "execution_count": 2,
   "metadata": {},
   "outputs": [
    {
     "name": "stdout",
     "output_type": "stream",
     "text": [
      "56344.07140951033\n"
     ]
    }
   ],
   "source": [
    "import math\n",
    "print (math.sqrt(n))"
   ]
  },
  {
   "cell_type": "code",
   "execution_count": 3,
   "metadata": {},
   "outputs": [
    {
     "data": {
      "text/plain": [
       "8048"
      ]
     },
     "execution_count": 3,
     "metadata": {},
     "output_type": "execute_result"
    }
   ],
   "source": [
    "t = 56343\n",
    "n % t"
   ]
  },
  {
   "cell_type": "code",
   "execution_count": 4,
   "metadata": {},
   "outputs": [
    {
     "name": "stdout",
     "output_type": "stream",
     "text": [
      "52673 0\n",
      "1 0\n"
     ]
    }
   ],
   "source": [
    "for t in range(t, 0, -2):\n",
    "    if(n % t == 0):\n",
    "        print (t, n%t)"
   ]
  },
  {
   "cell_type": "code",
   "execution_count": 5,
   "metadata": {},
   "outputs": [],
   "source": [
    "p = 52673"
   ]
  },
  {
   "cell_type": "code",
   "execution_count": 6,
   "metadata": {},
   "outputs": [
    {
     "data": {
      "text/plain": [
       "60271.0"
      ]
     },
     "execution_count": 6,
     "metadata": {},
     "output_type": "execute_result"
    }
   ],
   "source": [
    "q = n / p\n",
    "q"
   ]
  },
  {
   "cell_type": "code",
   "execution_count": 7,
   "metadata": {},
   "outputs": [],
   "source": [
    "q = int(q)"
   ]
  },
  {
   "cell_type": "code",
   "execution_count": 8,
   "metadata": {},
   "outputs": [
    {
     "name": "stdout",
     "output_type": "stream",
     "text": [
      "52673\n",
      "60271\n"
     ]
    }
   ],
   "source": [
    "print(p)\n",
    "print(q)"
   ]
  },
  {
   "cell_type": "code",
   "execution_count": 9,
   "metadata": {},
   "outputs": [],
   "source": [
    "e = 65537\n",
    "pq = (p-1)*(q-1)"
   ]
  },
  {
   "cell_type": "code",
   "execution_count": 10,
   "metadata": {},
   "outputs": [
    {
     "data": {
      "text/plain": [
       "801567233"
      ]
     },
     "execution_count": 10,
     "metadata": {},
     "output_type": "execute_result"
    }
   ],
   "source": [
    "def egcd(a, b):\n",
    "    if a == 0:\n",
    "        return (b, 0, 1)\n",
    "    g, y, x = egcd(b%a,a)\n",
    "    return (g, x - (b//a) * y, y)\n",
    "\n",
    "_, temp, _ = egcd(e, pq)\n",
    "\n",
    "d = temp % pq\n",
    "d"
   ]
  },
  {
   "cell_type": "code",
   "execution_count": 12,
   "metadata": {},
   "outputs": [
    {
     "data": {
      "text/plain": [
       "1198485348"
      ]
     },
     "execution_count": 12,
     "metadata": {},
     "output_type": "execute_result"
    }
   ],
   "source": [
    "#M = C^d mod N\n",
    "C = 2487688703\n",
    "M = pow(C, d, n) \n",
    "M"
   ]
  },
  {
   "cell_type": "markdown",
   "metadata": {},
   "source": [
    "############################################################\n",
    "\n",
    "p = 52673\n",
    "\n",
    "q = 60271\n",
    "\n",
    "d = 801567233\n",
    "\n",
    "M = 1198485348\n"
   ]
  },
  {
   "cell_type": "code",
   "execution_count": 13,
   "metadata": {},
   "outputs": [],
   "source": [
    "def minIndex(a, i, j): \n",
    "    if i == j: \n",
    "        return I\n",
    "    k = minIndex(a, i + 1, j) \n",
    "    return (i if a[i] < a[k] else k) \n",
    "      \n",
    "\n",
    "def recursiveSelectionSort(a, n, index = 0): \n",
    "    if index == n: \n",
    "        return -1\n",
    "    k = minIndex(a, index, n-1) \n",
    "    \n",
    "    if k != index: \n",
    "        a[k], a[index] = a[index], a[k] \n",
    "    recursiveSelectionSort(a, n, index + 1) "
   ]
  },
  {
   "cell_type": "code",
   "execution_count": 27,
   "metadata": {},
   "outputs": [],
   "source": [
    "def bubble_sort(a, first, last):\n",
    "    if first < last and last > 0:\n",
    "        if a[first] > a[first+1]:\n",
    "            a[first], a[first+1] = a[first+1], a[first]\n",
    "        \n",
    "        bubble_sort(a, first+1, last)\n",
    "        bubble_sort(a, first, last-1)\n",
    "    \n",
    "    else:\n",
    "        pass\n"
   ]
  },
  {
   "cell_type": "code",
   "execution_count": 28,
   "metadata": {},
   "outputs": [],
   "source": [
    "a=[2,1,5,4,3]\n",
    "first = 0\n",
    "last = 4\n",
    "bubble_sort(a, first, last)"
   ]
  },
  {
   "cell_type": "code",
   "execution_count": 29,
   "metadata": {},
   "outputs": [
    {
     "data": {
      "text/plain": [
       "[1, 2, 3, 4, 5]"
      ]
     },
     "execution_count": 29,
     "metadata": {},
     "output_type": "execute_result"
    }
   ],
   "source": [
    "a"
   ]
  },
  {
   "cell_type": "code",
   "execution_count": 38,
   "metadata": {},
   "outputs": [],
   "source": [
    "def minIndex(a, i, j): \n",
    "    if i == j: \n",
    "        return i\n",
    "    k = minIndex(a, i + 1, j) \n",
    "    return (i if a[i] < a[k] else k) \n",
    "      \n",
    "\n",
    "def recursiveSelectionSort(a, n, index = 0): \n",
    "    if index == n: \n",
    "        return -1\n",
    "    k = minIndex(a, index, n-1) \n",
    "\n",
    "    if k != index: \n",
    "        a[k], a[index] = a[index], a[k] \n",
    "    recursiveSelectionSort(a, n, index + 1) "
   ]
  },
  {
   "cell_type": "code",
   "execution_count": 39,
   "metadata": {},
   "outputs": [
    {
     "data": {
      "text/plain": [
       "[0, 1, 2, 3, 5, 7]"
      ]
     },
     "execution_count": 39,
     "metadata": {},
     "output_type": "execute_result"
    }
   ],
   "source": [
    "arr = [3, 1, 5, 2, 7, 0] \n",
    "n = len(arr) \n",
    "  \n",
    "# Calling function \n",
    "recursiveSelectionSort(arr, n)\n",
    "arr"
   ]
  },
  {
   "cell_type": "code",
   "execution_count": 40,
   "metadata": {},
   "outputs": [],
   "source": [
    "def bubble_sort(elements):\n",
    "    if not elements:\n",
    "        return []\n",
    "    large = max(elements)\n",
    "    elements.remove(large)\n",
    "    return bubble_sort(elements) + [large]"
   ]
  },
  {
   "cell_type": "code",
   "execution_count": 41,
   "metadata": {},
   "outputs": [],
   "source": [
    "a = bubble_sort([3, 1, 5, 2, 7, 0] )"
   ]
  },
  {
   "cell_type": "code",
   "execution_count": 42,
   "metadata": {},
   "outputs": [
    {
     "data": {
      "text/plain": [
       "[0, 1, 2, 3, 5, 7]"
      ]
     },
     "execution_count": 42,
     "metadata": {},
     "output_type": "execute_result"
    }
   ],
   "source": [
    "a"
   ]
  },
  {
   "cell_type": "code",
   "execution_count": null,
   "metadata": {},
   "outputs": [],
   "source": []
  }
 ],
 "metadata": {
  "kernelspec": {
   "display_name": "me",
   "language": "python",
   "name": "me"
  },
  "language_info": {
   "codemirror_mode": {
    "name": "ipython",
    "version": 3
   },
   "file_extension": ".py",
   "mimetype": "text/x-python",
   "name": "python",
   "nbconvert_exporter": "python",
   "pygments_lexer": "ipython3",
   "version": "3.6.6"
  }
 },
 "nbformat": 4,
 "nbformat_minor": 2
}
