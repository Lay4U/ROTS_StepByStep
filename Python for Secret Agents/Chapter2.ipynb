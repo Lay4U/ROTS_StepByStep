{
 "cells": [
  {
   "cell_type": "code",
   "execution_count": 1,
   "metadata": {},
   "outputs": [
    {
     "name": "stdout",
     "output_type": "stream",
     "text": [
      "Status: 301\n",
      "Headers: [('Date', 'Sun, 13 Jan 2019 20:05:25 GMT'), ('Server', 'Varnish'), ('X-Varnish', '934880448'), ('X-Cache', 'cp5002 int'), ('X-Cache-Status', 'int-front'), ('Server-Timing', 'cache;desc=\"int-front\"'), ('Set-Cookie', 'WMF-Last-Access=13-Jan-2019;Path=/;HttpOnly;secure;Expires=Thu, 14 Feb 2019 12:00:00 GMT'), ('X-Client-IP', '125.132.125.6'), ('Location', 'https://upload.wikimedia.org/wikipedia/commons/7/72/IPhone_Internals.jpg'), ('Content-Length', '0'), ('Connection', 'keep-alive')]\n",
      "Writing: IPhone_Internals.jpg\n",
      "Status: 301\n",
      "Headers: [('Date', 'Sun, 13 Jan 2019 20:05:26 GMT'), ('Server', 'Varnish'), ('X-Varnish', '929423932'), ('X-Cache', 'cp5002 int'), ('X-Cache-Status', 'int-front'), ('Server-Timing', 'cache;desc=\"int-front\"'), ('Set-Cookie', 'WMF-Last-Access=13-Jan-2019;Path=/;HttpOnly;secure;Expires=Thu, 14 Feb 2019 12:00:00 GMT'), ('X-Client-IP', '125.132.125.6'), ('Location', 'https://upload.wikimedia.org/wikipedia/en/c/c1/1drachmi_1973.jpg'), ('Content-Length', '0'), ('Connection', 'keep-alive')]\n",
      "Writing: 1drachmi_1973.jpg\n"
     ]
    }
   ],
   "source": [
    "import http.client\n",
    "import contextlib\n",
    "\n",
    "path_list = [\n",
    "    \"/wikipedia/commons/7/72/IPhone_Internals.jpg\",\n",
    "    \"/wikipedia/en/c/c1/1drachmi_1973.jpg\"\n",
    "]\n",
    "host = \"upload.wikimedia.org\"\n",
    "\n",
    "with contextlib.closing(http.client.HTTPConnection(host)) as connection:\n",
    "    for path in path_list:\n",
    "        connection.request(\"GET\", path)\n",
    "        response = connection.getresponse()\n",
    "        print(\"Status:\", response.status)\n",
    "        print(\"Headers:\", response.getheaders())\n",
    "        _, _, filename = path.rpartition(\"/\")\n",
    "        print(\"Writing:\", filename)\n",
    "        with open(filename, \"wb\") as image:\n",
    "            image.write(response.read())"
   ]
  },
  {
   "cell_type": "code",
   "execution_count": 2,
   "metadata": {},
   "outputs": [
    {
     "name": "stdout",
     "output_type": "stream",
     "text": [
      "Welcome 220 ProFTPD Server\n",
      ". cdir None\n",
      ".. pdir None\n",
      "1 dir None\n",
      "2 dir None\n",
      "3 dir None\n",
      "4 dir None\n",
      "5 dir None\n",
      "6 dir None\n",
      "7 dir None\n",
      "8 dir None\n",
      "9 dir None\n",
      "etext00 dir None\n",
      "etext01 dir None\n",
      "etext02 dir None\n",
      "etext03 dir None\n",
      "etext04 dir None\n",
      "etext05 dir None\n",
      "etext06 dir None\n",
      "ls-R file 28890476\n",
      "robots.txt file 1876\n",
      "ls-lR file 134884345\n",
      "0 dir None\n",
      "donate-howto.txt file 132\n",
      "GUTINDEX.2017 file 319872\n",
      "gutensite dir None\n",
      "GUTINDEX.2018 file 297865\n",
      "GUTINDEX.2019 file 13634\n",
      "GUTINDEX.ALL file 7127694\n",
      "GUTINDEX.2013 file 362747\n",
      "GUTINDEX.AUS file 708032\n",
      "GUTINDEX.zip file 2047761\n",
      "GUTINDEX.2015 file 396426\n",
      "README file 747\n",
      "etext90 dir None\n",
      "etext91 dir None\n",
      "etext92 dir None\n",
      "etext93 dir None\n",
      "etext94 dir None\n",
      "etext95 dir None\n",
      "etext96 dir None\n",
      "etext97 dir None\n",
      "etext98 dir None\n",
      "etext99 dir None\n",
      "images dir None\n",
      "pg dir None\n",
      "gutenberg.dcs file 9\n",
      "hosted_by_ibiblio.png file 1684\n",
      "GUTINDEX.2014 file 422008\n",
      "ls-lR.gz file 18353387\n",
      "GUTINDEX.1996 file 74658\n",
      "GUTINDEX.2016 file 391232\n",
      ".notes file 56\n",
      "cache dir None\n",
      "GUTINDEX.1997 file 40633\n",
      "GUTINDEX.1998 file 69088\n",
      "GUTINDEX.1999 file 54721\n",
      "GUTINDEX.2000 file 78085\n",
      "GUTINDEX.2001 file 122367\n",
      "GUTINDEX.2002 file 223830\n",
      "GUTINDEX.2003 file 413042\n",
      "GUTINDEX.2004 file 501038\n",
      "GUTINDEX.2005 file 397007\n",
      "GUTINDEX.2006 file 368186\n",
      "GUTINDEX.2007 file 467937\n",
      "GUTINDEX.2008 file 445272\n",
      "GUTINDEX.2009 file 407308\n",
      "GUTINDEX.2010 file 498444\n",
      "GUTINDEX.2011 file 456196\n",
      "GUTINDEX.2012 file 412312\n",
      "du-sk.cache file 12\n",
      "du-sk.static file 12\n",
      "favicon.ico file 4286\n"
     ]
    }
   ],
   "source": [
    "import ftplib\n",
    "\n",
    "host = \"ftp.ibiblio.org\"\n",
    "root = \"/pub/docs/books/gutenberg/\"\n",
    "\n",
    "def directory_list(path):\n",
    "    with ftplib.FTP(host, user=\"anonymous\") as connection:\n",
    "        print(\"Welcome\", connection.getwelcome())\n",
    "        for name, details in connection.mlsd(path):\n",
    "            print(name, details['type'], details.get('size'))\n",
    "directory_list(root)\n",
    "            "
   ]
  },
  {
   "cell_type": "code",
   "execution_count": 3,
   "metadata": {},
   "outputs": [],
   "source": [
    "import sys\n",
    "def get(fullname, output=sys.stdout):\n",
    "    download = 0\n",
    "    expected=0\n",
    "    dots=0\n",
    "    def line_save(aLine):\n",
    "        nonlocal download, expected, dots\n",
    "        print(aLine, file=output)\n",
    "        if output != sys.stdout:\n",
    "            download += len(aLine)\n",
    "            show = (20*download)//expected\n",
    "            if show > dots:\n",
    "                print(\"-\", end=\"\", file=sys.stdout)\n",
    "                sys.stdout.flush()\n",
    "                dots=show\n",
    "    with ftplib.FTP( host, user=\"anonymous\") as connection:\n",
    "        print(\"Welcome\", connection.getwelcome())\n",
    "        expected = connection.size(fullname)\n",
    "        print(\"Getting\", fullname, \"to\", output, \"size\", expected)\n",
    "        connection.retrlines(\"RETR {0}\".format(fullname), line_save)\n",
    "    if output != sys.stdout:\n",
    "        print()\n",
    "        "
   ]
  },
  {
   "cell_type": "code",
   "execution_count": 4,
   "metadata": {},
   "outputs": [
    {
     "name": "stdout",
     "output_type": "stream",
     "text": [
      "Welcome 220 ProFTPD Server\n",
      "Getting /pub/docs/books/gutenberg/README to <ipykernel.iostream.OutStream object at 0x000002B73BEECC88> size 747\n",
      "This is the top level directory for Project Gutenberg eBooks.  If\n",
      "you are having trouble figuring out what to do, or how to find an\n",
      "eBook, you should probably visit this Web page:\n",
      "\n",
      "        https://www.gutenberg.org or\n",
      "\thttp://www.gutenberg.org\n",
      "\n",
      "You can also read the GUTINDEX.ALL file in this directory for an\n",
      "explanation of file names, a listing of all eBooks, and instructions\n",
      "for finding them.\n",
      "\n",
      "All eBooks are arranged by eBook number, with a unique subdirectory\n",
      "based on that eBook number (starting with numbers 1-9).  To get to the\n",
      "files for a particular eBook, you need to \"drill down\" a few\n",
      "subdirectory levels.  For example, eBook #11 is in this subdirectory:\n",
      "\n",
      "        1/11\n",
      "\n",
      "and eBook #12714 is in this subdirectory:\n",
      "        1/2/7/1/12714\n"
     ]
    }
   ],
   "source": [
    "get(root+\"README\")"
   ]
  },
  {
   "cell_type": "code",
   "execution_count": 5,
   "metadata": {},
   "outputs": [
    {
     "name": "stdout",
     "output_type": "stream",
     "text": [
      "Welcome 220 ProFTPD Server\n",
      "Getting /pub/docs/books/gutenberg/GUTINDEX.ALL to <_io.TextIOWrapper name='GUTINDEX.ALL' mode='w' encoding='UTF-8'> size 7127694\n",
      "-------------------\n"
     ]
    }
   ],
   "source": [
    "with open(\"GUTINDEX.ALL\", \"w\", encoding=\"UTF-8\") as output:\n",
    "    get(root+\"GUTINDEX.ALL\", output)"
   ]
  },
  {
   "cell_type": "code",
   "execution_count": 6,
   "metadata": {},
   "outputs": [
    {
     "name": "stdout",
     "output_type": "stream",
     "text": [
      "Welcome 220 ProFTPD Server\n",
      ". cdir None\n",
      ".. pdir None\n",
      "35830-images.zip file 12372240\n",
      "35830-readme.txt file 856\n",
      "35830.txt file 13516898\n",
      "35830.zip file 3324096\n",
      "flags dir None\n",
      "maps dir None\n",
      "refmaps dir None\n"
     ]
    }
   ],
   "source": [
    "directory_list( root+\"3/5/8/3/35830/\")"
   ]
  },
  {
   "cell_type": "code",
   "execution_count": 7,
   "metadata": {},
   "outputs": [
    {
     "name": "stdout",
     "output_type": "stream",
     "text": [
      "Welcome 220 ProFTPD Server\n",
      "Getting /pub/docs/books/gutenberg/3/5/8/3/35830/35830.txt to <_io.TextIOWrapper name='35830.txt' mode='w' encoding='UTF-8'> size 13516898\n",
      "------------------\n"
     ]
    }
   ],
   "source": [
    "with open(\"35830.txt\", \"w\", encoding=\"UTF-8\") as output:\n",
    "    get(root+\"3/5/8/3/35830/\"+\"35830.txt\", output)"
   ]
  },
  {
   "cell_type": "code",
   "execution_count": 8,
   "metadata": {},
   "outputs": [
    {
     "name": "stdout",
     "output_type": "stream",
     "text": [
      "Status: 200\n",
      "Writing: IPhone_Internals.jpg\n",
      "Status: 200\n",
      "Writing: Common_face_of_one_euro_coin.jpg\n"
     ]
    }
   ],
   "source": [
    "import urllib.request\n",
    "\n",
    "url_list = [\n",
    "    \"http://upload.wikimedia.org/wikipedia/commons/7/72/IPhone_Internals.jpg\",\n",
    "    \"http://upload.wikimedia.org/wikipedia/en/2/26/Common_face_of_one_euro_coin.jpg\"\n",
    "    ,\n",
    "]\n",
    "\n",
    "for url in url_list:\n",
    "    with urllib.request.urlopen(url) as response:\n",
    "        print(\"Status:\", response.status)\n",
    "        _, _, filename = response.geturl().rpartition(\"/\")\n",
    "        print(\"Writing:\", filename)\n",
    "        with open(filename, \"wb\") as image:\n",
    "            image.write(response.read())\n"
   ]
  },
  {
   "cell_type": "code",
   "execution_count": 9,
   "metadata": {},
   "outputs": [
    {
     "name": "stdout",
     "output_type": "stream",
     "text": [
      "This is the top level directory for Project Gutenberg eBooks.  If\n",
      "you are having trouble figuring out what to do, or how to find an\n",
      "eBook, you should probably visit this Web page:\n",
      "\n",
      "        https://www.gutenberg.org or\n",
      "\thttp://www.gutenberg.org\n",
      "\n",
      "You can also read the GUTINDEX.ALL file in this directory for an\n",
      "explanation of file names, a listing of all eBooks, and instructions\n",
      "for finding them.\n",
      "\n",
      "All eBooks are arranged by eBook number, with a unique subdirectory\n",
      "based on that eBook number (starting with numbers 1-9).  To get to the\n",
      "files for a particular eBook, you need to \"drill down\" a few\n",
      "subdirectory levels.  For example, eBook #11 is in this subdirectory:\n",
      "\n",
      "        1/11\n",
      "\n",
      "and eBook #12714 is in this subdirectory:\n",
      "        1/2/7/1/12714\n"
     ]
    }
   ],
   "source": [
    "import sys\n",
    "import urllib.request\n",
    "readme=\"ftp://ftp.ibiblio.org/pub/docs/books/gutenberg/README\"\n",
    "with urllib.request.urlopen(readme) as response:\n",
    "    sys.stdout.write(response.read().decode(\"ascii\"))"
   ]
  },
  {
   "cell_type": "code",
   "execution_count": 10,
   "metadata": {},
   "outputs": [],
   "source": [
    "local=\"file:///Users/Mir/Python/RTOS/Python for Secret Agents/tweet.txt\""
   ]
  },
  {
   "cell_type": "code",
   "execution_count": 14,
   "metadata": {},
   "outputs": [
    {
     "name": "stdout",
     "output_type": "stream",
     "text": [
      "[('Date', 'Sun, 13 Jan 2019 20:15:09 GMT'), ('Content-Type', 'application/json; charset=utf-8'), ('Transfer-Encoding', 'chunked'), ('Connection', 'close'), ('Set-Cookie', '__cfduid=d8ef75929de2736b43e4aecba4da5ff191547410508; expires=Mon, 13-Jan-20 20:15:08 GMT; path=/; domain=.coinbase.com; HttpOnly'), ('Cache-Control', 'public, s-maxage=86400, max-age=86400'), ('content-disposition', 'attachment; filename=response.json'), ('Content-Security-Policy', \"default-src 'self' https://www.coinbase.com; child-src 'self' https://www.coinbase.com https://fast.wistia.net https://*.online-metrix.net https://*.wpstn.com https://netverify.com https://platform.twitter.com https://www.google.com/recaptcha/ https://cdn.plaid.com/link/ https://*.doubleclick.net/ blob: https://coinbase.ada.support; connect-src 'self' https://www.coinbase.com https://api.coinbase.com https://api.mixpanel.com https://*.online-metrix.net https://api.cloudinary.com https://ott9.wpstn.com/live https://api.amplitude.com/ https://d3907m2cqladbn.cloudfront.net/ https://exceptions.coinbase.com static.coinbase.com wss://ws.coinbase.com wss://ws.coinbase.com:443 https://www.coinbase.com/api https://coinbase.ada.support/api/; font-src 'self' https://www.coinbase.com https://assets.coinbase.com/ static.coinbase.com; img-src 'self' data: https://www.coinbase.com https://images.coinbase.com https://d3907m2cqladbn.cloudfront.net/ https://static-assets.coinbase.com/ https://dynamic-assets.coinbase.com https://exceptions.coinbase.com https://coinbase-uploads.s3.amazonaws.com https://s3.amazonaws.com/app-public/ https://maps.gstatic.com https://ssl.google-analytics.com https://www.google.com https://maps.googleapis.com https://csi.gstatic.com https://www.google-analytics.com https://res.cloudinary.com https://secure.gravatar.com https://i2.wp.com https://*.online-metrix.net https://assets.coinbase.com/ https://hexagon-analytics.com https://api.mixpanel.com https://cb-brand.s3.amazonaws.com https://googleads.g.doubleclick.net https://stats.g.doubleclick.net/r/collect blob: static.coinbase.com https://d124s1zbdqkqqe.cloudfront.net https://www.facebook.com/tr; media-src 'self' https://www.coinbase.com blob:; object-src 'self' data: blob: https://www.coinbase.com https://cdn.siftscience.com https://*.online-metrix.net https://www.gstatic.com https://www.google.com/recaptcha/api/; script-src 'self' 'unsafe-inline' 'unsafe-eval' https://www.coinbase.com https://fast.wistia.com/assets/external/E-v1.js https://cdn.siftscience.com https://*.newrelic.com https://bam.nr-data.net https://*.google-analytics.com https://www.google.com https://www.gstatic.com https://*.online-metrix.net https://code.jquery.com https://chart.googleapis.com https://maps.googleapis.com https://maps.gstatic.com https://netverify.com https://ajax.cloudflare.com https://cdn.plaid.com/link/v2/stable/ https://www.googletagmanager.com/gtag/js https://www.googletagmanager.com/gtm.js https://www.googleadservices.com https://googleads.g.doubleclick.net https://assets.coinbase.com/ static.coinbase.com; style-src 'self' 'unsafe-inline' https://www.coinbase.com https://assets.coinbase.com/ static.coinbase.com; report-uri /csp-report\"), ('ETag', 'W/\"152f0e2ed04dccb72550a9f9846c3641\"'), ('Expect-CT', 'enforce; max-age=86400; report-uri=\"https://coinbase.report-uri.io/r/default/ct/reportOnly\"'), ('Referrer-Policy', 'strict-origin-when-cross-origin'), ('Set-Cookie', 'amplitude_device_id=9c844412-5cb9-4f48-82f1-b3bbf0778bd4; path=/; secure; SameSite=Strict'), ('Strict-Transport-Security', 'max-age=31536000; includeSubDomains; preload'), ('Vary', 'Origin,Accept-Encoding'), ('X-Content-Type-Options', 'nosniff'), ('X-Download-Options', 'noopen'), ('X-Frame-Options', 'DENY'), ('X-Permitted-Cross-Domain-Policies', 'none'), ('X-Powered-By', 'Proof-of-Work'), ('X-Request-Id', 'd2667b84-8d9d-4d17-afa8-ae0849e8053e'), ('X-XSS-Protection', '1; mode=block'), ('set-cookie', '_coinbase_session=RWg4M0NacWdQYWlyckNHTDRoVmhDNDc4b0JnZzZ1SjRWT3RuNkxoR3VaV2QyZkU0bGxCUVV5S0kwZHBDOWQrN1V4QWg4VWl5VFFwM1A5YUtadVkrSFZJSG4zUUlQNkM0U1UvalNvQlF6bkx2eWgrK2tNU2o2dEhNRjl5M3UxUnItLStNVXR2UFVMZFZIS2JtK05OOEVVckE9PQ%3D%3D--67e0e7a9744930e79398ea02d14701a956003946; path=/; secure; HttpOnly'), ('Server', 'cloudflare'), ('CF-RAY', '498a8880b9c0a209-ICN')]\n",
      "\n",
      "{'data': [{'id': 'AED', 'name': 'United Arab Emirates Dirham', 'min_size': '0.01000000'}, {'id': 'AFN', 'name': 'Afghan Afghani', 'min_size': '0.01000000'}, {'id': 'ALL', 'name': 'Albanian Lek', 'min_size': '0.01000000'}, {'id': 'AMD', 'name': 'Armenian Dram', 'min_size': '0.01000000'}, {'id': 'ANG', 'name': 'Netherlands Antillean Gulden', 'min_size': '0.01000000'}, {'id': 'AOA', 'name': 'Angolan Kwanza', 'min_size': '0.01000000'}, {'id': 'ARS', 'name': 'Argentine Peso', 'min_size': '0.01000000'}, {'id': 'AUD', 'name': 'Australian Dollar', 'min_size': '0.01000000'}, {'id': 'AWG', 'name': 'Aruban Florin', 'min_size': '0.01000000'}, {'id': 'AZN', 'name': 'Azerbaijani Manat', 'min_size': '0.01000000'}, {'id': 'BAM', 'name': 'Bosnia and Herzegovina Convertible Mark', 'min_size': '0.01000000'}, {'id': 'BBD', 'name': 'Barbadian Dollar', 'min_size': '0.01000000'}, {'id': 'BDT', 'name': 'Bangladeshi Taka', 'min_size': '0.01000000'}, {'id': 'BGN', 'name': 'Bulgarian Lev', 'min_size': '0.01000000'}, {'id': 'BHD', 'name': 'Bahraini Dinar', 'min_size': '0.00100000'}, {'id': 'BIF', 'name': 'Burundian Franc', 'min_size': '1.00000000'}, {'id': 'BMD', 'name': 'Bermudian Dollar', 'min_size': '0.01000000'}, {'id': 'BND', 'name': 'Brunei Dollar', 'min_size': '0.01000000'}, {'id': 'BOB', 'name': 'Bolivian Boliviano', 'min_size': '0.01000000'}, {'id': 'BRL', 'name': 'Brazilian Real', 'min_size': '0.01000000'}, {'id': 'BSD', 'name': 'Bahamian Dollar', 'min_size': '0.01000000'}, {'id': 'BTN', 'name': 'Bhutanese Ngultrum', 'min_size': '0.01000000'}, {'id': 'BWP', 'name': 'Botswana Pula', 'min_size': '0.01000000'}, {'id': 'BYN', 'name': 'Belarusian Ruble', 'min_size': '0.01000000'}, {'id': 'BYR', 'name': 'Belarusian Ruble', 'min_size': '1.00000000'}, {'id': 'BZD', 'name': 'Belize Dollar', 'min_size': '0.01000000'}, {'id': 'CAD', 'name': 'Canadian Dollar', 'min_size': '0.01000000'}, {'id': 'CDF', 'name': 'Congolese Franc', 'min_size': '0.01000000'}, {'id': 'CHF', 'name': 'Swiss Franc', 'min_size': '0.01000000'}, {'id': 'CLF', 'name': 'Unidad de Fomento', 'min_size': '0.00010000'}, {'id': 'CLP', 'name': 'Chilean Peso', 'min_size': '1.00000000'}, {'id': 'CNH', 'name': 'Chinese Renminbi Yuan Offshore', 'min_size': '0.01000000'}, {'id': 'CNY', 'name': 'Chinese Renminbi Yuan', 'min_size': '0.01000000'}, {'id': 'COP', 'name': 'Colombian Peso', 'min_size': '0.01000000'}, {'id': 'CRC', 'name': 'Costa Rican Colón', 'min_size': '0.01000000'}, {'id': 'CUC', 'name': 'Cuban Convertible Peso', 'min_size': '0.01000000'}, {'id': 'CVE', 'name': 'Cape Verdean Escudo', 'min_size': '0.01000000'}, {'id': 'CZK', 'name': 'Czech Koruna', 'min_size': '0.01000000'}, {'id': 'DJF', 'name': 'Djiboutian Franc', 'min_size': '1.00000000'}, {'id': 'DKK', 'name': 'Danish Krone', 'min_size': '0.01000000'}, {'id': 'DOP', 'name': 'Dominican Peso', 'min_size': '0.01000000'}, {'id': 'DZD', 'name': 'Algerian Dinar', 'min_size': '0.01000000'}, {'id': 'EEK', 'name': 'Estonian Kroon', 'min_size': '0.01000000'}, {'id': 'EGP', 'name': 'Egyptian Pound', 'min_size': '0.01000000'}, {'id': 'ERN', 'name': 'Eritrean Nakfa', 'min_size': '0.01000000'}, {'id': 'ETB', 'name': 'Ethiopian Birr', 'min_size': '0.01000000'}, {'id': 'EUR', 'name': 'Euro', 'min_size': '0.01000000'}, {'id': 'FJD', 'name': 'Fijian Dollar', 'min_size': '0.01000000'}, {'id': 'FKP', 'name': 'Falkland Pound', 'min_size': '0.01000000'}, {'id': 'GBP', 'name': 'British Pound', 'min_size': '0.01000000'}, {'id': 'GEL', 'name': 'Georgian Lari', 'min_size': '0.01000000'}, {'id': 'GGP', 'name': 'Guernsey Pound', 'min_size': '0.01000000'}, {'id': 'GHS', 'name': 'Ghanaian Cedi', 'min_size': '0.01000000'}, {'id': 'GIP', 'name': 'Gibraltar Pound', 'min_size': '0.01000000'}, {'id': 'GMD', 'name': 'Gambian Dalasi', 'min_size': '0.01000000'}, {'id': 'GNF', 'name': 'Guinean Franc', 'min_size': '1.00000000'}, {'id': 'GTQ', 'name': 'Guatemalan Quetzal', 'min_size': '0.01000000'}, {'id': 'GYD', 'name': 'Guyanese Dollar', 'min_size': '0.01000000'}, {'id': 'HKD', 'name': 'Hong Kong Dollar', 'min_size': '0.01000000'}, {'id': 'HNL', 'name': 'Honduran Lempira', 'min_size': '0.01000000'}, {'id': 'HRK', 'name': 'Croatian Kuna', 'min_size': '0.01000000'}, {'id': 'HTG', 'name': 'Haitian Gourde', 'min_size': '0.01000000'}, {'id': 'HUF', 'name': 'Hungarian Forint', 'min_size': '1.00000000'}, {'id': 'IDR', 'name': 'Indonesian Rupiah', 'min_size': '0.01000000'}, {'id': 'ILS', 'name': 'Israeli New Sheqel', 'min_size': '0.01000000'}, {'id': 'IMP', 'name': 'Isle of Man Pound', 'min_size': '0.01000000'}, {'id': 'INR', 'name': 'Indian Rupee', 'min_size': '0.01000000'}, {'id': 'IQD', 'name': 'Iraqi Dinar', 'min_size': '0.00100000'}, {'id': 'ISK', 'name': 'Icelandic Króna', 'min_size': '1.00000000'}, {'id': 'JEP', 'name': 'Jersey Pound', 'min_size': '0.01000000'}, {'id': 'JMD', 'name': 'Jamaican Dollar', 'min_size': '0.01000000'}, {'id': 'JOD', 'name': 'Jordanian Dinar', 'min_size': '0.00100000'}, {'id': 'JPY', 'name': 'Japanese Yen', 'min_size': '1.00000000'}, {'id': 'KES', 'name': 'Kenyan Shilling', 'min_size': '0.01000000'}, {'id': 'KGS', 'name': 'Kyrgyzstani Som', 'min_size': '0.01000000'}, {'id': 'KHR', 'name': 'Cambodian Riel', 'min_size': '0.01000000'}, {'id': 'KMF', 'name': 'Comorian Franc', 'min_size': '1.00000000'}, {'id': 'KRW', 'name': 'South Korean Won', 'min_size': '1.00000000'}, {'id': 'KWD', 'name': 'Kuwaiti Dinar', 'min_size': '0.00100000'}, {'id': 'KYD', 'name': 'Cayman Islands Dollar', 'min_size': '0.01000000'}, {'id': 'KZT', 'name': 'Kazakhstani Tenge', 'min_size': '0.01000000'}, {'id': 'LAK', 'name': 'Lao Kip', 'min_size': '0.01000000'}, {'id': 'LBP', 'name': 'Lebanese Pound', 'min_size': '0.01000000'}, {'id': 'LKR', 'name': 'Sri Lankan Rupee', 'min_size': '0.01000000'}, {'id': 'LRD', 'name': 'Liberian Dollar', 'min_size': '0.01000000'}, {'id': 'LSL', 'name': 'Lesotho Loti', 'min_size': '0.01000000'}, {'id': 'LTL', 'name': 'Lithuanian Litas', 'min_size': '0.01000000'}, {'id': 'LVL', 'name': 'Latvian Lats', 'min_size': '0.01000000'}, {'id': 'LYD', 'name': 'Libyan Dinar', 'min_size': '0.00100000'}, {'id': 'MAD', 'name': 'Moroccan Dirham', 'min_size': '0.01000000'}, {'id': 'MDL', 'name': 'Moldovan Leu', 'min_size': '0.01000000'}, {'id': 'MGA', 'name': 'Malagasy Ariary', 'min_size': '0.20000000'}, {'id': 'MKD', 'name': 'Macedonian Denar', 'min_size': '0.01000000'}, {'id': 'MMK', 'name': 'Myanmar Kyat', 'min_size': '0.01000000'}, {'id': 'MNT', 'name': 'Mongolian Tögrög', 'min_size': '0.01000000'}, {'id': 'MOP', 'name': 'Macanese Pataca', 'min_size': '0.01000000'}, {'id': 'MRO', 'name': 'Mauritanian Ouguiya', 'min_size': '0.20000000'}, {'id': 'MTL', 'name': 'Maltese Lira', 'min_size': '0.01000000'}, {'id': 'MUR', 'name': 'Mauritian Rupee', 'min_size': '0.01000000'}, {'id': 'MVR', 'name': 'Maldivian Rufiyaa', 'min_size': '0.01000000'}, {'id': 'MWK', 'name': 'Malawian Kwacha', 'min_size': '0.01000000'}, {'id': 'MXN', 'name': 'Mexican Peso', 'min_size': '0.01000000'}, {'id': 'MYR', 'name': 'Malaysian Ringgit', 'min_size': '0.01000000'}, {'id': 'MZN', 'name': 'Mozambican Metical', 'min_size': '0.01000000'}, {'id': 'NAD', 'name': 'Namibian Dollar', 'min_size': '0.01000000'}, {'id': 'NGN', 'name': 'Nigerian Naira', 'min_size': '0.01000000'}, {'id': 'NIO', 'name': 'Nicaraguan Córdoba', 'min_size': '0.01000000'}, {'id': 'NOK', 'name': 'Norwegian Krone', 'min_size': '0.01000000'}, {'id': 'NPR', 'name': 'Nepalese Rupee', 'min_size': '0.01000000'}, {'id': 'NZD', 'name': 'New Zealand Dollar', 'min_size': '0.01000000'}, {'id': 'OMR', 'name': 'Omani Rial', 'min_size': '0.00100000'}, {'id': 'PAB', 'name': 'Panamanian Balboa', 'min_size': '0.01000000'}, {'id': 'PEN', 'name': 'Peruvian Sol', 'min_size': '0.01000000'}, {'id': 'PGK', 'name': 'Papua New Guinean Kina', 'min_size': '0.01000000'}, {'id': 'PHP', 'name': 'Philippine Peso', 'min_size': '0.01000000'}, {'id': 'PKR', 'name': 'Pakistani Rupee', 'min_size': '0.01000000'}, {'id': 'PLN', 'name': 'Polish Złoty', 'min_size': '0.01000000'}, {'id': 'PYG', 'name': 'Paraguayan Guaraní', 'min_size': '1.00000000'}, {'id': 'QAR', 'name': 'Qatari Riyal', 'min_size': '0.01000000'}, {'id': 'RON', 'name': 'Romanian Leu', 'min_size': '0.01000000'}, {'id': 'RSD', 'name': 'Serbian Dinar', 'min_size': '0.01000000'}, {'id': 'RUB', 'name': 'Russian Ruble', 'min_size': '0.01000000'}, {'id': 'RWF', 'name': 'Rwandan Franc', 'min_size': '1.00000000'}, {'id': 'SAR', 'name': 'Saudi Riyal', 'min_size': '0.01000000'}, {'id': 'SBD', 'name': 'Solomon Islands Dollar', 'min_size': '0.01000000'}, {'id': 'SCR', 'name': 'Seychellois Rupee', 'min_size': '0.01000000'}, {'id': 'SEK', 'name': 'Swedish Krona', 'min_size': '0.01000000'}, {'id': 'SGD', 'name': 'Singapore Dollar', 'min_size': '0.01000000'}, {'id': 'SHP', 'name': 'Saint Helenian Pound', 'min_size': '0.01000000'}, {'id': 'SLL', 'name': 'Sierra Leonean Leone', 'min_size': '0.01000000'}, {'id': 'SOS', 'name': 'Somali Shilling', 'min_size': '0.01000000'}, {'id': 'SRD', 'name': 'Surinamese Dollar', 'min_size': '0.01000000'}, {'id': 'SSP', 'name': 'South Sudanese Pound', 'min_size': '0.01000000'}, {'id': 'STD', 'name': 'São Tomé and Príncipe Dobra', 'min_size': '0.01000000'}, {'id': 'SVC', 'name': 'Salvadoran Colón', 'min_size': '0.01000000'}, {'id': 'SZL', 'name': 'Swazi Lilangeni', 'min_size': '0.01000000'}, {'id': 'THB', 'name': 'Thai Baht', 'min_size': '0.01000000'}, {'id': 'TJS', 'name': 'Tajikistani Somoni', 'min_size': '0.01000000'}, {'id': 'TMT', 'name': 'Turkmenistani Manat', 'min_size': '0.01000000'}, {'id': 'TND', 'name': 'Tunisian Dinar', 'min_size': '0.00100000'}, {'id': 'TOP', 'name': 'Tongan Paʻanga', 'min_size': '0.01000000'}, {'id': 'TRY', 'name': 'Turkish Lira', 'min_size': '0.01000000'}, {'id': 'TTD', 'name': 'Trinidad and Tobago Dollar', 'min_size': '0.01000000'}, {'id': 'TWD', 'name': 'New Taiwan Dollar', 'min_size': '0.01000000'}, {'id': 'TZS', 'name': 'Tanzanian Shilling', 'min_size': '0.01000000'}, {'id': 'UAH', 'name': 'Ukrainian Hryvnia', 'min_size': '0.01000000'}, {'id': 'UGX', 'name': 'Ugandan Shilling', 'min_size': '1.00000000'}, {'id': 'USD', 'name': 'United States Dollar', 'min_size': '0.01000000'}, {'id': 'UYU', 'name': 'Uruguayan Peso', 'min_size': '0.01000000'}, {'id': 'UZS', 'name': 'Uzbekistan Som', 'min_size': '0.01000000'}, {'id': 'VEF', 'name': 'Venezuelan Bolívar', 'min_size': '0.01000000'}, {'id': 'VND', 'name': 'Vietnamese Đồng', 'min_size': '1.00000000'}, {'id': 'VUV', 'name': 'Vanuatu Vatu', 'min_size': '1.00000000'}, {'id': 'WST', 'name': 'Samoan Tala', 'min_size': '0.01000000'}, {'id': 'XAF', 'name': 'Central African Cfa Franc', 'min_size': '1.00000000'}, {'id': 'XAG', 'name': 'Silver (Troy Ounce)', 'min_size': '1.00000000'}, {'id': 'XAU', 'name': 'Gold (Troy Ounce)', 'min_size': '1.00000000'}, {'id': 'XCD', 'name': 'East Caribbean Dollar', 'min_size': '0.01000000'}, {'id': 'XDR', 'name': 'Special Drawing Rights', 'min_size': '1.00000000'}, {'id': 'XOF', 'name': 'West African Cfa Franc', 'min_size': '1.00000000'}, {'id': 'XPD', 'name': 'Palladium', 'min_size': '1.00000000'}, {'id': 'XPF', 'name': 'Cfp Franc', 'min_size': '1.00000000'}, {'id': 'XPT', 'name': 'Platinum', 'min_size': '1.00000000'}, {'id': 'YER', 'name': 'Yemeni Rial', 'min_size': '0.01000000'}, {'id': 'ZAR', 'name': 'South African Rand', 'min_size': '0.01000000'}, {'id': 'ZMK', 'name': 'Zambian Kwacha', 'min_size': '0.01000000'}, {'id': 'ZMW', 'name': 'Zambian Kwacha', 'min_size': '0.01000000'}, {'id': 'ZWL', 'name': 'Zimbabwean Dollar', 'min_size': '0.01000000'}]}\n"
     ]
    }
   ],
   "source": [
    "import urllib.request\n",
    "import json\n",
    "# query_currencies = \"https://api.coinbase.com/v1/currencies/\"\n",
    "query_currencies = \"https://api.coinbase.com/v2/currencies\"\n",
    "with urllib.request.urlopen(query_currencies) as document:\n",
    "    print(document.info().items())\n",
    "    print()\n",
    "    currencies = json.loads(document.read().decode(\"utf-8\"))\n",
    "    print(currencies)"
   ]
  },
  {
   "cell_type": "code",
   "execution_count": 16,
   "metadata": {},
   "outputs": [],
   "source": [
    "currency=\"\"\n",
    "scheme_netloc_path = \"https://api.coinbase.com/v2/prices/spot_rate\"\n",
    "form={\"currency\": currency}\n",
    "query=urllib.parse.urlencode(form)"
   ]
  },
  {
   "cell_type": "code",
   "execution_count": 17,
   "metadata": {},
   "outputs": [
    {
     "data": {
      "text/plain": [
       "'currency='"
      ]
     },
     "execution_count": 17,
     "metadata": {},
     "output_type": "execute_result"
    }
   ],
   "source": [
    "query"
   ]
  },
  {
   "cell_type": "code",
   "execution_count": 18,
   "metadata": {},
   "outputs": [
    {
     "data": {
      "text/plain": [
       "'currency=EUR'"
      ]
     },
     "execution_count": 18,
     "metadata": {},
     "output_type": "execute_result"
    }
   ],
   "source": [
    "import urllib.parse\n",
    "form={\"currency\":\"EUR\"}\n",
    "urllib.parse.urlencode(form)"
   ]
  },
  {
   "cell_type": "code",
   "execution_count": 19,
   "metadata": {},
   "outputs": [
    {
     "data": {
      "text/plain": [
       "'currency=Something+with+%23+or+%3F'"
      ]
     },
     "execution_count": 19,
     "metadata": {},
     "output_type": "execute_result"
    }
   ],
   "source": [
    "form['currency']=\"Something with # or ?\"\n",
    "urllib.parse.urlencode(form)"
   ]
  },
  {
   "cell_type": "code",
   "execution_count": 22,
   "metadata": {},
   "outputs": [
    {
     "ename": "HTTPError",
     "evalue": "HTTP Error 400: Bad Request",
     "output_type": "error",
     "traceback": [
      "\u001b[1;31m---------------------------------------------------------------------------\u001b[0m",
      "\u001b[1;31mHTTPError\u001b[0m                                 Traceback (most recent call last)",
      "\u001b[1;32m<ipython-input-22-53f2ca600899>\u001b[0m in \u001b[0;36m<module>\u001b[1;34m()\u001b[0m\n\u001b[0;32m      1\u001b[0m \u001b[1;32mimport\u001b[0m \u001b[0mpprint\u001b[0m\u001b[1;33m\u001b[0m\u001b[0m\n\u001b[1;32m----> 2\u001b[1;33m \u001b[1;32mwith\u001b[0m \u001b[0murllib\u001b[0m\u001b[1;33m.\u001b[0m\u001b[0mrequest\u001b[0m\u001b[1;33m.\u001b[0m\u001b[0murlopen\u001b[0m\u001b[1;33m(\u001b[0m\u001b[0mscheme_netloc_path\u001b[0m\u001b[1;33m+\u001b[0m\u001b[1;34m\"?\"\u001b[0m\u001b[1;33m+\u001b[0m\u001b[0mquery\u001b[0m\u001b[1;33m)\u001b[0m \u001b[1;32mas\u001b[0m \u001b[0mdocument\u001b[0m\u001b[1;33m:\u001b[0m\u001b[1;33m\u001b[0m\u001b[0m\n\u001b[0m\u001b[0;32m      3\u001b[0m     \u001b[0mpprint\u001b[0m\u001b[1;33m.\u001b[0m\u001b[0mpprint\u001b[0m\u001b[1;33m(\u001b[0m\u001b[0mdocumentment\u001b[0m\u001b[1;33m.\u001b[0m\u001b[0minfo\u001b[0m\u001b[1;33m(\u001b[0m\u001b[1;33m)\u001b[0m\u001b[1;33m.\u001b[0m\u001b[0mitems\u001b[0m\u001b[1;33m(\u001b[0m\u001b[1;33m)\u001b[0m\u001b[1;33m)\u001b[0m\u001b[1;33m\u001b[0m\u001b[0m\n\u001b[0;32m      4\u001b[0m     \u001b[0mspot_rate\u001b[0m\u001b[1;33m=\u001b[0m\u001b[0mjson\u001b[0m\u001b[1;33m.\u001b[0m\u001b[0mloads\u001b[0m\u001b[1;33m(\u001b[0m\u001b[0mdocument\u001b[0m\u001b[1;33m.\u001b[0m\u001b[0mread\u001b[0m\u001b[1;33m(\u001b[0m\u001b[1;33m)\u001b[0m\u001b[1;33m.\u001b[0m\u001b[0mdecode\u001b[0m\u001b[1;33m(\u001b[0m\u001b[1;34m\"utf-8\"\u001b[0m\u001b[1;33m)\u001b[0m\u001b[1;33m)\u001b[0m\u001b[1;33m\u001b[0m\u001b[0m\n",
      "\u001b[1;32m~\\Anaconda3\\lib\\urllib\\request.py\u001b[0m in \u001b[0;36murlopen\u001b[1;34m(url, data, timeout, cafile, capath, cadefault, context)\u001b[0m\n\u001b[0;32m    220\u001b[0m     \u001b[1;32melse\u001b[0m\u001b[1;33m:\u001b[0m\u001b[1;33m\u001b[0m\u001b[0m\n\u001b[0;32m    221\u001b[0m         \u001b[0mopener\u001b[0m \u001b[1;33m=\u001b[0m \u001b[0m_opener\u001b[0m\u001b[1;33m\u001b[0m\u001b[0m\n\u001b[1;32m--> 222\u001b[1;33m     \u001b[1;32mreturn\u001b[0m \u001b[0mopener\u001b[0m\u001b[1;33m.\u001b[0m\u001b[0mopen\u001b[0m\u001b[1;33m(\u001b[0m\u001b[0murl\u001b[0m\u001b[1;33m,\u001b[0m \u001b[0mdata\u001b[0m\u001b[1;33m,\u001b[0m \u001b[0mtimeout\u001b[0m\u001b[1;33m)\u001b[0m\u001b[1;33m\u001b[0m\u001b[0m\n\u001b[0m\u001b[0;32m    223\u001b[0m \u001b[1;33m\u001b[0m\u001b[0m\n\u001b[0;32m    224\u001b[0m \u001b[1;32mdef\u001b[0m \u001b[0minstall_opener\u001b[0m\u001b[1;33m(\u001b[0m\u001b[0mopener\u001b[0m\u001b[1;33m)\u001b[0m\u001b[1;33m:\u001b[0m\u001b[1;33m\u001b[0m\u001b[0m\n",
      "\u001b[1;32m~\\Anaconda3\\lib\\urllib\\request.py\u001b[0m in \u001b[0;36mopen\u001b[1;34m(self, fullurl, data, timeout)\u001b[0m\n\u001b[0;32m    529\u001b[0m         \u001b[1;32mfor\u001b[0m \u001b[0mprocessor\u001b[0m \u001b[1;32min\u001b[0m \u001b[0mself\u001b[0m\u001b[1;33m.\u001b[0m\u001b[0mprocess_response\u001b[0m\u001b[1;33m.\u001b[0m\u001b[0mget\u001b[0m\u001b[1;33m(\u001b[0m\u001b[0mprotocol\u001b[0m\u001b[1;33m,\u001b[0m \u001b[1;33m[\u001b[0m\u001b[1;33m]\u001b[0m\u001b[1;33m)\u001b[0m\u001b[1;33m:\u001b[0m\u001b[1;33m\u001b[0m\u001b[0m\n\u001b[0;32m    530\u001b[0m             \u001b[0mmeth\u001b[0m \u001b[1;33m=\u001b[0m \u001b[0mgetattr\u001b[0m\u001b[1;33m(\u001b[0m\u001b[0mprocessor\u001b[0m\u001b[1;33m,\u001b[0m \u001b[0mmeth_name\u001b[0m\u001b[1;33m)\u001b[0m\u001b[1;33m\u001b[0m\u001b[0m\n\u001b[1;32m--> 531\u001b[1;33m             \u001b[0mresponse\u001b[0m \u001b[1;33m=\u001b[0m \u001b[0mmeth\u001b[0m\u001b[1;33m(\u001b[0m\u001b[0mreq\u001b[0m\u001b[1;33m,\u001b[0m \u001b[0mresponse\u001b[0m\u001b[1;33m)\u001b[0m\u001b[1;33m\u001b[0m\u001b[0m\n\u001b[0m\u001b[0;32m    532\u001b[0m \u001b[1;33m\u001b[0m\u001b[0m\n\u001b[0;32m    533\u001b[0m         \u001b[1;32mreturn\u001b[0m \u001b[0mresponse\u001b[0m\u001b[1;33m\u001b[0m\u001b[0m\n",
      "\u001b[1;32m~\\Anaconda3\\lib\\urllib\\request.py\u001b[0m in \u001b[0;36mhttp_response\u001b[1;34m(self, request, response)\u001b[0m\n\u001b[0;32m    639\u001b[0m         \u001b[1;32mif\u001b[0m \u001b[1;32mnot\u001b[0m \u001b[1;33m(\u001b[0m\u001b[1;36m200\u001b[0m \u001b[1;33m<=\u001b[0m \u001b[0mcode\u001b[0m \u001b[1;33m<\u001b[0m \u001b[1;36m300\u001b[0m\u001b[1;33m)\u001b[0m\u001b[1;33m:\u001b[0m\u001b[1;33m\u001b[0m\u001b[0m\n\u001b[0;32m    640\u001b[0m             response = self.parent.error(\n\u001b[1;32m--> 641\u001b[1;33m                 'http', request, response, code, msg, hdrs)\n\u001b[0m\u001b[0;32m    642\u001b[0m \u001b[1;33m\u001b[0m\u001b[0m\n\u001b[0;32m    643\u001b[0m         \u001b[1;32mreturn\u001b[0m \u001b[0mresponse\u001b[0m\u001b[1;33m\u001b[0m\u001b[0m\n",
      "\u001b[1;32m~\\Anaconda3\\lib\\urllib\\request.py\u001b[0m in \u001b[0;36merror\u001b[1;34m(self, proto, *args)\u001b[0m\n\u001b[0;32m    567\u001b[0m         \u001b[1;32mif\u001b[0m \u001b[0mhttp_err\u001b[0m\u001b[1;33m:\u001b[0m\u001b[1;33m\u001b[0m\u001b[0m\n\u001b[0;32m    568\u001b[0m             \u001b[0margs\u001b[0m \u001b[1;33m=\u001b[0m \u001b[1;33m(\u001b[0m\u001b[0mdict\u001b[0m\u001b[1;33m,\u001b[0m \u001b[1;34m'default'\u001b[0m\u001b[1;33m,\u001b[0m \u001b[1;34m'http_error_default'\u001b[0m\u001b[1;33m)\u001b[0m \u001b[1;33m+\u001b[0m \u001b[0morig_args\u001b[0m\u001b[1;33m\u001b[0m\u001b[0m\n\u001b[1;32m--> 569\u001b[1;33m             \u001b[1;32mreturn\u001b[0m \u001b[0mself\u001b[0m\u001b[1;33m.\u001b[0m\u001b[0m_call_chain\u001b[0m\u001b[1;33m(\u001b[0m\u001b[1;33m*\u001b[0m\u001b[0margs\u001b[0m\u001b[1;33m)\u001b[0m\u001b[1;33m\u001b[0m\u001b[0m\n\u001b[0m\u001b[0;32m    570\u001b[0m \u001b[1;33m\u001b[0m\u001b[0m\n\u001b[0;32m    571\u001b[0m \u001b[1;31m# XXX probably also want an abstract factory that knows when it makes\u001b[0m\u001b[1;33m\u001b[0m\u001b[1;33m\u001b[0m\u001b[0m\n",
      "\u001b[1;32m~\\Anaconda3\\lib\\urllib\\request.py\u001b[0m in \u001b[0;36m_call_chain\u001b[1;34m(self, chain, kind, meth_name, *args)\u001b[0m\n\u001b[0;32m    501\u001b[0m         \u001b[1;32mfor\u001b[0m \u001b[0mhandler\u001b[0m \u001b[1;32min\u001b[0m \u001b[0mhandlers\u001b[0m\u001b[1;33m:\u001b[0m\u001b[1;33m\u001b[0m\u001b[0m\n\u001b[0;32m    502\u001b[0m             \u001b[0mfunc\u001b[0m \u001b[1;33m=\u001b[0m \u001b[0mgetattr\u001b[0m\u001b[1;33m(\u001b[0m\u001b[0mhandler\u001b[0m\u001b[1;33m,\u001b[0m \u001b[0mmeth_name\u001b[0m\u001b[1;33m)\u001b[0m\u001b[1;33m\u001b[0m\u001b[0m\n\u001b[1;32m--> 503\u001b[1;33m             \u001b[0mresult\u001b[0m \u001b[1;33m=\u001b[0m \u001b[0mfunc\u001b[0m\u001b[1;33m(\u001b[0m\u001b[1;33m*\u001b[0m\u001b[0margs\u001b[0m\u001b[1;33m)\u001b[0m\u001b[1;33m\u001b[0m\u001b[0m\n\u001b[0m\u001b[0;32m    504\u001b[0m             \u001b[1;32mif\u001b[0m \u001b[0mresult\u001b[0m \u001b[1;32mis\u001b[0m \u001b[1;32mnot\u001b[0m \u001b[1;32mNone\u001b[0m\u001b[1;33m:\u001b[0m\u001b[1;33m\u001b[0m\u001b[0m\n\u001b[0;32m    505\u001b[0m                 \u001b[1;32mreturn\u001b[0m \u001b[0mresult\u001b[0m\u001b[1;33m\u001b[0m\u001b[0m\n",
      "\u001b[1;32m~\\Anaconda3\\lib\\urllib\\request.py\u001b[0m in \u001b[0;36mhttp_error_default\u001b[1;34m(self, req, fp, code, msg, hdrs)\u001b[0m\n\u001b[0;32m    647\u001b[0m \u001b[1;32mclass\u001b[0m \u001b[0mHTTPDefaultErrorHandler\u001b[0m\u001b[1;33m(\u001b[0m\u001b[0mBaseHandler\u001b[0m\u001b[1;33m)\u001b[0m\u001b[1;33m:\u001b[0m\u001b[1;33m\u001b[0m\u001b[0m\n\u001b[0;32m    648\u001b[0m     \u001b[1;32mdef\u001b[0m \u001b[0mhttp_error_default\u001b[0m\u001b[1;33m(\u001b[0m\u001b[0mself\u001b[0m\u001b[1;33m,\u001b[0m \u001b[0mreq\u001b[0m\u001b[1;33m,\u001b[0m \u001b[0mfp\u001b[0m\u001b[1;33m,\u001b[0m \u001b[0mcode\u001b[0m\u001b[1;33m,\u001b[0m \u001b[0mmsg\u001b[0m\u001b[1;33m,\u001b[0m \u001b[0mhdrs\u001b[0m\u001b[1;33m)\u001b[0m\u001b[1;33m:\u001b[0m\u001b[1;33m\u001b[0m\u001b[0m\n\u001b[1;32m--> 649\u001b[1;33m         \u001b[1;32mraise\u001b[0m \u001b[0mHTTPError\u001b[0m\u001b[1;33m(\u001b[0m\u001b[0mreq\u001b[0m\u001b[1;33m.\u001b[0m\u001b[0mfull_url\u001b[0m\u001b[1;33m,\u001b[0m \u001b[0mcode\u001b[0m\u001b[1;33m,\u001b[0m \u001b[0mmsg\u001b[0m\u001b[1;33m,\u001b[0m \u001b[0mhdrs\u001b[0m\u001b[1;33m,\u001b[0m \u001b[0mfp\u001b[0m\u001b[1;33m)\u001b[0m\u001b[1;33m\u001b[0m\u001b[0m\n\u001b[0m\u001b[0;32m    650\u001b[0m \u001b[1;33m\u001b[0m\u001b[0m\n\u001b[0;32m    651\u001b[0m \u001b[1;32mclass\u001b[0m \u001b[0mHTTPRedirectHandler\u001b[0m\u001b[1;33m(\u001b[0m\u001b[0mBaseHandler\u001b[0m\u001b[1;33m)\u001b[0m\u001b[1;33m:\u001b[0m\u001b[1;33m\u001b[0m\u001b[0m\n",
      "\u001b[1;31mHTTPError\u001b[0m: HTTP Error 400: Bad Request"
     ]
    }
   ],
   "source": [
    "import pprint\n",
    "with urllib.request.urlopen(scheme_netloc_path+\"?\"+query) as document:\n",
    "    pprint.pprint(documentment.info().items())\n",
    "    spot_rate=json.loads(document.read().decode(\"utf-8\"))"
   ]
  },
  {
   "cell_type": "code",
   "execution_count": 23,
   "metadata": {},
   "outputs": [
    {
     "data": {
      "text/plain": [
       "'currency='"
      ]
     },
     "execution_count": 23,
     "metadata": {},
     "output_type": "execute_result"
    }
   ],
   "source": [
    "querywith urllib.request.urlopen( query_currencies ) as document:\n",
    "    pprint.pprint( document.info().items() )\n",
    "    currencies= json.loads( document.read().decode(\"utf-8\") )\n",
    "\n",
    "print( len(currencies) )\n",
    "print( currencies )\n",
    "\n",
    "# Confirm that USD and EUR are covered.\n",
    "for country, currency in currencies:\n",
    "    if currency in ( \"USD\", \"EUR\", \"GBP\" ):\n",
    "        print( country, currency )\n",
    "\n",
    "# Part II: encode a query string.\n",
    "\n",
    "import urllib.parse\n",
    "\n",
    "def get_spot_rate( currency ):\n",
    "    scheme_netloc_path= \"https://coinbase.com/api/v1/prices/spot_rate\"\n",
    "    form= {\"currency\":currency}\n",
    "    query= urllib.parse.urlencode(form)\n",
    "\n",
    "    with urllib.request.urlopen( scheme_netloc_path+\"?\"+query ) as document:\n",
    "        spot_rate= json.loads( document.read().decode(\"utf-8\") )\n",
    "    return spot_rate\n"
   ]
  },
  {
   "cell_type": "code",
   "execution_count": null,
   "metadata": {},
   "outputs": [],
   "source": []
  }
 ],
 "metadata": {
  "kernelspec": {
   "display_name": "Python 3",
   "language": "python",
   "name": "python3"
  },
  "language_info": {
   "codemirror_mode": {
    "name": "ipython",
    "version": 3
   },
   "file_extension": ".py",
   "mimetype": "text/x-python",
   "name": "python",
   "nbconvert_exporter": "python",
   "pygments_lexer": "ipython3",
   "version": "3.7.0"
  },
  "varInspector": {
   "cols": {
    "lenName": 16,
    "lenType": 16,
    "lenVar": 40
   },
   "kernels_config": {
    "python": {
     "delete_cmd_postfix": "",
     "delete_cmd_prefix": "del ",
     "library": "var_list.py",
     "varRefreshCmd": "print(var_dic_list())"
    },
    "r": {
     "delete_cmd_postfix": ") ",
     "delete_cmd_prefix": "rm(",
     "library": "var_list.r",
     "varRefreshCmd": "cat(var_dic_list()) "
    }
   },
   "types_to_exclude": [
    "module",
    "function",
    "builtin_function_or_method",
    "instance",
    "_Feature"
   ],
   "window_display": false
  }
 },
 "nbformat": 4,
 "nbformat_minor": 2
}
